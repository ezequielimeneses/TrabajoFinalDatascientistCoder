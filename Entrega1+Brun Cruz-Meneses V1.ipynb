{
 "cells": [
  {
   "cell_type": "code",
   "execution_count": 1,
   "metadata": {},
   "outputs": [],
   "source": [
    "import pandas as pd\n",
    "import numpy as np\n",
    "import seaborn as sns\n",
    "from seaborn import boxplot\n",
    "from seaborn import countplot\n",
    "from seaborn import distplot\n",
    "from geopy.geocoders import ArcGIS\n",
    "from geopy.distance import geodesic\n",
    "from geopy.geocoders import Nominatim\n",
    "from haversine import haversine\n",
    "import matplotlib.pyplot as plt\n",
    "from seaborn import heatmap\n",
    "geolocator = Nominatim(user_agent=\"geoapiExercises\")\n",
    "from datetime import *"
   ]
  },
  {
   "cell_type": "markdown",
   "metadata": {},
   "source": [
    "### Importo el Dataset"
   ]
  },
  {
   "cell_type": "code",
   "execution_count": 2,
   "metadata": {},
   "outputs": [],
   "source": [
    "df=pd.read_csv(\"https://raw.githubusercontent.com/ezequielimeneses/TrabajoFinalDatascientistCoder/9ce01a9d9600daddcd290ab33e5988ebaaf9f6b0/uber.csv\")\n"
   ]
  },
  {
   "cell_type": "markdown",
   "metadata": {},
   "source": [
    "### Verifico que se haya cargado bien el dataset"
   ]
  },
  {
   "cell_type": "code",
   "execution_count": 3,
   "metadata": {},
   "outputs": [
    {
     "data": {
      "text/html": [
       "<div>\n",
       "<style scoped>\n",
       "    .dataframe tbody tr th:only-of-type {\n",
       "        vertical-align: middle;\n",
       "    }\n",
       "\n",
       "    .dataframe tbody tr th {\n",
       "        vertical-align: top;\n",
       "    }\n",
       "\n",
       "    .dataframe thead th {\n",
       "        text-align: right;\n",
       "    }\n",
       "</style>\n",
       "<table border=\"1\" class=\"dataframe\">\n",
       "  <thead>\n",
       "    <tr style=\"text-align: right;\">\n",
       "      <th></th>\n",
       "      <th>Unnamed: 0</th>\n",
       "      <th>key</th>\n",
       "      <th>fare_amount</th>\n",
       "      <th>pickup_datetime</th>\n",
       "      <th>pickup_longitude</th>\n",
       "      <th>pickup_latitude</th>\n",
       "      <th>dropoff_longitude</th>\n",
       "      <th>dropoff_latitude</th>\n",
       "      <th>passenger_count</th>\n",
       "    </tr>\n",
       "  </thead>\n",
       "  <tbody>\n",
       "    <tr>\n",
       "      <th>0</th>\n",
       "      <td>24238194</td>\n",
       "      <td>2015-05-07 19:52:06.0000003</td>\n",
       "      <td>7.5</td>\n",
       "      <td>2015-05-07 19:52:06 UTC</td>\n",
       "      <td>-73.999817</td>\n",
       "      <td>40.738354</td>\n",
       "      <td>-73.999512</td>\n",
       "      <td>40.723217</td>\n",
       "      <td>1</td>\n",
       "    </tr>\n",
       "    <tr>\n",
       "      <th>1</th>\n",
       "      <td>27835199</td>\n",
       "      <td>2009-07-17 20:04:56.0000002</td>\n",
       "      <td>7.7</td>\n",
       "      <td>2009-07-17 20:04:56 UTC</td>\n",
       "      <td>-73.994355</td>\n",
       "      <td>40.728225</td>\n",
       "      <td>-73.994710</td>\n",
       "      <td>40.750325</td>\n",
       "      <td>1</td>\n",
       "    </tr>\n",
       "    <tr>\n",
       "      <th>2</th>\n",
       "      <td>44984355</td>\n",
       "      <td>2009-08-24 21:45:00.00000061</td>\n",
       "      <td>12.9</td>\n",
       "      <td>2009-08-24 21:45:00 UTC</td>\n",
       "      <td>-74.005043</td>\n",
       "      <td>40.740770</td>\n",
       "      <td>-73.962565</td>\n",
       "      <td>40.772647</td>\n",
       "      <td>1</td>\n",
       "    </tr>\n",
       "    <tr>\n",
       "      <th>3</th>\n",
       "      <td>25894730</td>\n",
       "      <td>2009-06-26 08:22:21.0000001</td>\n",
       "      <td>5.3</td>\n",
       "      <td>2009-06-26 08:22:21 UTC</td>\n",
       "      <td>-73.976124</td>\n",
       "      <td>40.790844</td>\n",
       "      <td>-73.965316</td>\n",
       "      <td>40.803349</td>\n",
       "      <td>3</td>\n",
       "    </tr>\n",
       "    <tr>\n",
       "      <th>4</th>\n",
       "      <td>17610152</td>\n",
       "      <td>2014-08-28 17:47:00.000000188</td>\n",
       "      <td>16.0</td>\n",
       "      <td>2014-08-28 17:47:00 UTC</td>\n",
       "      <td>-73.925023</td>\n",
       "      <td>40.744085</td>\n",
       "      <td>-73.973082</td>\n",
       "      <td>40.761247</td>\n",
       "      <td>5</td>\n",
       "    </tr>\n",
       "  </tbody>\n",
       "</table>\n",
       "</div>"
      ],
      "text/plain": [
       "   Unnamed: 0                            key  fare_amount  \\\n",
       "0    24238194    2015-05-07 19:52:06.0000003          7.5   \n",
       "1    27835199    2009-07-17 20:04:56.0000002          7.7   \n",
       "2    44984355   2009-08-24 21:45:00.00000061         12.9   \n",
       "3    25894730    2009-06-26 08:22:21.0000001          5.3   \n",
       "4    17610152  2014-08-28 17:47:00.000000188         16.0   \n",
       "\n",
       "           pickup_datetime  pickup_longitude  pickup_latitude  \\\n",
       "0  2015-05-07 19:52:06 UTC        -73.999817        40.738354   \n",
       "1  2009-07-17 20:04:56 UTC        -73.994355        40.728225   \n",
       "2  2009-08-24 21:45:00 UTC        -74.005043        40.740770   \n",
       "3  2009-06-26 08:22:21 UTC        -73.976124        40.790844   \n",
       "4  2014-08-28 17:47:00 UTC        -73.925023        40.744085   \n",
       "\n",
       "   dropoff_longitude  dropoff_latitude  passenger_count  \n",
       "0         -73.999512         40.723217                1  \n",
       "1         -73.994710         40.750325                1  \n",
       "2         -73.962565         40.772647                1  \n",
       "3         -73.965316         40.803349                3  \n",
       "4         -73.973082         40.761247                5  "
      ]
     },
     "execution_count": 3,
     "metadata": {},
     "output_type": "execute_result"
    }
   ],
   "source": [
    "df.head()"
   ]
  },
  {
   "cell_type": "markdown",
   "metadata": {},
   "source": [
    "### Miro datos básicos de cada columna"
   ]
  },
  {
   "cell_type": "code",
   "execution_count": 4,
   "metadata": {},
   "outputs": [
    {
     "data": {
      "text/plain": [
       "(200000, 9)"
      ]
     },
     "execution_count": 4,
     "metadata": {},
     "output_type": "execute_result"
    }
   ],
   "source": [
    "df.shape"
   ]
  },
  {
   "cell_type": "code",
   "execution_count": 5,
   "metadata": {},
   "outputs": [
    {
     "data": {
      "text/plain": [
       "Unnamed: 0           200000\n",
       "key                  200000\n",
       "fare_amount          200000\n",
       "pickup_datetime      200000\n",
       "pickup_longitude     200000\n",
       "pickup_latitude      200000\n",
       "dropoff_longitude    199999\n",
       "dropoff_latitude     199999\n",
       "passenger_count      200000\n",
       "dtype: int64"
      ]
     },
     "execution_count": 5,
     "metadata": {},
     "output_type": "execute_result"
    }
   ],
   "source": [
    "df.count()"
   ]
  },
  {
   "cell_type": "code",
   "execution_count": 6,
   "metadata": {},
   "outputs": [
    {
     "name": "stdout",
     "output_type": "stream",
     "text": [
      "<class 'pandas.core.frame.DataFrame'>\n",
      "RangeIndex: 200000 entries, 0 to 199999\n",
      "Data columns (total 9 columns):\n",
      " #   Column             Non-Null Count   Dtype  \n",
      "---  ------             --------------   -----  \n",
      " 0   Unnamed: 0         200000 non-null  int64  \n",
      " 1   key                200000 non-null  object \n",
      " 2   fare_amount        200000 non-null  float64\n",
      " 3   pickup_datetime    200000 non-null  object \n",
      " 4   pickup_longitude   200000 non-null  float64\n",
      " 5   pickup_latitude    200000 non-null  float64\n",
      " 6   dropoff_longitude  199999 non-null  float64\n",
      " 7   dropoff_latitude   199999 non-null  float64\n",
      " 8   passenger_count    200000 non-null  int64  \n",
      "dtypes: float64(5), int64(2), object(2)\n",
      "memory usage: 13.7+ MB\n"
     ]
    }
   ],
   "source": [
    "df.info()"
   ]
  },
  {
   "cell_type": "code",
   "execution_count": 7,
   "metadata": {},
   "outputs": [
    {
     "data": {
      "text/html": [
       "<div>\n",
       "<style scoped>\n",
       "    .dataframe tbody tr th:only-of-type {\n",
       "        vertical-align: middle;\n",
       "    }\n",
       "\n",
       "    .dataframe tbody tr th {\n",
       "        vertical-align: top;\n",
       "    }\n",
       "\n",
       "    .dataframe thead th {\n",
       "        text-align: right;\n",
       "    }\n",
       "</style>\n",
       "<table border=\"1\" class=\"dataframe\">\n",
       "  <thead>\n",
       "    <tr style=\"text-align: right;\">\n",
       "      <th></th>\n",
       "      <th>Unnamed: 0</th>\n",
       "      <th>fare_amount</th>\n",
       "      <th>pickup_longitude</th>\n",
       "      <th>pickup_latitude</th>\n",
       "      <th>dropoff_longitude</th>\n",
       "      <th>dropoff_latitude</th>\n",
       "      <th>passenger_count</th>\n",
       "    </tr>\n",
       "  </thead>\n",
       "  <tbody>\n",
       "    <tr>\n",
       "      <th>count</th>\n",
       "      <td>2.000000e+05</td>\n",
       "      <td>200000.000000</td>\n",
       "      <td>200000.000000</td>\n",
       "      <td>200000.000000</td>\n",
       "      <td>199999.000000</td>\n",
       "      <td>199999.000000</td>\n",
       "      <td>200000.000000</td>\n",
       "    </tr>\n",
       "    <tr>\n",
       "      <th>mean</th>\n",
       "      <td>2.771250e+07</td>\n",
       "      <td>11.359955</td>\n",
       "      <td>-72.527638</td>\n",
       "      <td>39.935885</td>\n",
       "      <td>-72.525292</td>\n",
       "      <td>39.923890</td>\n",
       "      <td>1.684535</td>\n",
       "    </tr>\n",
       "    <tr>\n",
       "      <th>std</th>\n",
       "      <td>1.601382e+07</td>\n",
       "      <td>9.901776</td>\n",
       "      <td>11.437787</td>\n",
       "      <td>7.720539</td>\n",
       "      <td>13.117408</td>\n",
       "      <td>6.794829</td>\n",
       "      <td>1.385997</td>\n",
       "    </tr>\n",
       "    <tr>\n",
       "      <th>min</th>\n",
       "      <td>1.000000e+00</td>\n",
       "      <td>-52.000000</td>\n",
       "      <td>-1340.648410</td>\n",
       "      <td>-74.015515</td>\n",
       "      <td>-3356.666300</td>\n",
       "      <td>-881.985513</td>\n",
       "      <td>0.000000</td>\n",
       "    </tr>\n",
       "    <tr>\n",
       "      <th>25%</th>\n",
       "      <td>1.382535e+07</td>\n",
       "      <td>6.000000</td>\n",
       "      <td>-73.992065</td>\n",
       "      <td>40.734796</td>\n",
       "      <td>-73.991407</td>\n",
       "      <td>40.733823</td>\n",
       "      <td>1.000000</td>\n",
       "    </tr>\n",
       "    <tr>\n",
       "      <th>50%</th>\n",
       "      <td>2.774550e+07</td>\n",
       "      <td>8.500000</td>\n",
       "      <td>-73.981823</td>\n",
       "      <td>40.752592</td>\n",
       "      <td>-73.980093</td>\n",
       "      <td>40.753042</td>\n",
       "      <td>1.000000</td>\n",
       "    </tr>\n",
       "    <tr>\n",
       "      <th>75%</th>\n",
       "      <td>4.155530e+07</td>\n",
       "      <td>12.500000</td>\n",
       "      <td>-73.967154</td>\n",
       "      <td>40.767158</td>\n",
       "      <td>-73.963658</td>\n",
       "      <td>40.768001</td>\n",
       "      <td>2.000000</td>\n",
       "    </tr>\n",
       "    <tr>\n",
       "      <th>max</th>\n",
       "      <td>5.542357e+07</td>\n",
       "      <td>499.000000</td>\n",
       "      <td>57.418457</td>\n",
       "      <td>1644.421482</td>\n",
       "      <td>1153.572603</td>\n",
       "      <td>872.697628</td>\n",
       "      <td>208.000000</td>\n",
       "    </tr>\n",
       "  </tbody>\n",
       "</table>\n",
       "</div>"
      ],
      "text/plain": [
       "         Unnamed: 0    fare_amount  pickup_longitude  pickup_latitude  \\\n",
       "count  2.000000e+05  200000.000000     200000.000000    200000.000000   \n",
       "mean   2.771250e+07      11.359955        -72.527638        39.935885   \n",
       "std    1.601382e+07       9.901776         11.437787         7.720539   \n",
       "min    1.000000e+00     -52.000000      -1340.648410       -74.015515   \n",
       "25%    1.382535e+07       6.000000        -73.992065        40.734796   \n",
       "50%    2.774550e+07       8.500000        -73.981823        40.752592   \n",
       "75%    4.155530e+07      12.500000        -73.967154        40.767158   \n",
       "max    5.542357e+07     499.000000         57.418457      1644.421482   \n",
       "\n",
       "       dropoff_longitude  dropoff_latitude  passenger_count  \n",
       "count      199999.000000     199999.000000    200000.000000  \n",
       "mean          -72.525292         39.923890         1.684535  \n",
       "std            13.117408          6.794829         1.385997  \n",
       "min         -3356.666300       -881.985513         0.000000  \n",
       "25%           -73.991407         40.733823         1.000000  \n",
       "50%           -73.980093         40.753042         1.000000  \n",
       "75%           -73.963658         40.768001         2.000000  \n",
       "max          1153.572603        872.697628       208.000000  "
      ]
     },
     "execution_count": 7,
     "metadata": {},
     "output_type": "execute_result"
    }
   ],
   "source": [
    "df.describe()"
   ]
  },
  {
   "cell_type": "markdown",
   "metadata": {},
   "source": [
    "La primer conclusión es que tengo las dos variables numéricas ( cantidad de pasajeros y tarifas) y el resto son variables categóricas (latitud y longitud del comienzo y fin de cada viaje). Tambiéne sta la columna date time con la fecha y hora de cmoienzo del viaje\n",
    "\n",
    "Se tienen entonces 7 columnas con 199.996 registros (viajes) "
   ]
  },
  {
   "cell_type": "markdown",
   "metadata": {},
   "source": [
    "### Elimino la primer columna que no suma para el análisis"
   ]
  },
  {
   "cell_type": "code",
   "execution_count": 8,
   "metadata": {},
   "outputs": [
    {
     "data": {
      "text/html": [
       "<div>\n",
       "<style scoped>\n",
       "    .dataframe tbody tr th:only-of-type {\n",
       "        vertical-align: middle;\n",
       "    }\n",
       "\n",
       "    .dataframe tbody tr th {\n",
       "        vertical-align: top;\n",
       "    }\n",
       "\n",
       "    .dataframe thead th {\n",
       "        text-align: right;\n",
       "    }\n",
       "</style>\n",
       "<table border=\"1\" class=\"dataframe\">\n",
       "  <thead>\n",
       "    <tr style=\"text-align: right;\">\n",
       "      <th></th>\n",
       "      <th>key</th>\n",
       "      <th>fare_amount</th>\n",
       "      <th>pickup_datetime</th>\n",
       "      <th>pickup_longitude</th>\n",
       "      <th>pickup_latitude</th>\n",
       "      <th>dropoff_longitude</th>\n",
       "      <th>dropoff_latitude</th>\n",
       "      <th>passenger_count</th>\n",
       "    </tr>\n",
       "  </thead>\n",
       "  <tbody>\n",
       "    <tr>\n",
       "      <th>0</th>\n",
       "      <td>2015-05-07 19:52:06.0000003</td>\n",
       "      <td>7.5</td>\n",
       "      <td>2015-05-07 19:52:06 UTC</td>\n",
       "      <td>-73.999817</td>\n",
       "      <td>40.738354</td>\n",
       "      <td>-73.999512</td>\n",
       "      <td>40.723217</td>\n",
       "      <td>1</td>\n",
       "    </tr>\n",
       "    <tr>\n",
       "      <th>1</th>\n",
       "      <td>2009-07-17 20:04:56.0000002</td>\n",
       "      <td>7.7</td>\n",
       "      <td>2009-07-17 20:04:56 UTC</td>\n",
       "      <td>-73.994355</td>\n",
       "      <td>40.728225</td>\n",
       "      <td>-73.994710</td>\n",
       "      <td>40.750325</td>\n",
       "      <td>1</td>\n",
       "    </tr>\n",
       "    <tr>\n",
       "      <th>2</th>\n",
       "      <td>2009-08-24 21:45:00.00000061</td>\n",
       "      <td>12.9</td>\n",
       "      <td>2009-08-24 21:45:00 UTC</td>\n",
       "      <td>-74.005043</td>\n",
       "      <td>40.740770</td>\n",
       "      <td>-73.962565</td>\n",
       "      <td>40.772647</td>\n",
       "      <td>1</td>\n",
       "    </tr>\n",
       "    <tr>\n",
       "      <th>3</th>\n",
       "      <td>2009-06-26 08:22:21.0000001</td>\n",
       "      <td>5.3</td>\n",
       "      <td>2009-06-26 08:22:21 UTC</td>\n",
       "      <td>-73.976124</td>\n",
       "      <td>40.790844</td>\n",
       "      <td>-73.965316</td>\n",
       "      <td>40.803349</td>\n",
       "      <td>3</td>\n",
       "    </tr>\n",
       "    <tr>\n",
       "      <th>4</th>\n",
       "      <td>2014-08-28 17:47:00.000000188</td>\n",
       "      <td>16.0</td>\n",
       "      <td>2014-08-28 17:47:00 UTC</td>\n",
       "      <td>-73.925023</td>\n",
       "      <td>40.744085</td>\n",
       "      <td>-73.973082</td>\n",
       "      <td>40.761247</td>\n",
       "      <td>5</td>\n",
       "    </tr>\n",
       "    <tr>\n",
       "      <th>...</th>\n",
       "      <td>...</td>\n",
       "      <td>...</td>\n",
       "      <td>...</td>\n",
       "      <td>...</td>\n",
       "      <td>...</td>\n",
       "      <td>...</td>\n",
       "      <td>...</td>\n",
       "      <td>...</td>\n",
       "    </tr>\n",
       "    <tr>\n",
       "      <th>199995</th>\n",
       "      <td>2012-10-28 10:49:00.00000053</td>\n",
       "      <td>3.0</td>\n",
       "      <td>2012-10-28 10:49:00 UTC</td>\n",
       "      <td>-73.987042</td>\n",
       "      <td>40.739367</td>\n",
       "      <td>-73.986525</td>\n",
       "      <td>40.740297</td>\n",
       "      <td>1</td>\n",
       "    </tr>\n",
       "    <tr>\n",
       "      <th>199996</th>\n",
       "      <td>2014-03-14 01:09:00.0000008</td>\n",
       "      <td>7.5</td>\n",
       "      <td>2014-03-14 01:09:00 UTC</td>\n",
       "      <td>-73.984722</td>\n",
       "      <td>40.736837</td>\n",
       "      <td>-74.006672</td>\n",
       "      <td>40.739620</td>\n",
       "      <td>1</td>\n",
       "    </tr>\n",
       "    <tr>\n",
       "      <th>199997</th>\n",
       "      <td>2009-06-29 00:42:00.00000078</td>\n",
       "      <td>30.9</td>\n",
       "      <td>2009-06-29 00:42:00 UTC</td>\n",
       "      <td>-73.986017</td>\n",
       "      <td>40.756487</td>\n",
       "      <td>-73.858957</td>\n",
       "      <td>40.692588</td>\n",
       "      <td>2</td>\n",
       "    </tr>\n",
       "    <tr>\n",
       "      <th>199998</th>\n",
       "      <td>2015-05-20 14:56:25.0000004</td>\n",
       "      <td>14.5</td>\n",
       "      <td>2015-05-20 14:56:25 UTC</td>\n",
       "      <td>-73.997124</td>\n",
       "      <td>40.725452</td>\n",
       "      <td>-73.983215</td>\n",
       "      <td>40.695415</td>\n",
       "      <td>1</td>\n",
       "    </tr>\n",
       "    <tr>\n",
       "      <th>199999</th>\n",
       "      <td>2010-05-15 04:08:00.00000076</td>\n",
       "      <td>14.1</td>\n",
       "      <td>2010-05-15 04:08:00 UTC</td>\n",
       "      <td>-73.984395</td>\n",
       "      <td>40.720077</td>\n",
       "      <td>-73.985508</td>\n",
       "      <td>40.768793</td>\n",
       "      <td>1</td>\n",
       "    </tr>\n",
       "  </tbody>\n",
       "</table>\n",
       "<p>200000 rows × 8 columns</p>\n",
       "</div>"
      ],
      "text/plain": [
       "                                  key  fare_amount          pickup_datetime  \\\n",
       "0         2015-05-07 19:52:06.0000003          7.5  2015-05-07 19:52:06 UTC   \n",
       "1         2009-07-17 20:04:56.0000002          7.7  2009-07-17 20:04:56 UTC   \n",
       "2        2009-08-24 21:45:00.00000061         12.9  2009-08-24 21:45:00 UTC   \n",
       "3         2009-06-26 08:22:21.0000001          5.3  2009-06-26 08:22:21 UTC   \n",
       "4       2014-08-28 17:47:00.000000188         16.0  2014-08-28 17:47:00 UTC   \n",
       "...                               ...          ...                      ...   \n",
       "199995   2012-10-28 10:49:00.00000053          3.0  2012-10-28 10:49:00 UTC   \n",
       "199996    2014-03-14 01:09:00.0000008          7.5  2014-03-14 01:09:00 UTC   \n",
       "199997   2009-06-29 00:42:00.00000078         30.9  2009-06-29 00:42:00 UTC   \n",
       "199998    2015-05-20 14:56:25.0000004         14.5  2015-05-20 14:56:25 UTC   \n",
       "199999   2010-05-15 04:08:00.00000076         14.1  2010-05-15 04:08:00 UTC   \n",
       "\n",
       "        pickup_longitude  pickup_latitude  dropoff_longitude  \\\n",
       "0             -73.999817        40.738354         -73.999512   \n",
       "1             -73.994355        40.728225         -73.994710   \n",
       "2             -74.005043        40.740770         -73.962565   \n",
       "3             -73.976124        40.790844         -73.965316   \n",
       "4             -73.925023        40.744085         -73.973082   \n",
       "...                  ...              ...                ...   \n",
       "199995        -73.987042        40.739367         -73.986525   \n",
       "199996        -73.984722        40.736837         -74.006672   \n",
       "199997        -73.986017        40.756487         -73.858957   \n",
       "199998        -73.997124        40.725452         -73.983215   \n",
       "199999        -73.984395        40.720077         -73.985508   \n",
       "\n",
       "        dropoff_latitude  passenger_count  \n",
       "0              40.723217                1  \n",
       "1              40.750325                1  \n",
       "2              40.772647                1  \n",
       "3              40.803349                3  \n",
       "4              40.761247                5  \n",
       "...                  ...              ...  \n",
       "199995         40.740297                1  \n",
       "199996         40.739620                1  \n",
       "199997         40.692588                2  \n",
       "199998         40.695415                1  \n",
       "199999         40.768793                1  \n",
       "\n",
       "[200000 rows x 8 columns]"
      ]
     },
     "execution_count": 8,
     "metadata": {},
     "output_type": "execute_result"
    }
   ],
   "source": [
    "df=df.iloc[:,1:]\n",
    "df"
   ]
  },
  {
   "cell_type": "markdown",
   "metadata": {},
   "source": [
    "## Ejemplos Análisis univariado "
   ]
  },
  {
   "cell_type": "code",
   "execution_count": 9,
   "metadata": {},
   "outputs": [
    {
     "data": {
      "text/plain": [
       "<matplotlib.axes._subplots.AxesSubplot at 0x25a51f90dc8>"
      ]
     },
     "execution_count": 9,
     "metadata": {},
     "output_type": "execute_result"
    },
    {
     "data": {
      "image/png": "[encoded data removed]",
      "text/plain": [
       "<Figure size 432x288 with 1 Axes>"
      ]
     },
     "metadata": {
      "needs_background": "light"
     },
     "output_type": "display_data"
    }
   ],
   "source": [
    "boxplot(df.fare_amount, orient=\"v\",width=0.8,fliersize=5)"
   ]
  },
  {
   "cell_type": "code",
   "execution_count": 10,
   "metadata": {},
   "outputs": [
    {
     "data": {
      "text/plain": [
       "<matplotlib.axes._subplots.AxesSubplot at 0x25a51e9aa08>"
      ]
     },
     "execution_count": 10,
     "metadata": {},
     "output_type": "execute_result"
    },
    {
     "data": {
      "image/png": "[encoded data removed]",
      "text/plain": [
       "<Figure size 432x288 with 1 Axes>"
      ]
     },
     "metadata": {
      "needs_background": "light"
     },
     "output_type": "display_data"
    }
   ],
   "source": [
    "distplot(df.fare_amount)"
   ]
  },
  {
   "cell_type": "markdown",
   "metadata": {},
   "source": [
    "Cómo se ve gráficamente, hay una dispersión muy grande en los datos. Para hacer un análisis mejor podría quedarme con los registros con tarifa menor a 100 (considerando que estos son los signifactivos)"
   ]
  },
  {
   "cell_type": "code",
   "execution_count": 11,
   "metadata": {},
   "outputs": [],
   "source": [
    "tarifas_entre0y100=(df.fare_amount<100)&(df.fare_amount>0)"
   ]
  },
  {
   "cell_type": "code",
   "execution_count": 12,
   "metadata": {},
   "outputs": [
    {
     "data": {
      "text/plain": [
       "0         True\n",
       "1         True\n",
       "2         True\n",
       "3         True\n",
       "4         True\n",
       "          ... \n",
       "199995    True\n",
       "199996    True\n",
       "199997    True\n",
       "199998    True\n",
       "199999    True\n",
       "Name: fare_amount, Length: 200000, dtype: bool"
      ]
     },
     "execution_count": 12,
     "metadata": {},
     "output_type": "execute_result"
    }
   ],
   "source": [
    "tarifas_entre0y100"
   ]
  },
  {
   "cell_type": "code",
   "execution_count": 13,
   "metadata": {},
   "outputs": [
    {
     "data": {
      "text/plain": [
       "(199888, 8)"
      ]
     },
     "execution_count": 13,
     "metadata": {},
     "output_type": "execute_result"
    }
   ],
   "source": [
    "df_tarifas_menores_a_100=df[tarifas_entre0y100]\n",
    "df_tarifas_menores_a_100.shape"
   ]
  },
  {
   "cell_type": "code",
   "execution_count": 14,
   "metadata": {},
   "outputs": [
    {
     "data": {
      "text/plain": [
       "<matplotlib.axes._subplots.AxesSubplot at 0x25a52d30388>"
      ]
     },
     "execution_count": 14,
     "metadata": {},
     "output_type": "execute_result"
    },
    {
     "data": {
      "image/png": "[encoded data removed]",
      "text/plain": [
       "<Figure size 432x288 with 1 Axes>"
      ]
     },
     "metadata": {
      "needs_background": "light"
     },
     "output_type": "display_data"
    }
   ],
   "source": [
    "boxplot(df_tarifas_menores_a_100.fare_amount,orient=\"v\")"
   ]
  },
  {
   "cell_type": "code",
   "execution_count": 15,
   "metadata": {},
   "outputs": [
    {
     "data": {
      "text/plain": [
       "<matplotlib.axes._subplots.AxesSubplot at 0x25a503c1448>"
      ]
     },
     "execution_count": 15,
     "metadata": {},
     "output_type": "execute_result"
    },
    {
     "data": {
      "image/png": "[encoded data removed]",
      "text/plain": [
       "<Figure size 432x288 with 1 Axes>"
      ]
     },
     "metadata": {
      "needs_background": "light"
     },
     "output_type": "display_data"
    }
   ],
   "source": [
    "distplot(df_tarifas_menores_a_100.fare_amount)"
   ]
  },
  {
   "cell_type": "markdown",
   "metadata": {},
   "source": [
    "Perdiendo pocos registros, 111 (0,05% del total inicial), se puede observar mucho mejor la información y hacer un análisis más valioso. Igualmente se sigue viendo, que dentro de ese rango, los datos se encuentran dispersos ya que la frecuencia máxima es un poco más del 10%."
   ]
  },
  {
   "cell_type": "code",
   "execution_count": 16,
   "metadata": {},
   "outputs": [
    {
     "data": {
      "text/plain": [
       "<matplotlib.axes._subplots.AxesSubplot at 0x25a52df2208>"
      ]
     },
     "execution_count": 16,
     "metadata": {},
     "output_type": "execute_result"
    },
    {
     "data": {
      "image/png": "[encoded data removed]",
      "text/plain": [
       "<Figure size 432x288 with 1 Axes>"
      ]
     },
     "metadata": {
      "needs_background": "light"
     },
     "output_type": "display_data"
    }
   ],
   "source": [
    "boxplot(df.passenger_count,orient=\"v\")"
   ]
  },
  {
   "cell_type": "markdown",
   "metadata": {},
   "source": [
    "Lo mismo podemos hacer con esta columna y eliminar el outlier de 200 pasajeros (que no tiene sentido lógico)"
   ]
  },
  {
   "cell_type": "code",
   "execution_count": 17,
   "metadata": {},
   "outputs": [
    {
     "data": {
      "text/plain": [
       "<matplotlib.axes._subplots.AxesSubplot at 0x25a53e91d08>"
      ]
     },
     "execution_count": 17,
     "metadata": {},
     "output_type": "execute_result"
    },
    {
     "data": {
      "image/png": "[encoded data removed]",
      "text/plain": [
       "<Figure size 432x288 with 1 Axes>"
      ]
     },
     "metadata": {
      "needs_background": "light"
     },
     "output_type": "display_data"
    }
   ],
   "source": [
    "countplot(df.passenger_count)"
   ]
  },
  {
   "cell_type": "code",
   "execution_count": 18,
   "metadata": {},
   "outputs": [],
   "source": [
    "pasajeros = df.passenger_count<=6"
   ]
  },
  {
   "cell_type": "code",
   "execution_count": 19,
   "metadata": {},
   "outputs": [],
   "source": [
    "df_sin_208_pasajeros=df[pasajeros]"
   ]
  },
  {
   "cell_type": "code",
   "execution_count": 20,
   "metadata": {},
   "outputs": [
    {
     "data": {
      "text/plain": [
       "<matplotlib.axes._subplots.AxesSubplot at 0x25a53f29b88>"
      ]
     },
     "execution_count": 20,
     "metadata": {},
     "output_type": "execute_result"
    },
    {
     "data": {
      "image/png": "[encoded data removed]",
      "text/plain": [
       "<Figure size 432x288 with 1 Axes>"
      ]
     },
     "metadata": {
      "needs_background": "light"
     },
     "output_type": "display_data"
    }
   ],
   "source": [
    "countplot(df_sin_208_pasajeros.passenger_count)"
   ]
  },
  {
   "cell_type": "code",
   "execution_count": 21,
   "metadata": {},
   "outputs": [
    {
     "data": {
      "text/plain": [
       "1    138425\n",
       "2     29428\n",
       "5     14009\n",
       "3      8881\n",
       "4      4276\n",
       "6      4271\n",
       "0       709\n",
       "Name: passenger_count, dtype: int64"
      ]
     },
     "execution_count": 21,
     "metadata": {},
     "output_type": "execute_result"
    }
   ],
   "source": [
    "frecuencia_cuenta_pasajeros=df_sin_208_pasajeros.passenger_count.value_counts()\n",
    "frecuencia_cuenta_pasajeros"
   ]
  },
  {
   "cell_type": "code",
   "execution_count": 22,
   "metadata": {},
   "outputs": [
    {
     "data": {
      "text/plain": [
       "<matplotlib.axes._subplots.AxesSubplot at 0x25a53f95c48>"
      ]
     },
     "execution_count": 22,
     "metadata": {},
     "output_type": "execute_result"
    },
    {
     "data": {
      "image/png": "[encoded data removed]",
      "text/plain": [
       "<Figure size 432x288 with 1 Axes>"
      ]
     },
     "metadata": {
      "needs_background": "light"
     },
     "output_type": "display_data"
    }
   ],
   "source": [
    "boxplot(df_sin_208_pasajeros.passenger_count,orient=\"v\")"
   ]
  },
  {
   "cell_type": "markdown",
   "metadata": {},
   "source": [
    "Como vemos, la gran cantidad de viajes fueron con un pasajero. Podemos ver, como tiene sentido, que los viajes fueron desde 1 a 6 pasajeros y habría que seguir averiguando (con el dueño del dataset si esto fuera posible) a que se debe esa cantidad de viajes con 0 pasajeros para ver si se podrían eliminar para no ensuciar la información. "
   ]
  },
  {
   "cell_type": "markdown",
   "metadata": {},
   "source": [
    "## Ejemplo Análisis Bivariado "
   ]
  },
  {
   "cell_type": "markdown",
   "metadata": {},
   "source": [
    "### Para empezar, planteo dos escenarios que quiero analizar de forma bivariada:\n",
    "    * Cantidad de pasajeros como variable independiente y tarifa como dependiente\n",
    "    * Distancia como variable independiente y tarifa como dependiente"
   ]
  },
  {
   "cell_type": "markdown",
   "metadata": {},
   "source": [
    "#### Genero la distancia haversine entre salida y llegada de cada viaje  "
   ]
  },
  {
   "cell_type": "code",
   "execution_count": 23,
   "metadata": {},
   "outputs": [],
   "source": [
    "index= df.index\n",
    "index\n",
    "distancia=[]\n",
    "for i in range(len(index)):\n",
    "    punto_salida=df.pickup_latitude[i],df.pickup_longitude[i]\n",
    "    punto_llegada=df.dropoff_latitude[i],df.dropoff_longitude[i]\n",
    "    distancia_viaje=haversine(punto_salida,punto_llegada)\n",
    "    distancia.append(distancia_viaje)\n",
    "    distancia"
   ]
  },
  {
   "cell_type": "code",
   "execution_count": 24,
   "metadata": {},
   "outputs": [],
   "source": [
    "df[\"distancia_viaje_en_km\"]=distancia"
   ]
  },
  {
   "cell_type": "code",
   "execution_count": 25,
   "metadata": {},
   "outputs": [
    {
     "data": {
      "text/html": [
       "<div>\n",
       "<style scoped>\n",
       "    .dataframe tbody tr th:only-of-type {\n",
       "        vertical-align: middle;\n",
       "    }\n",
       "\n",
       "    .dataframe tbody tr th {\n",
       "        vertical-align: top;\n",
       "    }\n",
       "\n",
       "    .dataframe thead th {\n",
       "        text-align: right;\n",
       "    }\n",
       "</style>\n",
       "<table border=\"1\" class=\"dataframe\">\n",
       "  <thead>\n",
       "    <tr style=\"text-align: right;\">\n",
       "      <th></th>\n",
       "      <th>key</th>\n",
       "      <th>fare_amount</th>\n",
       "      <th>pickup_datetime</th>\n",
       "      <th>pickup_longitude</th>\n",
       "      <th>pickup_latitude</th>\n",
       "      <th>dropoff_longitude</th>\n",
       "      <th>dropoff_latitude</th>\n",
       "      <th>passenger_count</th>\n",
       "      <th>distancia_viaje_en_km</th>\n",
       "    </tr>\n",
       "  </thead>\n",
       "  <tbody>\n",
       "    <tr>\n",
       "      <th>0</th>\n",
       "      <td>2015-05-07 19:52:06.0000003</td>\n",
       "      <td>7.5</td>\n",
       "      <td>2015-05-07 19:52:06 UTC</td>\n",
       "      <td>-73.999817</td>\n",
       "      <td>40.738354</td>\n",
       "      <td>-73.999512</td>\n",
       "      <td>40.723217</td>\n",
       "      <td>1</td>\n",
       "      <td>1.683325</td>\n",
       "    </tr>\n",
       "    <tr>\n",
       "      <th>1</th>\n",
       "      <td>2009-07-17 20:04:56.0000002</td>\n",
       "      <td>7.7</td>\n",
       "      <td>2009-07-17 20:04:56 UTC</td>\n",
       "      <td>-73.994355</td>\n",
       "      <td>40.728225</td>\n",
       "      <td>-73.994710</td>\n",
       "      <td>40.750325</td>\n",
       "      <td>1</td>\n",
       "      <td>2.457593</td>\n",
       "    </tr>\n",
       "    <tr>\n",
       "      <th>2</th>\n",
       "      <td>2009-08-24 21:45:00.00000061</td>\n",
       "      <td>12.9</td>\n",
       "      <td>2009-08-24 21:45:00 UTC</td>\n",
       "      <td>-74.005043</td>\n",
       "      <td>40.740770</td>\n",
       "      <td>-73.962565</td>\n",
       "      <td>40.772647</td>\n",
       "      <td>1</td>\n",
       "      <td>5.036384</td>\n",
       "    </tr>\n",
       "    <tr>\n",
       "      <th>3</th>\n",
       "      <td>2009-06-26 08:22:21.0000001</td>\n",
       "      <td>5.3</td>\n",
       "      <td>2009-06-26 08:22:21 UTC</td>\n",
       "      <td>-73.976124</td>\n",
       "      <td>40.790844</td>\n",
       "      <td>-73.965316</td>\n",
       "      <td>40.803349</td>\n",
       "      <td>3</td>\n",
       "      <td>1.661686</td>\n",
       "    </tr>\n",
       "    <tr>\n",
       "      <th>4</th>\n",
       "      <td>2014-08-28 17:47:00.000000188</td>\n",
       "      <td>16.0</td>\n",
       "      <td>2014-08-28 17:47:00 UTC</td>\n",
       "      <td>-73.925023</td>\n",
       "      <td>40.744085</td>\n",
       "      <td>-73.973082</td>\n",
       "      <td>40.761247</td>\n",
       "      <td>5</td>\n",
       "      <td>4.475456</td>\n",
       "    </tr>\n",
       "  </tbody>\n",
       "</table>\n",
       "</div>"
      ],
      "text/plain": [
       "                             key  fare_amount          pickup_datetime  \\\n",
       "0    2015-05-07 19:52:06.0000003          7.5  2015-05-07 19:52:06 UTC   \n",
       "1    2009-07-17 20:04:56.0000002          7.7  2009-07-17 20:04:56 UTC   \n",
       "2   2009-08-24 21:45:00.00000061         12.9  2009-08-24 21:45:00 UTC   \n",
       "3    2009-06-26 08:22:21.0000001          5.3  2009-06-26 08:22:21 UTC   \n",
       "4  2014-08-28 17:47:00.000000188         16.0  2014-08-28 17:47:00 UTC   \n",
       "\n",
       "   pickup_longitude  pickup_latitude  dropoff_longitude  dropoff_latitude  \\\n",
       "0        -73.999817        40.738354         -73.999512         40.723217   \n",
       "1        -73.994355        40.728225         -73.994710         40.750325   \n",
       "2        -74.005043        40.740770         -73.962565         40.772647   \n",
       "3        -73.976124        40.790844         -73.965316         40.803349   \n",
       "4        -73.925023        40.744085         -73.973082         40.761247   \n",
       "\n",
       "   passenger_count  distancia_viaje_en_km  \n",
       "0                1               1.683325  \n",
       "1                1               2.457593  \n",
       "2                1               5.036384  \n",
       "3                3               1.661686  \n",
       "4                5               4.475456  "
      ]
     },
     "execution_count": 25,
     "metadata": {},
     "output_type": "execute_result"
    }
   ],
   "source": [
    "df.head()"
   ]
  },
  {
   "cell_type": "code",
   "execution_count": 26,
   "metadata": {},
   "outputs": [
    {
     "data": {
      "text/plain": [
       "Text(0.5, 1, 'HeatMap con todas las columnas')"
      ]
     },
     "execution_count": 26,
     "metadata": {},
     "output_type": "execute_result"
    },
    {
     "data": {
      "image/png": "[encoded data removed]",
      "text/plain": [
       "<Figure size 1440x1080 with 2 Axes>"
      ]
     },
     "metadata": {
      "needs_background": "light"
     },
     "output_type": "display_data"
    }
   ],
   "source": [
    "%matplotlib inline\n",
    "plt.rcParams[\"figure.figsize\"]=(20,15)\n",
    "sns.heatmap(df.corr(),annot=True,cmap=\"Wistia\")\n",
    "plt.title(\"HeatMap con todas las columnas\", fontsize=20)"
   ]
  },
  {
   "cell_type": "markdown",
   "metadata": {},
   "source": [
    "### Me quedo unicamente con las columnas de interes para hacer el mapa de calor "
   ]
  },
  {
   "cell_type": "code",
   "execution_count": 27,
   "metadata": {},
   "outputs": [
    {
     "data": {
      "text/plain": [
       "['key',\n",
       " 'fare_amount',\n",
       " 'pickup_datetime',\n",
       " 'pickup_longitude',\n",
       " 'pickup_latitude',\n",
       " 'dropoff_longitude',\n",
       " 'dropoff_latitude',\n",
       " 'passenger_count',\n",
       " 'distancia_viaje_en_km']"
      ]
     },
     "execution_count": 27,
     "metadata": {},
     "output_type": "execute_result"
    }
   ],
   "source": [
    "df.columns.values.tolist()"
   ]
  },
  {
   "cell_type": "code",
   "execution_count": 28,
   "metadata": {},
   "outputs": [],
   "source": [
    "columnas_interes=[\"fare_amount\",\"passenger_count\",\"distancia_viaje_en_km\"]\n",
    "df_columnas_interes=df[columnas_interes]"
   ]
  },
  {
   "cell_type": "markdown",
   "metadata": {},
   "source": [
    "### Verifico que me haya quedado correcto el nuevo DF "
   ]
  },
  {
   "cell_type": "code",
   "execution_count": 29,
   "metadata": {},
   "outputs": [
    {
     "data": {
      "text/html": [
       "<div>\n",
       "<style scoped>\n",
       "    .dataframe tbody tr th:only-of-type {\n",
       "        vertical-align: middle;\n",
       "    }\n",
       "\n",
       "    .dataframe tbody tr th {\n",
       "        vertical-align: top;\n",
       "    }\n",
       "\n",
       "    .dataframe thead th {\n",
       "        text-align: right;\n",
       "    }\n",
       "</style>\n",
       "<table border=\"1\" class=\"dataframe\">\n",
       "  <thead>\n",
       "    <tr style=\"text-align: right;\">\n",
       "      <th></th>\n",
       "      <th>fare_amount</th>\n",
       "      <th>passenger_count</th>\n",
       "      <th>distancia_viaje_en_km</th>\n",
       "    </tr>\n",
       "  </thead>\n",
       "  <tbody>\n",
       "    <tr>\n",
       "      <th>0</th>\n",
       "      <td>7.5</td>\n",
       "      <td>1</td>\n",
       "      <td>1.683325</td>\n",
       "    </tr>\n",
       "    <tr>\n",
       "      <th>1</th>\n",
       "      <td>7.7</td>\n",
       "      <td>1</td>\n",
       "      <td>2.457593</td>\n",
       "    </tr>\n",
       "    <tr>\n",
       "      <th>2</th>\n",
       "      <td>12.9</td>\n",
       "      <td>1</td>\n",
       "      <td>5.036384</td>\n",
       "    </tr>\n",
       "    <tr>\n",
       "      <th>3</th>\n",
       "      <td>5.3</td>\n",
       "      <td>3</td>\n",
       "      <td>1.661686</td>\n",
       "    </tr>\n",
       "    <tr>\n",
       "      <th>4</th>\n",
       "      <td>16.0</td>\n",
       "      <td>5</td>\n",
       "      <td>4.475456</td>\n",
       "    </tr>\n",
       "  </tbody>\n",
       "</table>\n",
       "</div>"
      ],
      "text/plain": [
       "   fare_amount  passenger_count  distancia_viaje_en_km\n",
       "0          7.5                1               1.683325\n",
       "1          7.7                1               2.457593\n",
       "2         12.9                1               5.036384\n",
       "3          5.3                3               1.661686\n",
       "4         16.0                5               4.475456"
      ]
     },
     "execution_count": 29,
     "metadata": {},
     "output_type": "execute_result"
    }
   ],
   "source": [
    "df_columnas_interes.head()"
   ]
  },
  {
   "cell_type": "code",
   "execution_count": 30,
   "metadata": {},
   "outputs": [
    {
     "data": {
      "text/plain": [
       "Text(0.5, 1, 'HeatMap únicamente con columnas de interés')"
      ]
     },
     "execution_count": 30,
     "metadata": {},
     "output_type": "execute_result"
    },
    {
     "data": {
      "image/png": "[encoded data removed]",
      "text/plain": [
       "<Figure size 720x360 with 2 Axes>"
      ]
     },
     "metadata": {
      "needs_background": "light"
     },
     "output_type": "display_data"
    }
   ],
   "source": [
    "%matplotlib inline\n",
    "plt.rcParams[\"figure.figsize\"]=(10,5)\n",
    "sns.heatmap(df_columnas_interes.corr(),annot=True,cmap=\"Wistia\")\n",
    "plt.title(\"HeatMap únicamente con columnas de interés\", fontsize=20)"
   ]
  },
  {
   "cell_type": "markdown",
   "metadata": {},
   "source": [
    "No pareciera existir una relación lineal fuerte entre estas variables "
   ]
  },
  {
   "cell_type": "markdown",
   "metadata": {},
   "source": [
    "## Hago análisis gráficamente entre las dos situaciones planteadas\n",
    "    "
   ]
  },
  {
   "cell_type": "markdown",
   "metadata": {},
   "source": [
    "### Tarifa vs Distancia"
   ]
  },
  {
   "cell_type": "code",
   "execution_count": 31,
   "metadata": {},
   "outputs": [
    {
     "data": {
      "text/plain": [
       "<matplotlib.collections.PathCollection at 0x25a53cb02c8>"
      ]
     },
     "execution_count": 31,
     "metadata": {},
     "output_type": "execute_result"
    },
    {
     "data": {
      "image/png": "[encoded data removed]",
      "text/plain": [
       "<Figure size 720x360 with 1 Axes>"
      ]
     },
     "metadata": {
      "needs_background": "light"
     },
     "output_type": "display_data"
    }
   ],
   "source": [
    "plt.scatter(df_columnas_interes.distancia_viaje_en_km,df_columnas_interes.fare_amount)"
   ]
  },
  {
   "cell_type": "markdown",
   "metadata": {},
   "source": [
    "Gráficamente se ven valores extraños en la distancia. Busco encontrar la magnitud de estos valores y frecuencia con un histograma"
   ]
  },
  {
   "cell_type": "code",
   "execution_count": 32,
   "metadata": {},
   "outputs": [
    {
     "data": {
      "text/plain": [
       "<matplotlib.axes._subplots.AxesSubplot at 0x25a53cd1308>"
      ]
     },
     "execution_count": 32,
     "metadata": {},
     "output_type": "execute_result"
    },
    {
     "data": {
      "image/png": "[encoded data removed]",
      "text/plain": [
       "<Figure size 720x360 with 1 Axes>"
      ]
     },
     "metadata": {
      "needs_background": "light"
     },
     "output_type": "display_data"
    }
   ],
   "source": [
    "distplot(df_columnas_interes.distancia_viaje_en_km,bins=40)"
   ]
  },
  {
   "cell_type": "code",
   "execution_count": 33,
   "metadata": {},
   "outputs": [
    {
     "data": {
      "text/plain": [
       "<matplotlib.axes._subplots.AxesSubplot at 0x25a53c7d8c8>"
      ]
     },
     "execution_count": 33,
     "metadata": {},
     "output_type": "execute_result"
    },
    {
     "data": {
      "image/png": "[encoded data removed]",
      "text/plain": [
       "<Figure size 720x360 with 1 Axes>"
      ]
     },
     "metadata": {
      "needs_background": "light"
     },
     "output_type": "display_data"
    }
   ],
   "source": [
    "boxplot(df_columnas_interes.distancia_viaje_en_km, orient=\"v\")"
   ]
  },
  {
   "cell_type": "markdown",
   "metadata": {},
   "source": [
    "Verifico con distancias menor a 2000 km"
   ]
  },
  {
   "cell_type": "code",
   "execution_count": 34,
   "metadata": {},
   "outputs": [],
   "source": [
    "df_distancias_menores_a_2000km=df_columnas_interes[df_columnas_interes[\"distancia_viaje_en_km\"]<2000]"
   ]
  },
  {
   "cell_type": "code",
   "execution_count": 35,
   "metadata": {},
   "outputs": [
    {
     "data": {
      "text/plain": [
       "(199888, 8)"
      ]
     },
     "execution_count": 35,
     "metadata": {},
     "output_type": "execute_result"
    }
   ],
   "source": [
    "df_tarifas_menores_a_100.shape"
   ]
  },
  {
   "cell_type": "markdown",
   "metadata": {},
   "source": [
    "Eliminé muy pocos registros, por lo que lo veo correcto e intento gráficar de nuevo."
   ]
  },
  {
   "cell_type": "code",
   "execution_count": 36,
   "metadata": {},
   "outputs": [
    {
     "data": {
      "text/plain": [
       "<matplotlib.axes._subplots.AxesSubplot at 0x25a594c2e88>"
      ]
     },
     "execution_count": 36,
     "metadata": {},
     "output_type": "execute_result"
    },
    {
     "data": {
      "image/png": "[encoded data removed]",
      "text/plain": [
       "<Figure size 720x360 with 1 Axes>"
      ]
     },
     "metadata": {
      "needs_background": "light"
     },
     "output_type": "display_data"
    }
   ],
   "source": [
    "boxplot(df_distancias_menores_a_2000km.distancia_viaje_en_km, orient=\"v\")"
   ]
  },
  {
   "cell_type": "code",
   "execution_count": 37,
   "metadata": {},
   "outputs": [
    {
     "data": {
      "text/plain": [
       "<matplotlib.collections.PathCollection at 0x25a59555908>"
      ]
     },
     "execution_count": 37,
     "metadata": {},
     "output_type": "execute_result"
    },
    {
     "data": {
      "image/png": "[encoded data removed]",
      "text/plain": [
       "<Figure size 720x360 with 1 Axes>"
      ]
     },
     "metadata": {
      "needs_background": "light"
     },
     "output_type": "display_data"
    }
   ],
   "source": [
    "plt.scatter(df_distancias_menores_a_2000km.distancia_viaje_en_km,df_distancias_menores_a_2000km.fare_amount)"
   ]
  },
  {
   "cell_type": "markdown",
   "metadata": {},
   "source": [
    "Intento haciendo un corte en 200 km"
   ]
  },
  {
   "cell_type": "code",
   "execution_count": 38,
   "metadata": {},
   "outputs": [],
   "source": [
    "df_distancias_menores_a_200km=df_columnas_interes[df_columnas_interes[\"distancia_viaje_en_km\"]<200]"
   ]
  },
  {
   "cell_type": "code",
   "execution_count": 39,
   "metadata": {},
   "outputs": [
    {
     "data": {
      "text/plain": [
       "<matplotlib.collections.PathCollection at 0x25a595c3908>"
      ]
     },
     "execution_count": 39,
     "metadata": {},
     "output_type": "execute_result"
    },
    {
     "data": {
      "image/png": "[encoded data removed]",
      "text/plain": [
       "<Figure size 720x360 with 1 Axes>"
      ]
     },
     "metadata": {
      "needs_background": "light"
     },
     "output_type": "display_data"
    }
   ],
   "source": [
    "plt.scatter(df_distancias_menores_a_200km.distancia_viaje_en_km,df_distancias_menores_a_200km.fare_amount)"
   ]
  },
  {
   "cell_type": "markdown",
   "metadata": {},
   "source": [
    "Logro que tenga más sentido pero igualmente, como se había visto en el heatmap, no hay relación lineal entre ambos conceptos."
   ]
  },
  {
   "cell_type": "markdown",
   "metadata": {},
   "source": [
    "### Tarifa vs Cantidad de pasajeros"
   ]
  },
  {
   "cell_type": "code",
   "execution_count": 40,
   "metadata": {},
   "outputs": [
    {
     "data": {
      "text/plain": [
       "<matplotlib.collections.PathCollection at 0x25a595c37c8>"
      ]
     },
     "execution_count": 40,
     "metadata": {},
     "output_type": "execute_result"
    },
    {
     "data": {
      "image/png": "[encoded data removed]",
      "text/plain": [
       "<Figure size 720x360 with 1 Axes>"
      ]
     },
     "metadata": {
      "needs_background": "light"
     },
     "output_type": "display_data"
    }
   ],
   "source": [
    "plt.scatter(df_columnas_interes.passenger_count,df_columnas_interes.fare_amount)"
   ]
  },
  {
   "cell_type": "markdown",
   "metadata": {},
   "source": [
    "Utilizo el DF dónde ya habíamos eliminado el outlier"
   ]
  },
  {
   "cell_type": "code",
   "execution_count": 41,
   "metadata": {},
   "outputs": [
    {
     "data": {
      "text/plain": [
       "<matplotlib.collections.PathCollection at 0x25a598d2348>"
      ]
     },
     "execution_count": 41,
     "metadata": {},
     "output_type": "execute_result"
    },
    {
     "data": {
      "image/png": "[encoded data removed]",
      "text/plain": [
       "<Figure size 720x360 with 1 Axes>"
      ]
     },
     "metadata": {
      "needs_background": "light"
     },
     "output_type": "display_data"
    }
   ],
   "source": [
    "plt.scatter(df_sin_208_pasajeros.passenger_count,df_sin_208_pasajeros.fare_amount)"
   ]
  },
  {
   "cell_type": "code",
   "execution_count": 42,
   "metadata": {},
   "outputs": [
    {
     "data": {
      "text/plain": [
       "<matplotlib.axes._subplots.AxesSubplot at 0x25a598f6788>"
      ]
     },
     "execution_count": 42,
     "metadata": {},
     "output_type": "execute_result"
    },
    {
     "data": {
      "image/png": "[encoded data removed]",
      "text/plain": [
       "<Figure size 720x360 with 1 Axes>"
      ]
     },
     "metadata": {
      "needs_background": "light"
     },
     "output_type": "display_data"
    }
   ],
   "source": [
    "boxplot(x=df_sin_208_pasajeros.passenger_count,y=df_sin_208_pasajeros.fare_amount)"
   ]
  },
  {
   "cell_type": "markdown",
   "metadata": {},
   "source": [
    "Para ver si tiene más sentido, voy a hacer una tarifa por km (TARIFA/DISTANCIA) y eliminar los outliers de ese dataset"
   ]
  },
  {
   "cell_type": "code",
   "execution_count": 43,
   "metadata": {},
   "outputs": [
    {
     "name": "stderr",
     "output_type": "stream",
     "text": [
      "C:\\ProgramData\\Anaconda3\\lib\\site-packages\\ipykernel_launcher.py:7: RuntimeWarning: divide by zero encountered in double_scalars\n",
      "  import sys\n",
      "C:\\ProgramData\\Anaconda3\\lib\\site-packages\\ipykernel_launcher.py:7: RuntimeWarning: invalid value encountered in double_scalars\n",
      "  import sys\n"
     ]
    }
   ],
   "source": [
    "index2= df_columnas_interes.index\n",
    "index2\n",
    "tarifa_sobre_distancia=[]\n",
    "for i in range(len(index2)):\n",
    "    tarifa=df_columnas_interes.fare_amount[i]\n",
    "    distancia=df_columnas_interes.distancia_viaje_en_km[i]\n",
    "    tarifa_sobre_distancia.append(tarifa/distancia)\n",
    "    tarifa_sobre_distancia"
   ]
  },
  {
   "cell_type": "code",
   "execution_count": 44,
   "metadata": {},
   "outputs": [
    {
     "name": "stderr",
     "output_type": "stream",
     "text": [
      "C:\\ProgramData\\Anaconda3\\lib\\site-packages\\ipykernel_launcher.py:1: SettingWithCopyWarning: \n",
      "A value is trying to be set on a copy of a slice from a DataFrame.\n",
      "Try using .loc[row_indexer,col_indexer] = value instead\n",
      "\n",
      "See the caveats in the documentation: https://pandas.pydata.org/pandas-docs/stable/user_guide/indexing.html#returning-a-view-versus-a-copy\n",
      "  \"\"\"Entry point for launching an IPython kernel.\n"
     ]
    }
   ],
   "source": [
    "df_columnas_interes[\"usd_sobre_km\"]=tarifa_sobre_distancia"
   ]
  },
  {
   "cell_type": "code",
   "execution_count": 45,
   "metadata": {},
   "outputs": [
    {
     "data": {
      "text/html": [
       "<div>\n",
       "<style scoped>\n",
       "    .dataframe tbody tr th:only-of-type {\n",
       "        vertical-align: middle;\n",
       "    }\n",
       "\n",
       "    .dataframe tbody tr th {\n",
       "        vertical-align: top;\n",
       "    }\n",
       "\n",
       "    .dataframe thead th {\n",
       "        text-align: right;\n",
       "    }\n",
       "</style>\n",
       "<table border=\"1\" class=\"dataframe\">\n",
       "  <thead>\n",
       "    <tr style=\"text-align: right;\">\n",
       "      <th></th>\n",
       "      <th>fare_amount</th>\n",
       "      <th>passenger_count</th>\n",
       "      <th>distancia_viaje_en_km</th>\n",
       "      <th>usd_sobre_km</th>\n",
       "    </tr>\n",
       "  </thead>\n",
       "  <tbody>\n",
       "    <tr>\n",
       "      <th>0</th>\n",
       "      <td>7.5</td>\n",
       "      <td>1</td>\n",
       "      <td>1.683325</td>\n",
       "      <td>4.455467</td>\n",
       "    </tr>\n",
       "    <tr>\n",
       "      <th>1</th>\n",
       "      <td>7.7</td>\n",
       "      <td>1</td>\n",
       "      <td>2.457593</td>\n",
       "      <td>3.133147</td>\n",
       "    </tr>\n",
       "    <tr>\n",
       "      <th>2</th>\n",
       "      <td>12.9</td>\n",
       "      <td>1</td>\n",
       "      <td>5.036384</td>\n",
       "      <td>2.561361</td>\n",
       "    </tr>\n",
       "    <tr>\n",
       "      <th>3</th>\n",
       "      <td>5.3</td>\n",
       "      <td>3</td>\n",
       "      <td>1.661686</td>\n",
       "      <td>3.189532</td>\n",
       "    </tr>\n",
       "    <tr>\n",
       "      <th>4</th>\n",
       "      <td>16.0</td>\n",
       "      <td>5</td>\n",
       "      <td>4.475456</td>\n",
       "      <td>3.575055</td>\n",
       "    </tr>\n",
       "    <tr>\n",
       "      <th>...</th>\n",
       "      <td>...</td>\n",
       "      <td>...</td>\n",
       "      <td>...</td>\n",
       "      <td>...</td>\n",
       "    </tr>\n",
       "    <tr>\n",
       "      <th>199995</th>\n",
       "      <td>3.0</td>\n",
       "      <td>1</td>\n",
       "      <td>0.112210</td>\n",
       "      <td>26.735490</td>\n",
       "    </tr>\n",
       "    <tr>\n",
       "      <th>199996</th>\n",
       "      <td>7.5</td>\n",
       "      <td>1</td>\n",
       "      <td>1.875053</td>\n",
       "      <td>3.999887</td>\n",
       "    </tr>\n",
       "    <tr>\n",
       "      <th>199997</th>\n",
       "      <td>30.9</td>\n",
       "      <td>2</td>\n",
       "      <td>12.850337</td>\n",
       "      <td>2.404606</td>\n",
       "    </tr>\n",
       "    <tr>\n",
       "      <th>199998</th>\n",
       "      <td>14.5</td>\n",
       "      <td>1</td>\n",
       "      <td>3.539720</td>\n",
       "      <td>4.096369</td>\n",
       "    </tr>\n",
       "    <tr>\n",
       "      <th>199999</th>\n",
       "      <td>14.1</td>\n",
       "      <td>1</td>\n",
       "      <td>5.417791</td>\n",
       "      <td>2.602537</td>\n",
       "    </tr>\n",
       "  </tbody>\n",
       "</table>\n",
       "<p>200000 rows × 4 columns</p>\n",
       "</div>"
      ],
      "text/plain": [
       "        fare_amount  passenger_count  distancia_viaje_en_km  usd_sobre_km\n",
       "0               7.5                1               1.683325      4.455467\n",
       "1               7.7                1               2.457593      3.133147\n",
       "2              12.9                1               5.036384      2.561361\n",
       "3               5.3                3               1.661686      3.189532\n",
       "4              16.0                5               4.475456      3.575055\n",
       "...             ...              ...                    ...           ...\n",
       "199995          3.0                1               0.112210     26.735490\n",
       "199996          7.5                1               1.875053      3.999887\n",
       "199997         30.9                2              12.850337      2.404606\n",
       "199998         14.5                1               3.539720      4.096369\n",
       "199999         14.1                1               5.417791      2.602537\n",
       "\n",
       "[200000 rows x 4 columns]"
      ]
     },
     "execution_count": 45,
     "metadata": {},
     "output_type": "execute_result"
    }
   ],
   "source": [
    "df_columnas_interes"
   ]
  },
  {
   "cell_type": "code",
   "execution_count": 46,
   "metadata": {},
   "outputs": [
    {
     "data": {
      "text/plain": [
       "<matplotlib.axes._subplots.AxesSubplot at 0x25a59405548>"
      ]
     },
     "execution_count": 46,
     "metadata": {},
     "output_type": "execute_result"
    },
    {
     "data": {
      "image/png": "[encoded data removed]",
      "text/plain": [
       "<Figure size 720x360 with 1 Axes>"
      ]
     },
     "metadata": {
      "needs_background": "light"
     },
     "output_type": "display_data"
    }
   ],
   "source": [
    "boxplot(df_columnas_interes.usd_sobre_km,orient=\"v\")"
   ]
  },
  {
   "cell_type": "markdown",
   "metadata": {},
   "source": [
    "Elimino las distancias nulas para que no haga ruido dividiendo"
   ]
  },
  {
   "cell_type": "code",
   "execution_count": 47,
   "metadata": {},
   "outputs": [],
   "source": [
    "df_columnas_interes_sin_distancias_nulas=df_columnas_interes[df_columnas_interes[\"distancia_viaje_en_km\"]>0]"
   ]
  },
  {
   "cell_type": "code",
   "execution_count": 48,
   "metadata": {},
   "outputs": [
    {
     "data": {
      "text/plain": [
       "<matplotlib.axes._subplots.AxesSubplot at 0x25a596b8388>"
      ]
     },
     "execution_count": 48,
     "metadata": {},
     "output_type": "execute_result"
    },
    {
     "data": {
      "image/png": "[encoded data removed]",
      "text/plain": [
       "<Figure size 720x360 with 1 Axes>"
      ]
     },
     "metadata": {
      "needs_background": "light"
     },
     "output_type": "display_data"
    }
   ],
   "source": [
    "distplot(df_columnas_interes_sin_distancias_nulas.usd_sobre_km)"
   ]
  },
  {
   "cell_type": "markdown",
   "metadata": {},
   "source": [
    "Le asigno un tope de 1000 usd/km"
   ]
  },
  {
   "cell_type": "code",
   "execution_count": 49,
   "metadata": {},
   "outputs": [],
   "source": [
    "df_sindistanciasnulas_y_topedeusdsobrekm=df_columnas_interes_sin_distancias_nulas[df_columnas_interes_sin_distancias_nulas[\"usd_sobre_km\"]<2000]"
   ]
  },
  {
   "cell_type": "code",
   "execution_count": 50,
   "metadata": {},
   "outputs": [
    {
     "data": {
      "text/plain": [
       "<matplotlib.axes._subplots.AxesSubplot at 0x25a597ab5c8>"
      ]
     },
     "execution_count": 50,
     "metadata": {},
     "output_type": "execute_result"
    },
    {
     "data": {
      "image/png": "[encoded data removed]",
      "text/plain": [
       "<Figure size 720x360 with 1 Axes>"
      ]
     },
     "metadata": {
      "needs_background": "light"
     },
     "output_type": "display_data"
    }
   ],
   "source": [
    "boxplot(df_sindistanciasnulas_y_topedeusdsobrekm.usd_sobre_km)"
   ]
  },
  {
   "cell_type": "code",
   "execution_count": 51,
   "metadata": {},
   "outputs": [
    {
     "data": {
      "text/plain": [
       "<matplotlib.collections.PathCollection at 0x25a599f4e88>"
      ]
     },
     "execution_count": 51,
     "metadata": {},
     "output_type": "execute_result"
    },
    {
     "data": {
      "image/png": "[encoded data removed]",
      "text/plain": [
       "<Figure size 720x360 with 1 Axes>"
      ]
     },
     "metadata": {
      "needs_background": "light"
     },
     "output_type": "display_data"
    }
   ],
   "source": [
    "plt.scatter(x=df_sindistanciasnulas_y_topedeusdsobrekm.distancia_viaje_en_km,y=df_sindistanciasnulas_y_topedeusdsobrekm.fare_amount)"
   ]
  },
  {
   "cell_type": "markdown",
   "metadata": {},
   "source": [
    "Tampoco pareciera haber algúna relación clara entre ambos conceptos."
   ]
  },
  {
   "cell_type": "markdown",
   "metadata": {},
   "source": [
    "## Análisis multivariado "
   ]
  },
  {
   "cell_type": "markdown",
   "metadata": {},
   "source": [
    "#### A modo de ejemplo para el desafío, voy a analizar las 3 variables:\n",
    "    . Distancia en Km\n",
    "    . Cantidad de pasajeros\n",
    "    . Tarifa"
   ]
  },
  {
   "cell_type": "code",
   "execution_count": 52,
   "metadata": {},
   "outputs": [
    {
     "name": "stderr",
     "output_type": "stream",
     "text": [
      "C:\\ProgramData\\Anaconda3\\lib\\site-packages\\seaborn\\axisgrid.py:2079: UserWarning: The `size` parameter has been renamed to `height`; please update your code.\n",
      "  warnings.warn(msg, UserWarning)\n"
     ]
    },
    {
     "data": {
      "text/plain": [
       "<seaborn.axisgrid.PairGrid at 0x25a59a24288>"
      ]
     },
     "execution_count": 52,
     "metadata": {},
     "output_type": "execute_result"
    },
    {
     "data": {
      "image/png": "[encoded data removed]",
      "text/plain": [
       "<Figure size 864x864 with 20 Axes>"
      ]
     },
     "metadata": {
      "needs_background": "light"
     },
     "output_type": "display_data"
    }
   ],
   "source": [
    "sns.pairplot(df_sindistanciasnulas_y_topedeusdsobrekm, size=3)"
   ]
  },
  {
   "cell_type": "markdown",
   "metadata": {},
   "source": [
    "Tarifa unitaria vs Distancia"
   ]
  },
  {
   "cell_type": "code",
   "execution_count": 53,
   "metadata": {},
   "outputs": [
    {
     "data": {
      "text/plain": [
       "<matplotlib.collections.PathCollection at 0x25a609ccdc8>"
      ]
     },
     "execution_count": 53,
     "metadata": {},
     "output_type": "execute_result"
    },
    {
     "data": {
      "image/png": "[encoded data removed]",
      "text/plain": [
       "<Figure size 720x360 with 1 Axes>"
      ]
     },
     "metadata": {
      "needs_background": "light"
     },
     "output_type": "display_data"
    }
   ],
   "source": [
    "plt.scatter(x=df_sindistanciasnulas_y_topedeusdsobrekm.distancia_viaje_en_km,y=df_sindistanciasnulas_y_topedeusdsobrekm.fare_amount)"
   ]
  },
  {
   "cell_type": "markdown",
   "metadata": {},
   "source": [
    "Cantidad de pasajeros vs Tarifa"
   ]
  },
  {
   "cell_type": "code",
   "execution_count": 54,
   "metadata": {},
   "outputs": [
    {
     "data": {
      "text/plain": [
       "<matplotlib.collections.PathCollection at 0x25a60aa7408>"
      ]
     },
     "execution_count": 54,
     "metadata": {},
     "output_type": "execute_result"
    },
    {
     "data": {
      "image/png": "[encoded data removed]",
      "text/plain": [
       "<Figure size 720x360 with 1 Axes>"
      ]
     },
     "metadata": {
      "needs_background": "light"
     },
     "output_type": "display_data"
    }
   ],
   "source": [
    "plt.scatter(df_sin_208_pasajeros.passenger_count,df_sin_208_pasajeros.fare_amount)"
   ]
  },
  {
   "cell_type": "markdown",
   "metadata": {},
   "source": [
    "Haciendo el análisis multivariado, cómo ya se viene observando, hay que seguir trabajando el dataset para poder llegar a conclusiones valiosas para trabajarlo ya que no se puede ver ninguna relación entre variables tal como se tiene hasta ahora."
   ]
  },
  {
   "cell_type": "markdown",
   "metadata": {},
   "source": [
    "## Importo nuevamente el Dataset para que no apliquen los cambios hechos sobre el DF durante los diferentes análisis exploratorios"
   ]
  },
  {
   "cell_type": "code",
   "execution_count": 55,
   "metadata": {},
   "outputs": [
    {
     "data": {
      "text/html": [
       "<div>\n",
       "<style scoped>\n",
       "    .dataframe tbody tr th:only-of-type {\n",
       "        vertical-align: middle;\n",
       "    }\n",
       "\n",
       "    .dataframe tbody tr th {\n",
       "        vertical-align: top;\n",
       "    }\n",
       "\n",
       "    .dataframe thead th {\n",
       "        text-align: right;\n",
       "    }\n",
       "</style>\n",
       "<table border=\"1\" class=\"dataframe\">\n",
       "  <thead>\n",
       "    <tr style=\"text-align: right;\">\n",
       "      <th></th>\n",
       "      <th>key</th>\n",
       "      <th>fare_amount</th>\n",
       "      <th>pickup_datetime</th>\n",
       "      <th>pickup_longitude</th>\n",
       "      <th>pickup_latitude</th>\n",
       "      <th>dropoff_longitude</th>\n",
       "      <th>dropoff_latitude</th>\n",
       "      <th>passenger_count</th>\n",
       "    </tr>\n",
       "  </thead>\n",
       "  <tbody>\n",
       "    <tr>\n",
       "      <th>0</th>\n",
       "      <td>2015-05-07 19:52:06.0000003</td>\n",
       "      <td>7.5</td>\n",
       "      <td>2015-05-07 19:52:06 UTC</td>\n",
       "      <td>-73.999817</td>\n",
       "      <td>40.738354</td>\n",
       "      <td>-73.999512</td>\n",
       "      <td>40.723217</td>\n",
       "      <td>1</td>\n",
       "    </tr>\n",
       "    <tr>\n",
       "      <th>1</th>\n",
       "      <td>2009-07-17 20:04:56.0000002</td>\n",
       "      <td>7.7</td>\n",
       "      <td>2009-07-17 20:04:56 UTC</td>\n",
       "      <td>-73.994355</td>\n",
       "      <td>40.728225</td>\n",
       "      <td>-73.994710</td>\n",
       "      <td>40.750325</td>\n",
       "      <td>1</td>\n",
       "    </tr>\n",
       "    <tr>\n",
       "      <th>2</th>\n",
       "      <td>2009-08-24 21:45:00.00000061</td>\n",
       "      <td>12.9</td>\n",
       "      <td>2009-08-24 21:45:00 UTC</td>\n",
       "      <td>-74.005043</td>\n",
       "      <td>40.740770</td>\n",
       "      <td>-73.962565</td>\n",
       "      <td>40.772647</td>\n",
       "      <td>1</td>\n",
       "    </tr>\n",
       "    <tr>\n",
       "      <th>3</th>\n",
       "      <td>2009-06-26 08:22:21.0000001</td>\n",
       "      <td>5.3</td>\n",
       "      <td>2009-06-26 08:22:21 UTC</td>\n",
       "      <td>-73.976124</td>\n",
       "      <td>40.790844</td>\n",
       "      <td>-73.965316</td>\n",
       "      <td>40.803349</td>\n",
       "      <td>3</td>\n",
       "    </tr>\n",
       "    <tr>\n",
       "      <th>4</th>\n",
       "      <td>2014-08-28 17:47:00.000000188</td>\n",
       "      <td>16.0</td>\n",
       "      <td>2014-08-28 17:47:00 UTC</td>\n",
       "      <td>-73.925023</td>\n",
       "      <td>40.744085</td>\n",
       "      <td>-73.973082</td>\n",
       "      <td>40.761247</td>\n",
       "      <td>5</td>\n",
       "    </tr>\n",
       "    <tr>\n",
       "      <th>...</th>\n",
       "      <td>...</td>\n",
       "      <td>...</td>\n",
       "      <td>...</td>\n",
       "      <td>...</td>\n",
       "      <td>...</td>\n",
       "      <td>...</td>\n",
       "      <td>...</td>\n",
       "      <td>...</td>\n",
       "    </tr>\n",
       "    <tr>\n",
       "      <th>199995</th>\n",
       "      <td>2012-10-28 10:49:00.00000053</td>\n",
       "      <td>3.0</td>\n",
       "      <td>2012-10-28 10:49:00 UTC</td>\n",
       "      <td>-73.987042</td>\n",
       "      <td>40.739367</td>\n",
       "      <td>-73.986525</td>\n",
       "      <td>40.740297</td>\n",
       "      <td>1</td>\n",
       "    </tr>\n",
       "    <tr>\n",
       "      <th>199996</th>\n",
       "      <td>2014-03-14 01:09:00.0000008</td>\n",
       "      <td>7.5</td>\n",
       "      <td>2014-03-14 01:09:00 UTC</td>\n",
       "      <td>-73.984722</td>\n",
       "      <td>40.736837</td>\n",
       "      <td>-74.006672</td>\n",
       "      <td>40.739620</td>\n",
       "      <td>1</td>\n",
       "    </tr>\n",
       "    <tr>\n",
       "      <th>199997</th>\n",
       "      <td>2009-06-29 00:42:00.00000078</td>\n",
       "      <td>30.9</td>\n",
       "      <td>2009-06-29 00:42:00 UTC</td>\n",
       "      <td>-73.986017</td>\n",
       "      <td>40.756487</td>\n",
       "      <td>-73.858957</td>\n",
       "      <td>40.692588</td>\n",
       "      <td>2</td>\n",
       "    </tr>\n",
       "    <tr>\n",
       "      <th>199998</th>\n",
       "      <td>2015-05-20 14:56:25.0000004</td>\n",
       "      <td>14.5</td>\n",
       "      <td>2015-05-20 14:56:25 UTC</td>\n",
       "      <td>-73.997124</td>\n",
       "      <td>40.725452</td>\n",
       "      <td>-73.983215</td>\n",
       "      <td>40.695415</td>\n",
       "      <td>1</td>\n",
       "    </tr>\n",
       "    <tr>\n",
       "      <th>199999</th>\n",
       "      <td>2010-05-15 04:08:00.00000076</td>\n",
       "      <td>14.1</td>\n",
       "      <td>2010-05-15 04:08:00 UTC</td>\n",
       "      <td>-73.984395</td>\n",
       "      <td>40.720077</td>\n",
       "      <td>-73.985508</td>\n",
       "      <td>40.768793</td>\n",
       "      <td>1</td>\n",
       "    </tr>\n",
       "  </tbody>\n",
       "</table>\n",
       "<p>200000 rows × 8 columns</p>\n",
       "</div>"
      ],
      "text/plain": [
       "                                  key  fare_amount          pickup_datetime  \\\n",
       "0         2015-05-07 19:52:06.0000003          7.5  2015-05-07 19:52:06 UTC   \n",
       "1         2009-07-17 20:04:56.0000002          7.7  2009-07-17 20:04:56 UTC   \n",
       "2        2009-08-24 21:45:00.00000061         12.9  2009-08-24 21:45:00 UTC   \n",
       "3         2009-06-26 08:22:21.0000001          5.3  2009-06-26 08:22:21 UTC   \n",
       "4       2014-08-28 17:47:00.000000188         16.0  2014-08-28 17:47:00 UTC   \n",
       "...                               ...          ...                      ...   \n",
       "199995   2012-10-28 10:49:00.00000053          3.0  2012-10-28 10:49:00 UTC   \n",
       "199996    2014-03-14 01:09:00.0000008          7.5  2014-03-14 01:09:00 UTC   \n",
       "199997   2009-06-29 00:42:00.00000078         30.9  2009-06-29 00:42:00 UTC   \n",
       "199998    2015-05-20 14:56:25.0000004         14.5  2015-05-20 14:56:25 UTC   \n",
       "199999   2010-05-15 04:08:00.00000076         14.1  2010-05-15 04:08:00 UTC   \n",
       "\n",
       "        pickup_longitude  pickup_latitude  dropoff_longitude  \\\n",
       "0             -73.999817        40.738354         -73.999512   \n",
       "1             -73.994355        40.728225         -73.994710   \n",
       "2             -74.005043        40.740770         -73.962565   \n",
       "3             -73.976124        40.790844         -73.965316   \n",
       "4             -73.925023        40.744085         -73.973082   \n",
       "...                  ...              ...                ...   \n",
       "199995        -73.987042        40.739367         -73.986525   \n",
       "199996        -73.984722        40.736837         -74.006672   \n",
       "199997        -73.986017        40.756487         -73.858957   \n",
       "199998        -73.997124        40.725452         -73.983215   \n",
       "199999        -73.984395        40.720077         -73.985508   \n",
       "\n",
       "        dropoff_latitude  passenger_count  \n",
       "0              40.723217                1  \n",
       "1              40.750325                1  \n",
       "2              40.772647                1  \n",
       "3              40.803349                3  \n",
       "4              40.761247                5  \n",
       "...                  ...              ...  \n",
       "199995         40.740297                1  \n",
       "199996         40.739620                1  \n",
       "199997         40.692588                2  \n",
       "199998         40.695415                1  \n",
       "199999         40.768793                1  \n",
       "\n",
       "[200000 rows x 8 columns]"
      ]
     },
     "execution_count": 55,
     "metadata": {},
     "output_type": "execute_result"
    }
   ],
   "source": [
    "df=pd.read_csv(\"https://raw.githubusercontent.com/ezequielimeneses/TrabajoFinalDatascientistCoder/9ce01a9d9600daddcd290ab33e5988ebaaf9f6b0/uber.csv\")\n",
    "df=df.iloc[:,1:]\n",
    "df"
   ]
  },
  {
   "cell_type": "code",
   "execution_count": 56,
   "metadata": {},
   "outputs": [],
   "source": [
    "distancia=[]\n",
    "for i in range(len(df.index)):\n",
    "    punto_salida=df.pickup_latitude[i],df.pickup_longitude[i]\n",
    "    punto_llegada=df.dropoff_latitude[i],df.dropoff_longitude[i]\n",
    "    distancia_viaje=haversine(punto_salida,punto_llegada)\n",
    "    distancia.append(distancia_viaje)\n",
    "    distancia"
   ]
  },
  {
   "cell_type": "code",
   "execution_count": 57,
   "metadata": {},
   "outputs": [],
   "source": [
    "df[\"distancia_viaje_en_km\"]=distancia"
   ]
  },
  {
   "cell_type": "markdown",
   "metadata": {},
   "source": [
    "### Geolocalizo los puntos con el paquete de geopy "
   ]
  },
  {
   "cell_type": "markdown",
   "metadata": {},
   "source": [
    "Genero una columna de coordenadas de llegada y coordenadas de salida con tipo string para poder trabajarla con \"geolocator\" y obtener las ciudades del dataset"
   ]
  },
  {
   "cell_type": "code",
   "execution_count": 58,
   "metadata": {},
   "outputs": [],
   "source": [
    "df[\"latitud_salida_string\"]=df[\"pickup_latitude\"].astype(str)\n",
    "df[\"longitud_salida_string\"]=df[\"pickup_longitude\"].astype(str)\n",
    "df[\"latitud_llegada_string\"]=df[\"dropoff_latitude\"].astype(str)\n",
    "df[\"longitud_llegada_string\"]=df[\"dropoff_longitude\"].astype(str)\n",
    "df[\"coordenadas_salida\"]=df.latitud_salida_string+\",\"+df.longitud_salida_string\n",
    "df[\"coordenadas_llegada\"]=df.latitud_llegada_string+\",\"+df.longitud_llegada_string"
   ]
  },
  {
   "cell_type": "code",
   "execution_count": 59,
   "metadata": {},
   "outputs": [
    {
     "name": "stdout",
     "output_type": "stream",
     "text": [
      "<class 'pandas.core.frame.DataFrame'>\n",
      "RangeIndex: 200000 entries, 0 to 199999\n",
      "Data columns (total 15 columns):\n",
      " #   Column                   Non-Null Count   Dtype  \n",
      "---  ------                   --------------   -----  \n",
      " 0   key                      200000 non-null  object \n",
      " 1   fare_amount              200000 non-null  float64\n",
      " 2   pickup_datetime          200000 non-null  object \n",
      " 3   pickup_longitude         200000 non-null  float64\n",
      " 4   pickup_latitude          200000 non-null  float64\n",
      " 5   dropoff_longitude        199999 non-null  float64\n",
      " 6   dropoff_latitude         199999 non-null  float64\n",
      " 7   passenger_count          200000 non-null  int64  \n",
      " 8   distancia_viaje_en_km    199999 non-null  float64\n",
      " 9   latitud_salida_string    200000 non-null  object \n",
      " 10  longitud_salida_string   200000 non-null  object \n",
      " 11  latitud_llegada_string   200000 non-null  object \n",
      " 12  longitud_llegada_string  200000 non-null  object \n",
      " 13  coordenadas_salida       200000 non-null  object \n",
      " 14  coordenadas_llegada      200000 non-null  object \n",
      "dtypes: float64(6), int64(1), object(8)\n",
      "memory usage: 22.9+ MB\n"
     ]
    }
   ],
   "source": [
    "df.info()"
   ]
  },
  {
   "cell_type": "markdown",
   "metadata": {},
   "source": [
    "Hay puntos que tienen 0 en las coordenadas. Estos datos debo tratarlos como si fueran NAN y eliminarlos"
   ]
  },
  {
   "cell_type": "code",
   "execution_count": 60,
   "metadata": {},
   "outputs": [
    {
     "data": {
      "text/html": [
       "<div>\n",
       "<style scoped>\n",
       "    .dataframe tbody tr th:only-of-type {\n",
       "        vertical-align: middle;\n",
       "    }\n",
       "\n",
       "    .dataframe tbody tr th {\n",
       "        vertical-align: top;\n",
       "    }\n",
       "\n",
       "    .dataframe thead th {\n",
       "        text-align: right;\n",
       "    }\n",
       "</style>\n",
       "<table border=\"1\" class=\"dataframe\">\n",
       "  <thead>\n",
       "    <tr style=\"text-align: right;\">\n",
       "      <th></th>\n",
       "      <th>key</th>\n",
       "      <th>fare_amount</th>\n",
       "      <th>pickup_datetime</th>\n",
       "      <th>pickup_longitude</th>\n",
       "      <th>pickup_latitude</th>\n",
       "      <th>dropoff_longitude</th>\n",
       "      <th>dropoff_latitude</th>\n",
       "      <th>passenger_count</th>\n",
       "      <th>distancia_viaje_en_km</th>\n",
       "      <th>latitud_salida_string</th>\n",
       "      <th>longitud_salida_string</th>\n",
       "      <th>latitud_llegada_string</th>\n",
       "      <th>longitud_llegada_string</th>\n",
       "      <th>coordenadas_salida</th>\n",
       "      <th>coordenadas_llegada</th>\n",
       "    </tr>\n",
       "  </thead>\n",
       "  <tbody>\n",
       "    <tr>\n",
       "      <th>0</th>\n",
       "      <td>2015-05-07 19:52:06.0000003</td>\n",
       "      <td>7.5</td>\n",
       "      <td>2015-05-07 19:52:06 UTC</td>\n",
       "      <td>-73.999817</td>\n",
       "      <td>40.738354</td>\n",
       "      <td>-73.999512</td>\n",
       "      <td>40.723217</td>\n",
       "      <td>1</td>\n",
       "      <td>1.683325</td>\n",
       "      <td>40.73835372924805</td>\n",
       "      <td>-73.99981689453125</td>\n",
       "      <td>40.72321701049805</td>\n",
       "      <td>-73.99951171875</td>\n",
       "      <td>40.73835372924805,-73.99981689453125</td>\n",
       "      <td>40.72321701049805,-73.99951171875</td>\n",
       "    </tr>\n",
       "    <tr>\n",
       "      <th>1</th>\n",
       "      <td>2009-07-17 20:04:56.0000002</td>\n",
       "      <td>7.7</td>\n",
       "      <td>2009-07-17 20:04:56 UTC</td>\n",
       "      <td>-73.994355</td>\n",
       "      <td>40.728225</td>\n",
       "      <td>-73.994710</td>\n",
       "      <td>40.750325</td>\n",
       "      <td>1</td>\n",
       "      <td>2.457593</td>\n",
       "      <td>40.728225</td>\n",
       "      <td>-73.994355</td>\n",
       "      <td>40.750325</td>\n",
       "      <td>-73.99471</td>\n",
       "      <td>40.728225,-73.994355</td>\n",
       "      <td>40.750325,-73.99471</td>\n",
       "    </tr>\n",
       "    <tr>\n",
       "      <th>2</th>\n",
       "      <td>2009-08-24 21:45:00.00000061</td>\n",
       "      <td>12.9</td>\n",
       "      <td>2009-08-24 21:45:00 UTC</td>\n",
       "      <td>-74.005043</td>\n",
       "      <td>40.740770</td>\n",
       "      <td>-73.962565</td>\n",
       "      <td>40.772647</td>\n",
       "      <td>1</td>\n",
       "      <td>5.036384</td>\n",
       "      <td>40.74077</td>\n",
       "      <td>-74.005043</td>\n",
       "      <td>40.772647</td>\n",
       "      <td>-73.962565</td>\n",
       "      <td>40.74077,-74.005043</td>\n",
       "      <td>40.772647,-73.962565</td>\n",
       "    </tr>\n",
       "    <tr>\n",
       "      <th>3</th>\n",
       "      <td>2009-06-26 08:22:21.0000001</td>\n",
       "      <td>5.3</td>\n",
       "      <td>2009-06-26 08:22:21 UTC</td>\n",
       "      <td>-73.976124</td>\n",
       "      <td>40.790844</td>\n",
       "      <td>-73.965316</td>\n",
       "      <td>40.803349</td>\n",
       "      <td>3</td>\n",
       "      <td>1.661686</td>\n",
       "      <td>40.790844</td>\n",
       "      <td>-73.976124</td>\n",
       "      <td>40.803349</td>\n",
       "      <td>-73.965316</td>\n",
       "      <td>40.790844,-73.976124</td>\n",
       "      <td>40.803349,-73.965316</td>\n",
       "    </tr>\n",
       "    <tr>\n",
       "      <th>4</th>\n",
       "      <td>2014-08-28 17:47:00.000000188</td>\n",
       "      <td>16.0</td>\n",
       "      <td>2014-08-28 17:47:00 UTC</td>\n",
       "      <td>-73.925023</td>\n",
       "      <td>40.744085</td>\n",
       "      <td>-73.973082</td>\n",
       "      <td>40.761247</td>\n",
       "      <td>5</td>\n",
       "      <td>4.475456</td>\n",
       "      <td>40.744085</td>\n",
       "      <td>-73.925023</td>\n",
       "      <td>40.761247</td>\n",
       "      <td>-73.97308199999998</td>\n",
       "      <td>40.744085,-73.925023</td>\n",
       "      <td>40.761247,-73.97308199999998</td>\n",
       "    </tr>\n",
       "    <tr>\n",
       "      <th>5</th>\n",
       "      <td>2011-02-12 02:27:09.0000006</td>\n",
       "      <td>4.9</td>\n",
       "      <td>2011-02-12 02:27:09 UTC</td>\n",
       "      <td>-73.969019</td>\n",
       "      <td>40.755910</td>\n",
       "      <td>-73.969019</td>\n",
       "      <td>40.755910</td>\n",
       "      <td>1</td>\n",
       "      <td>0.000000</td>\n",
       "      <td>40.75591</td>\n",
       "      <td>-73.96901899999997</td>\n",
       "      <td>40.75591</td>\n",
       "      <td>-73.96901899999997</td>\n",
       "      <td>40.75591,-73.96901899999997</td>\n",
       "      <td>40.75591,-73.96901899999997</td>\n",
       "    </tr>\n",
       "    <tr>\n",
       "      <th>6</th>\n",
       "      <td>2014-10-12 07:04:00.0000002</td>\n",
       "      <td>24.5</td>\n",
       "      <td>2014-10-12 07:04:00 UTC</td>\n",
       "      <td>-73.961447</td>\n",
       "      <td>40.693965</td>\n",
       "      <td>-73.871195</td>\n",
       "      <td>40.774297</td>\n",
       "      <td>5</td>\n",
       "      <td>11.731031</td>\n",
       "      <td>40.69396500000001</td>\n",
       "      <td>-73.96144699999998</td>\n",
       "      <td>40.774297</td>\n",
       "      <td>-73.871195</td>\n",
       "      <td>40.69396500000001,-73.96144699999998</td>\n",
       "      <td>40.774297,-73.871195</td>\n",
       "    </tr>\n",
       "    <tr>\n",
       "      <th>7</th>\n",
       "      <td>2012-12-11 13:52:00.00000029</td>\n",
       "      <td>2.5</td>\n",
       "      <td>2012-12-11 13:52:00 UTC</td>\n",
       "      <td>0.000000</td>\n",
       "      <td>NaN</td>\n",
       "      <td>0.000000</td>\n",
       "      <td>0.000000</td>\n",
       "      <td>1</td>\n",
       "      <td>0.000000</td>\n",
       "      <td>0.0</td>\n",
       "      <td>0.0</td>\n",
       "      <td>0.0</td>\n",
       "      <td>0.0</td>\n",
       "      <td>0.0,0.0</td>\n",
       "      <td>0.0,0.0</td>\n",
       "    </tr>\n",
       "    <tr>\n",
       "      <th>8</th>\n",
       "      <td>2012-02-17 09:32:00.00000043</td>\n",
       "      <td>9.7</td>\n",
       "      <td>2012-02-17 09:32:00 UTC</td>\n",
       "      <td>-73.975187</td>\n",
       "      <td>40.745767</td>\n",
       "      <td>-74.002720</td>\n",
       "      <td>40.743537</td>\n",
       "      <td>1</td>\n",
       "      <td>2.332714</td>\n",
       "      <td>40.745767</td>\n",
       "      <td>-73.975187</td>\n",
       "      <td>40.743537</td>\n",
       "      <td>-74.00272</td>\n",
       "      <td>40.745767,-73.975187</td>\n",
       "      <td>40.743537,-74.00272</td>\n",
       "    </tr>\n",
       "    <tr>\n",
       "      <th>9</th>\n",
       "      <td>2012-03-29 19:06:00.000000273</td>\n",
       "      <td>12.5</td>\n",
       "      <td>2012-03-29 19:06:00 UTC</td>\n",
       "      <td>-74.001065</td>\n",
       "      <td>40.741787</td>\n",
       "      <td>-73.963040</td>\n",
       "      <td>40.775012</td>\n",
       "      <td>1</td>\n",
       "      <td>4.889424</td>\n",
       "      <td>40.741787</td>\n",
       "      <td>-74.001065</td>\n",
       "      <td>40.775012</td>\n",
       "      <td>-73.96304</td>\n",
       "      <td>40.741787,-74.001065</td>\n",
       "      <td>40.775012,-73.96304</td>\n",
       "    </tr>\n",
       "    <tr>\n",
       "      <th>10</th>\n",
       "      <td>2015-05-22 17:32:27.0000004</td>\n",
       "      <td>6.5</td>\n",
       "      <td>2015-05-22 17:32:27 UTC</td>\n",
       "      <td>-73.974388</td>\n",
       "      <td>40.746952</td>\n",
       "      <td>-73.988586</td>\n",
       "      <td>40.729805</td>\n",
       "      <td>1</td>\n",
       "      <td>2.250861</td>\n",
       "      <td>40.74695205688477</td>\n",
       "      <td>-73.9743881225586</td>\n",
       "      <td>40.729804992675774</td>\n",
       "      <td>-73.98858642578125</td>\n",
       "      <td>40.74695205688477,-73.9743881225586</td>\n",
       "      <td>40.729804992675774,-73.98858642578125</td>\n",
       "    </tr>\n",
       "    <tr>\n",
       "      <th>11</th>\n",
       "      <td>2011-05-23 22:15:00.00000086</td>\n",
       "      <td>8.5</td>\n",
       "      <td>2011-05-23 22:15:00 UTC</td>\n",
       "      <td>0.000000</td>\n",
       "      <td>NaN</td>\n",
       "      <td>0.000000</td>\n",
       "      <td>0.000000</td>\n",
       "      <td>1</td>\n",
       "      <td>0.000000</td>\n",
       "      <td>0.0</td>\n",
       "      <td>0.0</td>\n",
       "      <td>0.0</td>\n",
       "      <td>0.0</td>\n",
       "      <td>0.0,0.0</td>\n",
       "      <td>0.0,0.0</td>\n",
       "    </tr>\n",
       "    <tr>\n",
       "      <th>12</th>\n",
       "      <td>2011-05-17 14:03:00.000000158</td>\n",
       "      <td>3.3</td>\n",
       "      <td>2011-05-17 14:03:00 UTC</td>\n",
       "      <td>-73.966378</td>\n",
       "      <td>40.804440</td>\n",
       "      <td>-73.965890</td>\n",
       "      <td>40.807133</td>\n",
       "      <td>5</td>\n",
       "      <td>0.302252</td>\n",
       "      <td>40.80444</td>\n",
       "      <td>-73.966378</td>\n",
       "      <td>40.807133</td>\n",
       "      <td>-73.96589</td>\n",
       "      <td>40.80444,-73.966378</td>\n",
       "      <td>40.807133,-73.96589</td>\n",
       "    </tr>\n",
       "    <tr>\n",
       "      <th>13</th>\n",
       "      <td>2011-06-25 11:19:00.000000102</td>\n",
       "      <td>10.9</td>\n",
       "      <td>2011-06-25 11:19:00 UTC</td>\n",
       "      <td>-73.953352</td>\n",
       "      <td>40.767382</td>\n",
       "      <td>-73.972510</td>\n",
       "      <td>40.796137</td>\n",
       "      <td>1</td>\n",
       "      <td>3.581256</td>\n",
       "      <td>40.767382</td>\n",
       "      <td>-73.953352</td>\n",
       "      <td>40.796137</td>\n",
       "      <td>-73.97251</td>\n",
       "      <td>40.767382,-73.953352</td>\n",
       "      <td>40.796137,-73.97251</td>\n",
       "    </tr>\n",
       "    <tr>\n",
       "      <th>14</th>\n",
       "      <td>2010-04-06 22:20:27.0000004</td>\n",
       "      <td>6.9</td>\n",
       "      <td>2010-04-06 22:20:27 UTC</td>\n",
       "      <td>-73.973370</td>\n",
       "      <td>40.755193</td>\n",
       "      <td>-73.978265</td>\n",
       "      <td>40.766375</td>\n",
       "      <td>1</td>\n",
       "      <td>1.309952</td>\n",
       "      <td>40.755193</td>\n",
       "      <td>-73.97336999999997</td>\n",
       "      <td>40.766375</td>\n",
       "      <td>-73.97826500000002</td>\n",
       "      <td>40.755193,-73.97336999999997</td>\n",
       "      <td>40.766375,-73.97826500000002</td>\n",
       "    </tr>\n",
       "    <tr>\n",
       "      <th>15</th>\n",
       "      <td>2012-02-21 09:33:00.00000028</td>\n",
       "      <td>9.7</td>\n",
       "      <td>2012-02-21 09:33:00 UTC</td>\n",
       "      <td>-73.990718</td>\n",
       "      <td>40.751920</td>\n",
       "      <td>-73.973053</td>\n",
       "      <td>40.744230</td>\n",
       "      <td>2</td>\n",
       "      <td>1.716280</td>\n",
       "      <td>40.75192</td>\n",
       "      <td>-73.990718</td>\n",
       "      <td>40.74423</td>\n",
       "      <td>-73.97305300000002</td>\n",
       "      <td>40.75192,-73.990718</td>\n",
       "      <td>40.74423,-73.97305300000002</td>\n",
       "    </tr>\n",
       "    <tr>\n",
       "      <th>16</th>\n",
       "      <td>2011-09-01 09:21:40.0000002</td>\n",
       "      <td>4.9</td>\n",
       "      <td>2011-09-01 09:21:40 UTC</td>\n",
       "      <td>-73.988908</td>\n",
       "      <td>40.756982</td>\n",
       "      <td>-73.981246</td>\n",
       "      <td>40.760050</td>\n",
       "      <td>1</td>\n",
       "      <td>0.729967</td>\n",
       "      <td>40.756982</td>\n",
       "      <td>-73.988908</td>\n",
       "      <td>40.76005</td>\n",
       "      <td>-73.981246</td>\n",
       "      <td>40.756982,-73.988908</td>\n",
       "      <td>40.76005,-73.981246</td>\n",
       "    </tr>\n",
       "    <tr>\n",
       "      <th>17</th>\n",
       "      <td>2011-03-19 23:58:27.0000003</td>\n",
       "      <td>10.5</td>\n",
       "      <td>2011-03-19 23:58:27 UTC</td>\n",
       "      <td>-74.005665</td>\n",
       "      <td>40.741138</td>\n",
       "      <td>-73.977830</td>\n",
       "      <td>40.749338</td>\n",
       "      <td>2</td>\n",
       "      <td>2.515954</td>\n",
       "      <td>40.741138</td>\n",
       "      <td>-74.00566500000002</td>\n",
       "      <td>40.749338</td>\n",
       "      <td>-73.97783000000003</td>\n",
       "      <td>40.741138,-74.00566500000002</td>\n",
       "      <td>40.749338,-73.97783000000003</td>\n",
       "    </tr>\n",
       "    <tr>\n",
       "      <th>18</th>\n",
       "      <td>2015-03-25 08:58:35.0000001</td>\n",
       "      <td>12.0</td>\n",
       "      <td>2015-03-25 08:58:35 UTC</td>\n",
       "      <td>-73.962532</td>\n",
       "      <td>40.767189</td>\n",
       "      <td>-73.974457</td>\n",
       "      <td>40.753860</td>\n",
       "      <td>1</td>\n",
       "      <td>1.790322</td>\n",
       "      <td>40.767189025878906</td>\n",
       "      <td>-73.96253204345702</td>\n",
       "      <td>40.75386047363281</td>\n",
       "      <td>-73.97445678710938</td>\n",
       "      <td>40.767189025878906,-73.96253204345702</td>\n",
       "      <td>40.75386047363281,-73.97445678710938</td>\n",
       "    </tr>\n",
       "    <tr>\n",
       "      <th>19</th>\n",
       "      <td>2009-08-08 00:20:00.000000183</td>\n",
       "      <td>4.9</td>\n",
       "      <td>2009-08-08 00:20:00 UTC</td>\n",
       "      <td>-73.992075</td>\n",
       "      <td>40.719633</td>\n",
       "      <td>-73.985323</td>\n",
       "      <td>40.727405</td>\n",
       "      <td>1</td>\n",
       "      <td>1.034705</td>\n",
       "      <td>40.719633</td>\n",
       "      <td>-73.992075</td>\n",
       "      <td>40.727405</td>\n",
       "      <td>-73.985323</td>\n",
       "      <td>40.719633,-73.992075</td>\n",
       "      <td>40.727405,-73.985323</td>\n",
       "    </tr>\n",
       "  </tbody>\n",
       "</table>\n",
       "</div>"
      ],
      "text/plain": [
       "                              key  fare_amount          pickup_datetime  \\\n",
       "0     2015-05-07 19:52:06.0000003          7.5  2015-05-07 19:52:06 UTC   \n",
       "1     2009-07-17 20:04:56.0000002          7.7  2009-07-17 20:04:56 UTC   \n",
       "2    2009-08-24 21:45:00.00000061         12.9  2009-08-24 21:45:00 UTC   \n",
       "3     2009-06-26 08:22:21.0000001          5.3  2009-06-26 08:22:21 UTC   \n",
       "4   2014-08-28 17:47:00.000000188         16.0  2014-08-28 17:47:00 UTC   \n",
       "5     2011-02-12 02:27:09.0000006          4.9  2011-02-12 02:27:09 UTC   \n",
       "6     2014-10-12 07:04:00.0000002         24.5  2014-10-12 07:04:00 UTC   \n",
       "7    2012-12-11 13:52:00.00000029          2.5  2012-12-11 13:52:00 UTC   \n",
       "8    2012-02-17 09:32:00.00000043          9.7  2012-02-17 09:32:00 UTC   \n",
       "9   2012-03-29 19:06:00.000000273         12.5  2012-03-29 19:06:00 UTC   \n",
       "10    2015-05-22 17:32:27.0000004          6.5  2015-05-22 17:32:27 UTC   \n",
       "11   2011-05-23 22:15:00.00000086          8.5  2011-05-23 22:15:00 UTC   \n",
       "12  2011-05-17 14:03:00.000000158          3.3  2011-05-17 14:03:00 UTC   \n",
       "13  2011-06-25 11:19:00.000000102         10.9  2011-06-25 11:19:00 UTC   \n",
       "14    2010-04-06 22:20:27.0000004          6.9  2010-04-06 22:20:27 UTC   \n",
       "15   2012-02-21 09:33:00.00000028          9.7  2012-02-21 09:33:00 UTC   \n",
       "16    2011-09-01 09:21:40.0000002          4.9  2011-09-01 09:21:40 UTC   \n",
       "17    2011-03-19 23:58:27.0000003         10.5  2011-03-19 23:58:27 UTC   \n",
       "18    2015-03-25 08:58:35.0000001         12.0  2015-03-25 08:58:35 UTC   \n",
       "19  2009-08-08 00:20:00.000000183          4.9  2009-08-08 00:20:00 UTC   \n",
       "\n",
       "    pickup_longitude  pickup_latitude  dropoff_longitude  dropoff_latitude  \\\n",
       "0         -73.999817        40.738354         -73.999512         40.723217   \n",
       "1         -73.994355        40.728225         -73.994710         40.750325   \n",
       "2         -74.005043        40.740770         -73.962565         40.772647   \n",
       "3         -73.976124        40.790844         -73.965316         40.803349   \n",
       "4         -73.925023        40.744085         -73.973082         40.761247   \n",
       "5         -73.969019        40.755910         -73.969019         40.755910   \n",
       "6         -73.961447        40.693965         -73.871195         40.774297   \n",
       "7           0.000000              NaN           0.000000          0.000000   \n",
       "8         -73.975187        40.745767         -74.002720         40.743537   \n",
       "9         -74.001065        40.741787         -73.963040         40.775012   \n",
       "10        -73.974388        40.746952         -73.988586         40.729805   \n",
       "11          0.000000              NaN           0.000000          0.000000   \n",
       "12        -73.966378        40.804440         -73.965890         40.807133   \n",
       "13        -73.953352        40.767382         -73.972510         40.796137   \n",
       "14        -73.973370        40.755193         -73.978265         40.766375   \n",
       "15        -73.990718        40.751920         -73.973053         40.744230   \n",
       "16        -73.988908        40.756982         -73.981246         40.760050   \n",
       "17        -74.005665        40.741138         -73.977830         40.749338   \n",
       "18        -73.962532        40.767189         -73.974457         40.753860   \n",
       "19        -73.992075        40.719633         -73.985323         40.727405   \n",
       "\n",
       "    passenger_count  distancia_viaje_en_km latitud_salida_string  \\\n",
       "0                 1               1.683325     40.73835372924805   \n",
       "1                 1               2.457593             40.728225   \n",
       "2                 1               5.036384              40.74077   \n",
       "3                 3               1.661686             40.790844   \n",
       "4                 5               4.475456             40.744085   \n",
       "5                 1               0.000000              40.75591   \n",
       "6                 5              11.731031     40.69396500000001   \n",
       "7                 1               0.000000                   0.0   \n",
       "8                 1               2.332714             40.745767   \n",
       "9                 1               4.889424             40.741787   \n",
       "10                1               2.250861     40.74695205688477   \n",
       "11                1               0.000000                   0.0   \n",
       "12                5               0.302252              40.80444   \n",
       "13                1               3.581256             40.767382   \n",
       "14                1               1.309952             40.755193   \n",
       "15                2               1.716280              40.75192   \n",
       "16                1               0.729967             40.756982   \n",
       "17                2               2.515954             40.741138   \n",
       "18                1               1.790322    40.767189025878906   \n",
       "19                1               1.034705             40.719633   \n",
       "\n",
       "   longitud_salida_string latitud_llegada_string longitud_llegada_string  \\\n",
       "0      -73.99981689453125      40.72321701049805         -73.99951171875   \n",
       "1              -73.994355              40.750325               -73.99471   \n",
       "2              -74.005043              40.772647              -73.962565   \n",
       "3              -73.976124              40.803349              -73.965316   \n",
       "4              -73.925023              40.761247      -73.97308199999998   \n",
       "5      -73.96901899999997               40.75591      -73.96901899999997   \n",
       "6      -73.96144699999998              40.774297              -73.871195   \n",
       "7                     0.0                    0.0                     0.0   \n",
       "8              -73.975187              40.743537               -74.00272   \n",
       "9              -74.001065              40.775012               -73.96304   \n",
       "10      -73.9743881225586     40.729804992675774      -73.98858642578125   \n",
       "11                    0.0                    0.0                     0.0   \n",
       "12             -73.966378              40.807133               -73.96589   \n",
       "13             -73.953352              40.796137               -73.97251   \n",
       "14     -73.97336999999997              40.766375      -73.97826500000002   \n",
       "15             -73.990718               40.74423      -73.97305300000002   \n",
       "16             -73.988908               40.76005              -73.981246   \n",
       "17     -74.00566500000002              40.749338      -73.97783000000003   \n",
       "18     -73.96253204345702      40.75386047363281      -73.97445678710938   \n",
       "19             -73.992075              40.727405              -73.985323   \n",
       "\n",
       "                       coordenadas_salida  \\\n",
       "0    40.73835372924805,-73.99981689453125   \n",
       "1                    40.728225,-73.994355   \n",
       "2                     40.74077,-74.005043   \n",
       "3                    40.790844,-73.976124   \n",
       "4                    40.744085,-73.925023   \n",
       "5             40.75591,-73.96901899999997   \n",
       "6    40.69396500000001,-73.96144699999998   \n",
       "7                                 0.0,0.0   \n",
       "8                    40.745767,-73.975187   \n",
       "9                    40.741787,-74.001065   \n",
       "10    40.74695205688477,-73.9743881225586   \n",
       "11                                0.0,0.0   \n",
       "12                    40.80444,-73.966378   \n",
       "13                   40.767382,-73.953352   \n",
       "14           40.755193,-73.97336999999997   \n",
       "15                    40.75192,-73.990718   \n",
       "16                   40.756982,-73.988908   \n",
       "17           40.741138,-74.00566500000002   \n",
       "18  40.767189025878906,-73.96253204345702   \n",
       "19                   40.719633,-73.992075   \n",
       "\n",
       "                      coordenadas_llegada  \n",
       "0       40.72321701049805,-73.99951171875  \n",
       "1                     40.750325,-73.99471  \n",
       "2                    40.772647,-73.962565  \n",
       "3                    40.803349,-73.965316  \n",
       "4            40.761247,-73.97308199999998  \n",
       "5             40.75591,-73.96901899999997  \n",
       "6                    40.774297,-73.871195  \n",
       "7                                 0.0,0.0  \n",
       "8                     40.743537,-74.00272  \n",
       "9                     40.775012,-73.96304  \n",
       "10  40.729804992675774,-73.98858642578125  \n",
       "11                                0.0,0.0  \n",
       "12                    40.807133,-73.96589  \n",
       "13                    40.796137,-73.97251  \n",
       "14           40.766375,-73.97826500000002  \n",
       "15            40.74423,-73.97305300000002  \n",
       "16                    40.76005,-73.981246  \n",
       "17           40.749338,-73.97783000000003  \n",
       "18   40.75386047363281,-73.97445678710938  \n",
       "19                   40.727405,-73.985323  "
      ]
     },
     "execution_count": 60,
     "metadata": {},
     "output_type": "execute_result"
    }
   ],
   "source": [
    "df.pickup_latitude=df.pickup_latitude[df[\"pickup_latitude\"]!=0]\n",
    "df.head(20)"
   ]
  },
  {
   "cell_type": "code",
   "execution_count": 61,
   "metadata": {
    "scrolled": true
   },
   "outputs": [],
   "source": [
    "df.dropna(subset=[\"pickup_latitude\"],inplace=True)"
   ]
  },
  {
   "cell_type": "code",
   "execution_count": 62,
   "metadata": {},
   "outputs": [],
   "source": [
    "df=df.reset_index(drop=True)"
   ]
  },
  {
   "cell_type": "code",
   "execution_count": 63,
   "metadata": {},
   "outputs": [
    {
     "data": {
      "text/html": [
       "<div>\n",
       "<style scoped>\n",
       "    .dataframe tbody tr th:only-of-type {\n",
       "        vertical-align: middle;\n",
       "    }\n",
       "\n",
       "    .dataframe tbody tr th {\n",
       "        vertical-align: top;\n",
       "    }\n",
       "\n",
       "    .dataframe thead th {\n",
       "        text-align: right;\n",
       "    }\n",
       "</style>\n",
       "<table border=\"1\" class=\"dataframe\">\n",
       "  <thead>\n",
       "    <tr style=\"text-align: right;\">\n",
       "      <th></th>\n",
       "      <th>key</th>\n",
       "      <th>fare_amount</th>\n",
       "      <th>pickup_datetime</th>\n",
       "      <th>pickup_longitude</th>\n",
       "      <th>pickup_latitude</th>\n",
       "      <th>dropoff_longitude</th>\n",
       "      <th>dropoff_latitude</th>\n",
       "      <th>passenger_count</th>\n",
       "      <th>distancia_viaje_en_km</th>\n",
       "      <th>latitud_salida_string</th>\n",
       "      <th>longitud_salida_string</th>\n",
       "      <th>latitud_llegada_string</th>\n",
       "      <th>longitud_llegada_string</th>\n",
       "      <th>coordenadas_salida</th>\n",
       "      <th>coordenadas_llegada</th>\n",
       "    </tr>\n",
       "  </thead>\n",
       "  <tbody>\n",
       "    <tr>\n",
       "      <th>0</th>\n",
       "      <td>2015-05-07 19:52:06.0000003</td>\n",
       "      <td>7.5</td>\n",
       "      <td>2015-05-07 19:52:06 UTC</td>\n",
       "      <td>-73.999817</td>\n",
       "      <td>40.738354</td>\n",
       "      <td>-73.999512</td>\n",
       "      <td>40.723217</td>\n",
       "      <td>1</td>\n",
       "      <td>1.683325</td>\n",
       "      <td>40.73835372924805</td>\n",
       "      <td>-73.99981689453125</td>\n",
       "      <td>40.72321701049805</td>\n",
       "      <td>-73.99951171875</td>\n",
       "      <td>40.73835372924805,-73.99981689453125</td>\n",
       "      <td>40.72321701049805,-73.99951171875</td>\n",
       "    </tr>\n",
       "    <tr>\n",
       "      <th>1</th>\n",
       "      <td>2009-07-17 20:04:56.0000002</td>\n",
       "      <td>7.7</td>\n",
       "      <td>2009-07-17 20:04:56 UTC</td>\n",
       "      <td>-73.994355</td>\n",
       "      <td>40.728225</td>\n",
       "      <td>-73.994710</td>\n",
       "      <td>40.750325</td>\n",
       "      <td>1</td>\n",
       "      <td>2.457593</td>\n",
       "      <td>40.728225</td>\n",
       "      <td>-73.994355</td>\n",
       "      <td>40.750325</td>\n",
       "      <td>-73.99471</td>\n",
       "      <td>40.728225,-73.994355</td>\n",
       "      <td>40.750325,-73.99471</td>\n",
       "    </tr>\n",
       "    <tr>\n",
       "      <th>2</th>\n",
       "      <td>2009-08-24 21:45:00.00000061</td>\n",
       "      <td>12.9</td>\n",
       "      <td>2009-08-24 21:45:00 UTC</td>\n",
       "      <td>-74.005043</td>\n",
       "      <td>40.740770</td>\n",
       "      <td>-73.962565</td>\n",
       "      <td>40.772647</td>\n",
       "      <td>1</td>\n",
       "      <td>5.036384</td>\n",
       "      <td>40.74077</td>\n",
       "      <td>-74.005043</td>\n",
       "      <td>40.772647</td>\n",
       "      <td>-73.962565</td>\n",
       "      <td>40.74077,-74.005043</td>\n",
       "      <td>40.772647,-73.962565</td>\n",
       "    </tr>\n",
       "    <tr>\n",
       "      <th>3</th>\n",
       "      <td>2009-06-26 08:22:21.0000001</td>\n",
       "      <td>5.3</td>\n",
       "      <td>2009-06-26 08:22:21 UTC</td>\n",
       "      <td>-73.976124</td>\n",
       "      <td>40.790844</td>\n",
       "      <td>-73.965316</td>\n",
       "      <td>40.803349</td>\n",
       "      <td>3</td>\n",
       "      <td>1.661686</td>\n",
       "      <td>40.790844</td>\n",
       "      <td>-73.976124</td>\n",
       "      <td>40.803349</td>\n",
       "      <td>-73.965316</td>\n",
       "      <td>40.790844,-73.976124</td>\n",
       "      <td>40.803349,-73.965316</td>\n",
       "    </tr>\n",
       "    <tr>\n",
       "      <th>4</th>\n",
       "      <td>2014-08-28 17:47:00.000000188</td>\n",
       "      <td>16.0</td>\n",
       "      <td>2014-08-28 17:47:00 UTC</td>\n",
       "      <td>-73.925023</td>\n",
       "      <td>40.744085</td>\n",
       "      <td>-73.973082</td>\n",
       "      <td>40.761247</td>\n",
       "      <td>5</td>\n",
       "      <td>4.475456</td>\n",
       "      <td>40.744085</td>\n",
       "      <td>-73.925023</td>\n",
       "      <td>40.761247</td>\n",
       "      <td>-73.97308199999998</td>\n",
       "      <td>40.744085,-73.925023</td>\n",
       "      <td>40.761247,-73.97308199999998</td>\n",
       "    </tr>\n",
       "    <tr>\n",
       "      <th>5</th>\n",
       "      <td>2011-02-12 02:27:09.0000006</td>\n",
       "      <td>4.9</td>\n",
       "      <td>2011-02-12 02:27:09 UTC</td>\n",
       "      <td>-73.969019</td>\n",
       "      <td>40.755910</td>\n",
       "      <td>-73.969019</td>\n",
       "      <td>40.755910</td>\n",
       "      <td>1</td>\n",
       "      <td>0.000000</td>\n",
       "      <td>40.75591</td>\n",
       "      <td>-73.96901899999997</td>\n",
       "      <td>40.75591</td>\n",
       "      <td>-73.96901899999997</td>\n",
       "      <td>40.75591,-73.96901899999997</td>\n",
       "      <td>40.75591,-73.96901899999997</td>\n",
       "    </tr>\n",
       "    <tr>\n",
       "      <th>6</th>\n",
       "      <td>2014-10-12 07:04:00.0000002</td>\n",
       "      <td>24.5</td>\n",
       "      <td>2014-10-12 07:04:00 UTC</td>\n",
       "      <td>-73.961447</td>\n",
       "      <td>40.693965</td>\n",
       "      <td>-73.871195</td>\n",
       "      <td>40.774297</td>\n",
       "      <td>5</td>\n",
       "      <td>11.731031</td>\n",
       "      <td>40.69396500000001</td>\n",
       "      <td>-73.96144699999998</td>\n",
       "      <td>40.774297</td>\n",
       "      <td>-73.871195</td>\n",
       "      <td>40.69396500000001,-73.96144699999998</td>\n",
       "      <td>40.774297,-73.871195</td>\n",
       "    </tr>\n",
       "    <tr>\n",
       "      <th>7</th>\n",
       "      <td>2012-02-17 09:32:00.00000043</td>\n",
       "      <td>9.7</td>\n",
       "      <td>2012-02-17 09:32:00 UTC</td>\n",
       "      <td>-73.975187</td>\n",
       "      <td>40.745767</td>\n",
       "      <td>-74.002720</td>\n",
       "      <td>40.743537</td>\n",
       "      <td>1</td>\n",
       "      <td>2.332714</td>\n",
       "      <td>40.745767</td>\n",
       "      <td>-73.975187</td>\n",
       "      <td>40.743537</td>\n",
       "      <td>-74.00272</td>\n",
       "      <td>40.745767,-73.975187</td>\n",
       "      <td>40.743537,-74.00272</td>\n",
       "    </tr>\n",
       "    <tr>\n",
       "      <th>8</th>\n",
       "      <td>2012-03-29 19:06:00.000000273</td>\n",
       "      <td>12.5</td>\n",
       "      <td>2012-03-29 19:06:00 UTC</td>\n",
       "      <td>-74.001065</td>\n",
       "      <td>40.741787</td>\n",
       "      <td>-73.963040</td>\n",
       "      <td>40.775012</td>\n",
       "      <td>1</td>\n",
       "      <td>4.889424</td>\n",
       "      <td>40.741787</td>\n",
       "      <td>-74.001065</td>\n",
       "      <td>40.775012</td>\n",
       "      <td>-73.96304</td>\n",
       "      <td>40.741787,-74.001065</td>\n",
       "      <td>40.775012,-73.96304</td>\n",
       "    </tr>\n",
       "    <tr>\n",
       "      <th>9</th>\n",
       "      <td>2015-05-22 17:32:27.0000004</td>\n",
       "      <td>6.5</td>\n",
       "      <td>2015-05-22 17:32:27 UTC</td>\n",
       "      <td>-73.974388</td>\n",
       "      <td>40.746952</td>\n",
       "      <td>-73.988586</td>\n",
       "      <td>40.729805</td>\n",
       "      <td>1</td>\n",
       "      <td>2.250861</td>\n",
       "      <td>40.74695205688477</td>\n",
       "      <td>-73.9743881225586</td>\n",
       "      <td>40.729804992675774</td>\n",
       "      <td>-73.98858642578125</td>\n",
       "      <td>40.74695205688477,-73.9743881225586</td>\n",
       "      <td>40.729804992675774,-73.98858642578125</td>\n",
       "    </tr>\n",
       "    <tr>\n",
       "      <th>10</th>\n",
       "      <td>2011-05-17 14:03:00.000000158</td>\n",
       "      <td>3.3</td>\n",
       "      <td>2011-05-17 14:03:00 UTC</td>\n",
       "      <td>-73.966378</td>\n",
       "      <td>40.804440</td>\n",
       "      <td>-73.965890</td>\n",
       "      <td>40.807133</td>\n",
       "      <td>5</td>\n",
       "      <td>0.302252</td>\n",
       "      <td>40.80444</td>\n",
       "      <td>-73.966378</td>\n",
       "      <td>40.807133</td>\n",
       "      <td>-73.96589</td>\n",
       "      <td>40.80444,-73.966378</td>\n",
       "      <td>40.807133,-73.96589</td>\n",
       "    </tr>\n",
       "    <tr>\n",
       "      <th>11</th>\n",
       "      <td>2011-06-25 11:19:00.000000102</td>\n",
       "      <td>10.9</td>\n",
       "      <td>2011-06-25 11:19:00 UTC</td>\n",
       "      <td>-73.953352</td>\n",
       "      <td>40.767382</td>\n",
       "      <td>-73.972510</td>\n",
       "      <td>40.796137</td>\n",
       "      <td>1</td>\n",
       "      <td>3.581256</td>\n",
       "      <td>40.767382</td>\n",
       "      <td>-73.953352</td>\n",
       "      <td>40.796137</td>\n",
       "      <td>-73.97251</td>\n",
       "      <td>40.767382,-73.953352</td>\n",
       "      <td>40.796137,-73.97251</td>\n",
       "    </tr>\n",
       "    <tr>\n",
       "      <th>12</th>\n",
       "      <td>2010-04-06 22:20:27.0000004</td>\n",
       "      <td>6.9</td>\n",
       "      <td>2010-04-06 22:20:27 UTC</td>\n",
       "      <td>-73.973370</td>\n",
       "      <td>40.755193</td>\n",
       "      <td>-73.978265</td>\n",
       "      <td>40.766375</td>\n",
       "      <td>1</td>\n",
       "      <td>1.309952</td>\n",
       "      <td>40.755193</td>\n",
       "      <td>-73.97336999999997</td>\n",
       "      <td>40.766375</td>\n",
       "      <td>-73.97826500000002</td>\n",
       "      <td>40.755193,-73.97336999999997</td>\n",
       "      <td>40.766375,-73.97826500000002</td>\n",
       "    </tr>\n",
       "    <tr>\n",
       "      <th>13</th>\n",
       "      <td>2012-02-21 09:33:00.00000028</td>\n",
       "      <td>9.7</td>\n",
       "      <td>2012-02-21 09:33:00 UTC</td>\n",
       "      <td>-73.990718</td>\n",
       "      <td>40.751920</td>\n",
       "      <td>-73.973053</td>\n",
       "      <td>40.744230</td>\n",
       "      <td>2</td>\n",
       "      <td>1.716280</td>\n",
       "      <td>40.75192</td>\n",
       "      <td>-73.990718</td>\n",
       "      <td>40.74423</td>\n",
       "      <td>-73.97305300000002</td>\n",
       "      <td>40.75192,-73.990718</td>\n",
       "      <td>40.74423,-73.97305300000002</td>\n",
       "    </tr>\n",
       "    <tr>\n",
       "      <th>14</th>\n",
       "      <td>2011-09-01 09:21:40.0000002</td>\n",
       "      <td>4.9</td>\n",
       "      <td>2011-09-01 09:21:40 UTC</td>\n",
       "      <td>-73.988908</td>\n",
       "      <td>40.756982</td>\n",
       "      <td>-73.981246</td>\n",
       "      <td>40.760050</td>\n",
       "      <td>1</td>\n",
       "      <td>0.729967</td>\n",
       "      <td>40.756982</td>\n",
       "      <td>-73.988908</td>\n",
       "      <td>40.76005</td>\n",
       "      <td>-73.981246</td>\n",
       "      <td>40.756982,-73.988908</td>\n",
       "      <td>40.76005,-73.981246</td>\n",
       "    </tr>\n",
       "    <tr>\n",
       "      <th>15</th>\n",
       "      <td>2011-03-19 23:58:27.0000003</td>\n",
       "      <td>10.5</td>\n",
       "      <td>2011-03-19 23:58:27 UTC</td>\n",
       "      <td>-74.005665</td>\n",
       "      <td>40.741138</td>\n",
       "      <td>-73.977830</td>\n",
       "      <td>40.749338</td>\n",
       "      <td>2</td>\n",
       "      <td>2.515954</td>\n",
       "      <td>40.741138</td>\n",
       "      <td>-74.00566500000002</td>\n",
       "      <td>40.749338</td>\n",
       "      <td>-73.97783000000003</td>\n",
       "      <td>40.741138,-74.00566500000002</td>\n",
       "      <td>40.749338,-73.97783000000003</td>\n",
       "    </tr>\n",
       "    <tr>\n",
       "      <th>16</th>\n",
       "      <td>2015-03-25 08:58:35.0000001</td>\n",
       "      <td>12.0</td>\n",
       "      <td>2015-03-25 08:58:35 UTC</td>\n",
       "      <td>-73.962532</td>\n",
       "      <td>40.767189</td>\n",
       "      <td>-73.974457</td>\n",
       "      <td>40.753860</td>\n",
       "      <td>1</td>\n",
       "      <td>1.790322</td>\n",
       "      <td>40.767189025878906</td>\n",
       "      <td>-73.96253204345702</td>\n",
       "      <td>40.75386047363281</td>\n",
       "      <td>-73.97445678710938</td>\n",
       "      <td>40.767189025878906,-73.96253204345702</td>\n",
       "      <td>40.75386047363281,-73.97445678710938</td>\n",
       "    </tr>\n",
       "    <tr>\n",
       "      <th>17</th>\n",
       "      <td>2009-08-08 00:20:00.000000183</td>\n",
       "      <td>4.9</td>\n",
       "      <td>2009-08-08 00:20:00 UTC</td>\n",
       "      <td>-73.992075</td>\n",
       "      <td>40.719633</td>\n",
       "      <td>-73.985323</td>\n",
       "      <td>40.727405</td>\n",
       "      <td>1</td>\n",
       "      <td>1.034705</td>\n",
       "      <td>40.719633</td>\n",
       "      <td>-73.992075</td>\n",
       "      <td>40.727405</td>\n",
       "      <td>-73.985323</td>\n",
       "      <td>40.719633,-73.992075</td>\n",
       "      <td>40.727405,-73.985323</td>\n",
       "    </tr>\n",
       "    <tr>\n",
       "      <th>18</th>\n",
       "      <td>2014-02-18 14:26:00.00000070</td>\n",
       "      <td>10.5</td>\n",
       "      <td>2014-02-18 14:26:00 UTC</td>\n",
       "      <td>-73.980022</td>\n",
       "      <td>40.745990</td>\n",
       "      <td>-74.003432</td>\n",
       "      <td>40.759667</td>\n",
       "      <td>1</td>\n",
       "      <td>2.490247</td>\n",
       "      <td>40.74599</td>\n",
       "      <td>-73.98002199999998</td>\n",
       "      <td>40.759667</td>\n",
       "      <td>-74.00343199999998</td>\n",
       "      <td>40.74599,-73.98002199999998</td>\n",
       "      <td>40.759667,-74.00343199999998</td>\n",
       "    </tr>\n",
       "    <tr>\n",
       "      <th>19</th>\n",
       "      <td>2015-03-03 23:15:03.0000003</td>\n",
       "      <td>5.0</td>\n",
       "      <td>2015-03-03 23:15:03 UTC</td>\n",
       "      <td>-73.989189</td>\n",
       "      <td>40.729141</td>\n",
       "      <td>-73.987282</td>\n",
       "      <td>40.720634</td>\n",
       "      <td>2</td>\n",
       "      <td>0.959470</td>\n",
       "      <td>40.72914123535156</td>\n",
       "      <td>-73.98918914794923</td>\n",
       "      <td>40.72063446044922</td>\n",
       "      <td>-73.9872817993164</td>\n",
       "      <td>40.72914123535156,-73.98918914794923</td>\n",
       "      <td>40.72063446044922,-73.9872817993164</td>\n",
       "    </tr>\n",
       "  </tbody>\n",
       "</table>\n",
       "</div>"
      ],
      "text/plain": [
       "                              key  fare_amount          pickup_datetime  \\\n",
       "0     2015-05-07 19:52:06.0000003          7.5  2015-05-07 19:52:06 UTC   \n",
       "1     2009-07-17 20:04:56.0000002          7.7  2009-07-17 20:04:56 UTC   \n",
       "2    2009-08-24 21:45:00.00000061         12.9  2009-08-24 21:45:00 UTC   \n",
       "3     2009-06-26 08:22:21.0000001          5.3  2009-06-26 08:22:21 UTC   \n",
       "4   2014-08-28 17:47:00.000000188         16.0  2014-08-28 17:47:00 UTC   \n",
       "5     2011-02-12 02:27:09.0000006          4.9  2011-02-12 02:27:09 UTC   \n",
       "6     2014-10-12 07:04:00.0000002         24.5  2014-10-12 07:04:00 UTC   \n",
       "7    2012-02-17 09:32:00.00000043          9.7  2012-02-17 09:32:00 UTC   \n",
       "8   2012-03-29 19:06:00.000000273         12.5  2012-03-29 19:06:00 UTC   \n",
       "9     2015-05-22 17:32:27.0000004          6.5  2015-05-22 17:32:27 UTC   \n",
       "10  2011-05-17 14:03:00.000000158          3.3  2011-05-17 14:03:00 UTC   \n",
       "11  2011-06-25 11:19:00.000000102         10.9  2011-06-25 11:19:00 UTC   \n",
       "12    2010-04-06 22:20:27.0000004          6.9  2010-04-06 22:20:27 UTC   \n",
       "13   2012-02-21 09:33:00.00000028          9.7  2012-02-21 09:33:00 UTC   \n",
       "14    2011-09-01 09:21:40.0000002          4.9  2011-09-01 09:21:40 UTC   \n",
       "15    2011-03-19 23:58:27.0000003         10.5  2011-03-19 23:58:27 UTC   \n",
       "16    2015-03-25 08:58:35.0000001         12.0  2015-03-25 08:58:35 UTC   \n",
       "17  2009-08-08 00:20:00.000000183          4.9  2009-08-08 00:20:00 UTC   \n",
       "18   2014-02-18 14:26:00.00000070         10.5  2014-02-18 14:26:00 UTC   \n",
       "19    2015-03-03 23:15:03.0000003          5.0  2015-03-03 23:15:03 UTC   \n",
       "\n",
       "    pickup_longitude  pickup_latitude  dropoff_longitude  dropoff_latitude  \\\n",
       "0         -73.999817        40.738354         -73.999512         40.723217   \n",
       "1         -73.994355        40.728225         -73.994710         40.750325   \n",
       "2         -74.005043        40.740770         -73.962565         40.772647   \n",
       "3         -73.976124        40.790844         -73.965316         40.803349   \n",
       "4         -73.925023        40.744085         -73.973082         40.761247   \n",
       "5         -73.969019        40.755910         -73.969019         40.755910   \n",
       "6         -73.961447        40.693965         -73.871195         40.774297   \n",
       "7         -73.975187        40.745767         -74.002720         40.743537   \n",
       "8         -74.001065        40.741787         -73.963040         40.775012   \n",
       "9         -73.974388        40.746952         -73.988586         40.729805   \n",
       "10        -73.966378        40.804440         -73.965890         40.807133   \n",
       "11        -73.953352        40.767382         -73.972510         40.796137   \n",
       "12        -73.973370        40.755193         -73.978265         40.766375   \n",
       "13        -73.990718        40.751920         -73.973053         40.744230   \n",
       "14        -73.988908        40.756982         -73.981246         40.760050   \n",
       "15        -74.005665        40.741138         -73.977830         40.749338   \n",
       "16        -73.962532        40.767189         -73.974457         40.753860   \n",
       "17        -73.992075        40.719633         -73.985323         40.727405   \n",
       "18        -73.980022        40.745990         -74.003432         40.759667   \n",
       "19        -73.989189        40.729141         -73.987282         40.720634   \n",
       "\n",
       "    passenger_count  distancia_viaje_en_km latitud_salida_string  \\\n",
       "0                 1               1.683325     40.73835372924805   \n",
       "1                 1               2.457593             40.728225   \n",
       "2                 1               5.036384              40.74077   \n",
       "3                 3               1.661686             40.790844   \n",
       "4                 5               4.475456             40.744085   \n",
       "5                 1               0.000000              40.75591   \n",
       "6                 5              11.731031     40.69396500000001   \n",
       "7                 1               2.332714             40.745767   \n",
       "8                 1               4.889424             40.741787   \n",
       "9                 1               2.250861     40.74695205688477   \n",
       "10                5               0.302252              40.80444   \n",
       "11                1               3.581256             40.767382   \n",
       "12                1               1.309952             40.755193   \n",
       "13                2               1.716280              40.75192   \n",
       "14                1               0.729967             40.756982   \n",
       "15                2               2.515954             40.741138   \n",
       "16                1               1.790322    40.767189025878906   \n",
       "17                1               1.034705             40.719633   \n",
       "18                1               2.490247              40.74599   \n",
       "19                2               0.959470     40.72914123535156   \n",
       "\n",
       "   longitud_salida_string latitud_llegada_string longitud_llegada_string  \\\n",
       "0      -73.99981689453125      40.72321701049805         -73.99951171875   \n",
       "1              -73.994355              40.750325               -73.99471   \n",
       "2              -74.005043              40.772647              -73.962565   \n",
       "3              -73.976124              40.803349              -73.965316   \n",
       "4              -73.925023              40.761247      -73.97308199999998   \n",
       "5      -73.96901899999997               40.75591      -73.96901899999997   \n",
       "6      -73.96144699999998              40.774297              -73.871195   \n",
       "7              -73.975187              40.743537               -74.00272   \n",
       "8              -74.001065              40.775012               -73.96304   \n",
       "9       -73.9743881225586     40.729804992675774      -73.98858642578125   \n",
       "10             -73.966378              40.807133               -73.96589   \n",
       "11             -73.953352              40.796137               -73.97251   \n",
       "12     -73.97336999999997              40.766375      -73.97826500000002   \n",
       "13             -73.990718               40.74423      -73.97305300000002   \n",
       "14             -73.988908               40.76005              -73.981246   \n",
       "15     -74.00566500000002              40.749338      -73.97783000000003   \n",
       "16     -73.96253204345702      40.75386047363281      -73.97445678710938   \n",
       "17             -73.992075              40.727405              -73.985323   \n",
       "18     -73.98002199999998              40.759667      -74.00343199999998   \n",
       "19     -73.98918914794923      40.72063446044922       -73.9872817993164   \n",
       "\n",
       "                       coordenadas_salida  \\\n",
       "0    40.73835372924805,-73.99981689453125   \n",
       "1                    40.728225,-73.994355   \n",
       "2                     40.74077,-74.005043   \n",
       "3                    40.790844,-73.976124   \n",
       "4                    40.744085,-73.925023   \n",
       "5             40.75591,-73.96901899999997   \n",
       "6    40.69396500000001,-73.96144699999998   \n",
       "7                    40.745767,-73.975187   \n",
       "8                    40.741787,-74.001065   \n",
       "9     40.74695205688477,-73.9743881225586   \n",
       "10                    40.80444,-73.966378   \n",
       "11                   40.767382,-73.953352   \n",
       "12           40.755193,-73.97336999999997   \n",
       "13                    40.75192,-73.990718   \n",
       "14                   40.756982,-73.988908   \n",
       "15           40.741138,-74.00566500000002   \n",
       "16  40.767189025878906,-73.96253204345702   \n",
       "17                   40.719633,-73.992075   \n",
       "18            40.74599,-73.98002199999998   \n",
       "19   40.72914123535156,-73.98918914794923   \n",
       "\n",
       "                      coordenadas_llegada  \n",
       "0       40.72321701049805,-73.99951171875  \n",
       "1                     40.750325,-73.99471  \n",
       "2                    40.772647,-73.962565  \n",
       "3                    40.803349,-73.965316  \n",
       "4            40.761247,-73.97308199999998  \n",
       "5             40.75591,-73.96901899999997  \n",
       "6                    40.774297,-73.871195  \n",
       "7                     40.743537,-74.00272  \n",
       "8                     40.775012,-73.96304  \n",
       "9   40.729804992675774,-73.98858642578125  \n",
       "10                    40.807133,-73.96589  \n",
       "11                    40.796137,-73.97251  \n",
       "12           40.766375,-73.97826500000002  \n",
       "13            40.74423,-73.97305300000002  \n",
       "14                    40.76005,-73.981246  \n",
       "15           40.749338,-73.97783000000003  \n",
       "16   40.75386047363281,-73.97445678710938  \n",
       "17                   40.727405,-73.985323  \n",
       "18           40.759667,-74.00343199999998  \n",
       "19    40.72063446044922,-73.9872817993164  "
      ]
     },
     "execution_count": 63,
     "metadata": {},
     "output_type": "execute_result"
    }
   ],
   "source": [
    "df.head(20)"
   ]
  },
  {
   "cell_type": "code",
   "execution_count": 64,
   "metadata": {},
   "outputs": [],
   "source": [
    "ciudades_salida=[]\n",
    "for i in range(0,1000):\n",
    "    location=geolocator.reverse(df.coordenadas_salida[i],timeout=None)\n",
    "    if location is None:\n",
    "        ciudades_salida.append(\"Sin datos\")\n",
    "    else:\n",
    "        address=location.raw[\"address\"]\n",
    "        ciudad=address.get(\"city\")\n",
    "        ciudades_salida.append(ciudad)"
   ]
  },
  {
   "cell_type": "markdown",
   "metadata": {},
   "source": [
    "Como es muy pesado de procesar geográficamente los 200.000 registros, tomé como solución de compromiso el marcar un cuadrado limitando los puntos que se encuentran dentro de allí cómo si fuera NY"
   ]
  },
  {
   "cell_type": "code",
   "execution_count": 65,
   "metadata": {},
   "outputs": [],
   "source": [
    "latitud_ny_salida=(df[\"pickup_latitude\"]>40.495898)&(df[\"pickup_latitude\"]<40.911288)\n",
    "latitud_ny_llegada=(df[\"dropoff_latitude\"]>40.495898)&(df[\"dropoff_latitude\"]<40.911288)\n",
    "longitud_ny_salida=(df[\"pickup_longitude\"]>-74.257124)&(df[\"pickup_longitude\"]<-73.700942)\n",
    "longitud_ny_llegada=(df[\"dropoff_longitude\"]>-74.257124)&(df[\"dropoff_longitude\"]<-73.700942)\n"
   ]
  },
  {
   "cell_type": "code",
   "execution_count": 66,
   "metadata": {},
   "outputs": [],
   "source": [
    "df[\"latitud_ny_salida\"]=latitud_ny_salida\n",
    "df[\"latitud_ny_llegada\"]=latitud_ny_llegada\n",
    "df[\"longitud__ny_salida\"]=longitud_ny_salida\n",
    "df[\"longitud_ny_llegada\"]=longitud_ny_llegada"
   ]
  },
  {
   "cell_type": "code",
   "execution_count": 67,
   "metadata": {},
   "outputs": [
    {
     "data": {
      "text/plain": [
       "(196218, 19)"
      ]
     },
     "execution_count": 67,
     "metadata": {},
     "output_type": "execute_result"
    }
   ],
   "source": [
    "df.shape"
   ]
  },
  {
   "cell_type": "code",
   "execution_count": 68,
   "metadata": {},
   "outputs": [],
   "source": [
    "df=df[df[\"latitud_ny_salida\"] == True]\n",
    "df=df[df[\"latitud_ny_llegada\"] == True]\n",
    "df=df[df[\"longitud__ny_salida\"] == True]\n",
    "df=df[df[\"longitud_ny_llegada\"] == True]"
   ]
  },
  {
   "cell_type": "markdown",
   "metadata": {},
   "source": [
    "La distancia máxima en auto dentro de NYC es de 96,5606 km por lo que filtro los registros dentro de esa rango"
   ]
  },
  {
   "cell_type": "code",
   "execution_count": 69,
   "metadata": {},
   "outputs": [],
   "source": [
    "distancia_entre0y96km=(df[\"distancia_viaje_en_km\"]>0)&(df[\"distancia_viaje_en_km\"]<96.5606)"
   ]
  },
  {
   "cell_type": "code",
   "execution_count": 70,
   "metadata": {},
   "outputs": [
    {
     "data": {
      "text/plain": [
       "(193557, 20)"
      ]
     },
     "execution_count": 70,
     "metadata": {},
     "output_type": "execute_result"
    }
   ],
   "source": [
    "df[\"distancia_entre0y96km\"]=distancia_entre0y96km\n",
    "df=df[df[\"distancia_entre0y96km\"] == True]\n",
    "df.shape"
   ]
  },
  {
   "cell_type": "markdown",
   "metadata": {},
   "source": [
    "Me quedo solo con tarifas positivas (mayores a 0)"
   ]
  },
  {
   "cell_type": "code",
   "execution_count": 71,
   "metadata": {},
   "outputs": [
    {
     "data": {
      "text/plain": [
       "(193539, 21)"
      ]
     },
     "execution_count": 71,
     "metadata": {},
     "output_type": "execute_result"
    }
   ],
   "source": [
    "tarifa_mayora0=(df[\"fare_amount\"]>0)\n",
    "df[\"tarifa_mayora0\"]=tarifa_mayora0\n",
    "df=df[df[\"tarifa_mayora0\"] == True]\n",
    "df.shape"
   ]
  },
  {
   "cell_type": "markdown",
   "metadata": {},
   "source": [
    "Convierto al formato correcto la columna de \"pickup_datetime\" para poder trabajar con la hora y fecha de dicha columna"
   ]
  },
  {
   "cell_type": "code",
   "execution_count": 72,
   "metadata": {},
   "outputs": [],
   "source": [
    "df[\"pickup_datetime\"]=pd.to_datetime(df[\"pickup_datetime\"])"
   ]
  },
  {
   "cell_type": "code",
   "execution_count": 73,
   "metadata": {},
   "outputs": [
    {
     "name": "stdout",
     "output_type": "stream",
     "text": [
      "<class 'pandas.core.frame.DataFrame'>\n",
      "Int64Index: 193539 entries, 0 to 196217\n",
      "Data columns (total 21 columns):\n",
      " #   Column                   Non-Null Count   Dtype              \n",
      "---  ------                   --------------   -----              \n",
      " 0   key                      193539 non-null  object             \n",
      " 1   fare_amount              193539 non-null  float64            \n",
      " 2   pickup_datetime          193539 non-null  datetime64[ns, UTC]\n",
      " 3   pickup_longitude         193539 non-null  float64            \n",
      " 4   pickup_latitude          193539 non-null  float64            \n",
      " 5   dropoff_longitude        193539 non-null  float64            \n",
      " 6   dropoff_latitude         193539 non-null  float64            \n",
      " 7   passenger_count          193539 non-null  int64              \n",
      " 8   distancia_viaje_en_km    193539 non-null  float64            \n",
      " 9   latitud_salida_string    193539 non-null  object             \n",
      " 10  longitud_salida_string   193539 non-null  object             \n",
      " 11  latitud_llegada_string   193539 non-null  object             \n",
      " 12  longitud_llegada_string  193539 non-null  object             \n",
      " 13  coordenadas_salida       193539 non-null  object             \n",
      " 14  coordenadas_llegada      193539 non-null  object             \n",
      " 15  latitud_ny_salida        193539 non-null  bool               \n",
      " 16  latitud_ny_llegada       193539 non-null  bool               \n",
      " 17  longitud__ny_salida      193539 non-null  bool               \n",
      " 18  longitud_ny_llegada      193539 non-null  bool               \n",
      " 19  distancia_entre0y96km    193539 non-null  bool               \n",
      " 20  tarifa_mayora0           193539 non-null  bool               \n",
      "dtypes: bool(6), datetime64[ns, UTC](1), float64(6), int64(1), object(7)\n",
      "memory usage: 24.7+ MB\n"
     ]
    }
   ],
   "source": [
    "df.info()"
   ]
  },
  {
   "cell_type": "markdown",
   "metadata": {},
   "source": [
    "Obtengo 4 rangos horarios significativos para poder trabajar mejor con la hora"
   ]
  },
  {
   "cell_type": "code",
   "execution_count": 74,
   "metadata": {},
   "outputs": [],
   "source": [
    "df=df.reset_index(drop=True)"
   ]
  },
  {
   "cell_type": "code",
   "execution_count": 75,
   "metadata": {},
   "outputs": [],
   "source": [
    "rango_horario=[]\n",
    "for i in range(len(df.index)):\n",
    "    hora_viaje=df.pickup_datetime[i].hour\n",
    "    if hora_viaje < 6:\n",
    "        rango_horario.append(\"Madrugada\")\n",
    "    elif hora_viaje < 12:\n",
    "        rango_horario.append(\"Mañana\")\n",
    "    elif hora_viaje < 19:\n",
    "        rango_horario.append(\"Tarde\")\n",
    "    else:\n",
    "        rango_horario.append(\"Noche\")  \n",
    "    \n",
    "        "
   ]
  },
  {
   "cell_type": "code",
   "execution_count": 76,
   "metadata": {},
   "outputs": [],
   "source": [
    "df[\"rango_horario\"]=rango_horario"
   ]
  },
  {
   "cell_type": "markdown",
   "metadata": {},
   "source": [
    "Agrego información al dataset viendo qué dia de la semana son los viajes y si estos son fin de semana o no"
   ]
  },
  {
   "cell_type": "code",
   "execution_count": 126,
   "metadata": {},
   "outputs": [],
   "source": [
    "nro_dia_semana=[]\n",
    "for i in range(len(df.index)):\n",
    "    dia_semana=df.pickup_datetime[i].weekday()\n",
    "    nro_dia_semana.append(dia_semana)\n"
   ]
  },
  {
   "cell_type": "code",
   "execution_count": 128,
   "metadata": {},
   "outputs": [],
   "source": [
    "df[\"nro_dia_semana\"]=nro_dia_semana"
   ]
  },
  {
   "cell_type": "code",
   "execution_count": 129,
   "metadata": {},
   "outputs": [],
   "source": [
    "fin_de_semana=[]\n",
    "for i in range(len(df.index)):\n",
    "    dia_semana=df.pickup_datetime[i].weekday()\n",
    "    if dia_semana < 5:\n",
    "        fin_de_semana.append(\"Entre semana\")\n",
    "    else:\n",
    "        fin_de_semana.append(\"Fin de semana\")  "
   ]
  },
  {
   "cell_type": "code",
   "execution_count": 130,
   "metadata": {},
   "outputs": [],
   "source": [
    "df[\"fin_de_semana\"]=fin_de_semana"
   ]
  },
  {
   "cell_type": "markdown",
   "metadata": {},
   "source": [
    "Finalmente, me quedo únicamente con las columnas de interés para el análisis, descartando las columnas creadas con el objetivo de hacer el data wrangling"
   ]
  },
  {
   "cell_type": "code",
   "execution_count": 135,
   "metadata": {},
   "outputs": [],
   "source": [
    "columnas_interes=[\"pickup_datetime\",\"pickup_longitude\",\"pickup_latitude\",\"dropoff_longitude\",\"dropoff_latitude\",\"passenger_count\",\"distancia_viaje_en_km\",\"coordenadas_salida\",\"coordenadas_llegada\",\"rango_horario\",\"nro_dia_semana\",\"fin_de_semana\"]\n",
    "df=df[columnas_interes]"
   ]
  },
  {
   "cell_type": "code",
   "execution_count": 136,
   "metadata": {},
   "outputs": [
    {
     "data": {
      "text/html": [
       "<div>\n",
       "<style scoped>\n",
       "    .dataframe tbody tr th:only-of-type {\n",
       "        vertical-align: middle;\n",
       "    }\n",
       "\n",
       "    .dataframe tbody tr th {\n",
       "        vertical-align: top;\n",
       "    }\n",
       "\n",
       "    .dataframe thead th {\n",
       "        text-align: right;\n",
       "    }\n",
       "</style>\n",
       "<table border=\"1\" class=\"dataframe\">\n",
       "  <thead>\n",
       "    <tr style=\"text-align: right;\">\n",
       "      <th></th>\n",
       "      <th>pickup_datetime</th>\n",
       "      <th>pickup_longitude</th>\n",
       "      <th>pickup_latitude</th>\n",
       "      <th>dropoff_longitude</th>\n",
       "      <th>dropoff_latitude</th>\n",
       "      <th>passenger_count</th>\n",
       "      <th>distancia_viaje_en_km</th>\n",
       "      <th>coordenadas_salida</th>\n",
       "      <th>coordenadas_llegada</th>\n",
       "      <th>rango_horario</th>\n",
       "      <th>nro_dia_semana</th>\n",
       "      <th>fin_de_semana</th>\n",
       "    </tr>\n",
       "  </thead>\n",
       "  <tbody>\n",
       "    <tr>\n",
       "      <th>0</th>\n",
       "      <td>2015-05-07 19:52:06+00:00</td>\n",
       "      <td>-73.999817</td>\n",
       "      <td>40.738354</td>\n",
       "      <td>-73.999512</td>\n",
       "      <td>40.723217</td>\n",
       "      <td>1</td>\n",
       "      <td>1.683325</td>\n",
       "      <td>40.73835372924805,-73.99981689453125</td>\n",
       "      <td>40.72321701049805,-73.99951171875</td>\n",
       "      <td>Noche</td>\n",
       "      <td>3</td>\n",
       "      <td>Entre semana</td>\n",
       "    </tr>\n",
       "    <tr>\n",
       "      <th>1</th>\n",
       "      <td>2009-07-17 20:04:56+00:00</td>\n",
       "      <td>-73.994355</td>\n",
       "      <td>40.728225</td>\n",
       "      <td>-73.994710</td>\n",
       "      <td>40.750325</td>\n",
       "      <td>1</td>\n",
       "      <td>2.457593</td>\n",
       "      <td>40.728225,-73.994355</td>\n",
       "      <td>40.750325,-73.99471</td>\n",
       "      <td>Noche</td>\n",
       "      <td>4</td>\n",
       "      <td>Entre semana</td>\n",
       "    </tr>\n",
       "    <tr>\n",
       "      <th>2</th>\n",
       "      <td>2009-08-24 21:45:00+00:00</td>\n",
       "      <td>-74.005043</td>\n",
       "      <td>40.740770</td>\n",
       "      <td>-73.962565</td>\n",
       "      <td>40.772647</td>\n",
       "      <td>1</td>\n",
       "      <td>5.036384</td>\n",
       "      <td>40.74077,-74.005043</td>\n",
       "      <td>40.772647,-73.962565</td>\n",
       "      <td>Noche</td>\n",
       "      <td>0</td>\n",
       "      <td>Entre semana</td>\n",
       "    </tr>\n",
       "    <tr>\n",
       "      <th>3</th>\n",
       "      <td>2009-06-26 08:22:21+00:00</td>\n",
       "      <td>-73.976124</td>\n",
       "      <td>40.790844</td>\n",
       "      <td>-73.965316</td>\n",
       "      <td>40.803349</td>\n",
       "      <td>3</td>\n",
       "      <td>1.661686</td>\n",
       "      <td>40.790844,-73.976124</td>\n",
       "      <td>40.803349,-73.965316</td>\n",
       "      <td>Mañana</td>\n",
       "      <td>4</td>\n",
       "      <td>Entre semana</td>\n",
       "    </tr>\n",
       "    <tr>\n",
       "      <th>4</th>\n",
       "      <td>2014-08-28 17:47:00+00:00</td>\n",
       "      <td>-73.925023</td>\n",
       "      <td>40.744085</td>\n",
       "      <td>-73.973082</td>\n",
       "      <td>40.761247</td>\n",
       "      <td>5</td>\n",
       "      <td>4.475456</td>\n",
       "      <td>40.744085,-73.925023</td>\n",
       "      <td>40.761247,-73.97308199999998</td>\n",
       "      <td>Tarde</td>\n",
       "      <td>3</td>\n",
       "      <td>Entre semana</td>\n",
       "    </tr>\n",
       "  </tbody>\n",
       "</table>\n",
       "</div>"
      ],
      "text/plain": [
       "            pickup_datetime  pickup_longitude  pickup_latitude  \\\n",
       "0 2015-05-07 19:52:06+00:00        -73.999817        40.738354   \n",
       "1 2009-07-17 20:04:56+00:00        -73.994355        40.728225   \n",
       "2 2009-08-24 21:45:00+00:00        -74.005043        40.740770   \n",
       "3 2009-06-26 08:22:21+00:00        -73.976124        40.790844   \n",
       "4 2014-08-28 17:47:00+00:00        -73.925023        40.744085   \n",
       "\n",
       "   dropoff_longitude  dropoff_latitude  passenger_count  \\\n",
       "0         -73.999512         40.723217                1   \n",
       "1         -73.994710         40.750325                1   \n",
       "2         -73.962565         40.772647                1   \n",
       "3         -73.965316         40.803349                3   \n",
       "4         -73.973082         40.761247                5   \n",
       "\n",
       "   distancia_viaje_en_km                    coordenadas_salida  \\\n",
       "0               1.683325  40.73835372924805,-73.99981689453125   \n",
       "1               2.457593                  40.728225,-73.994355   \n",
       "2               5.036384                   40.74077,-74.005043   \n",
       "3               1.661686                  40.790844,-73.976124   \n",
       "4               4.475456                  40.744085,-73.925023   \n",
       "\n",
       "                 coordenadas_llegada rango_horario  nro_dia_semana  \\\n",
       "0  40.72321701049805,-73.99951171875         Noche               3   \n",
       "1                40.750325,-73.99471         Noche               4   \n",
       "2               40.772647,-73.962565         Noche               0   \n",
       "3               40.803349,-73.965316        Mañana               4   \n",
       "4       40.761247,-73.97308199999998         Tarde               3   \n",
       "\n",
       "  fin_de_semana  \n",
       "0  Entre semana  \n",
       "1  Entre semana  \n",
       "2  Entre semana  \n",
       "3  Entre semana  \n",
       "4  Entre semana  "
      ]
     },
     "execution_count": 136,
     "metadata": {},
     "output_type": "execute_result"
    }
   ],
   "source": [
    "df.head()"
   ]
  },
  {
   "cell_type": "code",
   "execution_count": null,
   "metadata": {},
   "outputs": [],
   "source": []
  }
 ],
 "metadata": {
  "kernelspec": {
   "display_name": "Python 3",
   "language": "python",
   "name": "python3"
  },
  "language_info": {
   "codemirror_mode": {
    "name": "ipython",
    "version": 3
   },
   "file_extension": ".py",
   "mimetype": "text/x-python",
   "name": "python",
   "nbconvert_exporter": "python",
   "pygments_lexer": "ipython3",
   "version": "3.7.6"
  }
 },
 "nbformat": 4,
 "nbformat_minor": 4
}
