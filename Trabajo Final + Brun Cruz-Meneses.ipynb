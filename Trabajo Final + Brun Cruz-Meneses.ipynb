{
 "cells": [
  {
   "cell_type": "markdown",
   "metadata": {},
   "source": [
    "# Predicción de tarifas de Uber\n",
    "\n",
    "El proyecto está basado en un dataset con datos de viajes de Uber, compañía líder en servicios de movilidad alrededor del mundo.\n",
    "Una de las problemáticas principales es cómo cotizan el valor del viaje en tiempo real, basado en información en tiempo real sobre la oferta y demanda, distancia del viaje, datos históricos y cantidad de pasajeros en menor medida.\n",
    "\n",
    "El desafío es armar un modelo de predicción de tarifas ya que creemos que esta información es de gran relevancia para el negocio, es un dato clave para el cliente a la hora de tomar la decisión de contratar el servicio.\n",
    "El análisis estará basado en los datos proporcionados que son los siguientes:\n",
    "\n",
    "1. Key: identificador de cada viaje\n",
    "\n",
    "2. fare_amount: tarifa del viaje\n",
    "\n",
    "3. pickup_datetime: hora y fecha del inicio del viaje\n",
    "\n",
    "4. pickup_longitude: longitud en el mapa sobre el punto de recogida\n",
    "\n",
    "5. pickup_latitude: latidud en el mapa sobre el punto de recogida\n",
    "\n",
    "6. dropoff_longitude: longitud del punto final del viaje\n",
    "\n",
    "7. dropoff_latitude: latitud del punto final del viaje\n",
    "\n",
    "8. passenger_count: cantidad de pasajeros\n",
    "\n",
    "\n",
    "El dataset fue obtenido de Kaggle.\n",
    "Se realizó una limpieza inicial donde se eliminó una columna que no servía para el análisis.\n",
    "\n",
    "Obviamente no contaremos con información en tiempo real sobre oferta y demanda, pero tal vez sí podremos estimar demanda combinando datos de horario y pickup.\n"
   ]
  },
  {
   "cell_type": "code",
   "execution_count": 1,
   "metadata": {},
   "outputs": [],
   "source": [
    "import pandas as pd\n",
    "import numpy as np\n",
    "import seaborn as sns\n",
    "from seaborn import boxplot\n",
    "from seaborn import countplot\n",
    "from seaborn import distplot\n",
    "from geopy.geocoders import ArcGIS\n",
    "from geopy.distance import geodesic\n",
    "from geopy.geocoders import Nominatim\n",
    "from haversine import haversine\n",
    "import matplotlib.pyplot as plt\n",
    "from seaborn import heatmap\n",
    "geolocator = Nominatim(user_agent=\"geoapiExercises\")\n",
    "from datetime import *\n",
    "from mpl_toolkits.basemap import Basemap\n",
    "from sklearn.model_selection import train_test_split\n",
    "from sklearn.tree import DecisionTreeClassifier\n",
    "from sklearn.tree import DecisionTreeRegressor\n",
    "from sklearn.metrics import accuracy_score\n",
    "from sklearn.metrics import mean_squared_error\n",
    "from sklearn.neighbors import KNeighborsRegressor\n",
    "from sklearn.ensemble import RandomForestRegressor\n",
    "from sklearn.cluster import DBSCAN\n",
    "from sklearn.cluster import KMeans\n",
    "from sklearn.decomposition import PCA\n",
    "from sklearn.preprocessing import StandardScaler\n",
    "from sklearn.model_selection import KFold\n",
    "from sklearn.model_selection import GridSearchCV\n",
    "from sklearn.model_selection import cross_val_score\n",
    "from sklearn.model_selection import RandomizedSearchCV\n",
    "import lightgbm as lgb\n",
    "from lightgbm import LGBMRegressor\n",
    "import sklearn"
   ]
  },
  {
   "cell_type": "markdown",
   "metadata": {},
   "source": [
    "### Importo el Dataset"
   ]
  },
  {
   "cell_type": "code",
   "execution_count": 2,
   "metadata": {},
   "outputs": [],
   "source": [
    "df=pd.read_csv(\"https://raw.githubusercontent.com/ezequielimeneses/TrabajoFinalDatascientistCoder/9ce01a9d9600daddcd290ab33e5988ebaaf9f6b0/uber.csv\")\n"
   ]
  },
  {
   "cell_type": "markdown",
   "metadata": {},
   "source": [
    "### Verifico que se haya cargado bien el dataset"
   ]
  },
  {
   "cell_type": "code",
   "execution_count": 3,
   "metadata": {},
   "outputs": [
    {
     "data": {
      "text/html": [
       "<div>\n",
       "<style scoped>\n",
       "    .dataframe tbody tr th:only-of-type {\n",
       "        vertical-align: middle;\n",
       "    }\n",
       "\n",
       "    .dataframe tbody tr th {\n",
       "        vertical-align: top;\n",
       "    }\n",
       "\n",
       "    .dataframe thead th {\n",
       "        text-align: right;\n",
       "    }\n",
       "</style>\n",
       "<table border=\"1\" class=\"dataframe\">\n",
       "  <thead>\n",
       "    <tr style=\"text-align: right;\">\n",
       "      <th></th>\n",
       "      <th>Unnamed: 0</th>\n",
       "      <th>key</th>\n",
       "      <th>fare_amount</th>\n",
       "      <th>pickup_datetime</th>\n",
       "      <th>pickup_longitude</th>\n",
       "      <th>pickup_latitude</th>\n",
       "      <th>dropoff_longitude</th>\n",
       "      <th>dropoff_latitude</th>\n",
       "      <th>passenger_count</th>\n",
       "    </tr>\n",
       "  </thead>\n",
       "  <tbody>\n",
       "    <tr>\n",
       "      <th>0</th>\n",
       "      <td>24238194</td>\n",
       "      <td>2015-05-07 19:52:06.0000003</td>\n",
       "      <td>7.5</td>\n",
       "      <td>2015-05-07 19:52:06 UTC</td>\n",
       "      <td>-73.999817</td>\n",
       "      <td>40.738354</td>\n",
       "      <td>-73.999512</td>\n",
       "      <td>40.723217</td>\n",
       "      <td>1</td>\n",
       "    </tr>\n",
       "    <tr>\n",
       "      <th>1</th>\n",
       "      <td>27835199</td>\n",
       "      <td>2009-07-17 20:04:56.0000002</td>\n",
       "      <td>7.7</td>\n",
       "      <td>2009-07-17 20:04:56 UTC</td>\n",
       "      <td>-73.994355</td>\n",
       "      <td>40.728225</td>\n",
       "      <td>-73.994710</td>\n",
       "      <td>40.750325</td>\n",
       "      <td>1</td>\n",
       "    </tr>\n",
       "    <tr>\n",
       "      <th>2</th>\n",
       "      <td>44984355</td>\n",
       "      <td>2009-08-24 21:45:00.00000061</td>\n",
       "      <td>12.9</td>\n",
       "      <td>2009-08-24 21:45:00 UTC</td>\n",
       "      <td>-74.005043</td>\n",
       "      <td>40.740770</td>\n",
       "      <td>-73.962565</td>\n",
       "      <td>40.772647</td>\n",
       "      <td>1</td>\n",
       "    </tr>\n",
       "    <tr>\n",
       "      <th>3</th>\n",
       "      <td>25894730</td>\n",
       "      <td>2009-06-26 08:22:21.0000001</td>\n",
       "      <td>5.3</td>\n",
       "      <td>2009-06-26 08:22:21 UTC</td>\n",
       "      <td>-73.976124</td>\n",
       "      <td>40.790844</td>\n",
       "      <td>-73.965316</td>\n",
       "      <td>40.803349</td>\n",
       "      <td>3</td>\n",
       "    </tr>\n",
       "    <tr>\n",
       "      <th>4</th>\n",
       "      <td>17610152</td>\n",
       "      <td>2014-08-28 17:47:00.000000188</td>\n",
       "      <td>16.0</td>\n",
       "      <td>2014-08-28 17:47:00 UTC</td>\n",
       "      <td>-73.925023</td>\n",
       "      <td>40.744085</td>\n",
       "      <td>-73.973082</td>\n",
       "      <td>40.761247</td>\n",
       "      <td>5</td>\n",
       "    </tr>\n",
       "  </tbody>\n",
       "</table>\n",
       "</div>"
      ],
      "text/plain": [
       "   Unnamed: 0                            key  fare_amount  \\\n",
       "0    24238194    2015-05-07 19:52:06.0000003          7.5   \n",
       "1    27835199    2009-07-17 20:04:56.0000002          7.7   \n",
       "2    44984355   2009-08-24 21:45:00.00000061         12.9   \n",
       "3    25894730    2009-06-26 08:22:21.0000001          5.3   \n",
       "4    17610152  2014-08-28 17:47:00.000000188         16.0   \n",
       "\n",
       "           pickup_datetime  pickup_longitude  pickup_latitude  \\\n",
       "0  2015-05-07 19:52:06 UTC        -73.999817        40.738354   \n",
       "1  2009-07-17 20:04:56 UTC        -73.994355        40.728225   \n",
       "2  2009-08-24 21:45:00 UTC        -74.005043        40.740770   \n",
       "3  2009-06-26 08:22:21 UTC        -73.976124        40.790844   \n",
       "4  2014-08-28 17:47:00 UTC        -73.925023        40.744085   \n",
       "\n",
       "   dropoff_longitude  dropoff_latitude  passenger_count  \n",
       "0         -73.999512         40.723217                1  \n",
       "1         -73.994710         40.750325                1  \n",
       "2         -73.962565         40.772647                1  \n",
       "3         -73.965316         40.803349                3  \n",
       "4         -73.973082         40.761247                5  "
      ]
     },
     "execution_count": 3,
     "metadata": {},
     "output_type": "execute_result"
    }
   ],
   "source": [
    "df.head()"
   ]
  },
  {
   "cell_type": "markdown",
   "metadata": {},
   "source": [
    "### Miro datos básicos de cada columna"
   ]
  },
  {
   "cell_type": "code",
   "execution_count": 4,
   "metadata": {},
   "outputs": [
    {
     "data": {
      "text/plain": [
       "(200000, 9)"
      ]
     },
     "execution_count": 4,
     "metadata": {},
     "output_type": "execute_result"
    }
   ],
   "source": [
    "df.shape"
   ]
  },
  {
   "cell_type": "code",
   "execution_count": 5,
   "metadata": {},
   "outputs": [
    {
     "data": {
      "text/plain": [
       "Unnamed: 0           200000\n",
       "key                  200000\n",
       "fare_amount          200000\n",
       "pickup_datetime      200000\n",
       "pickup_longitude     200000\n",
       "pickup_latitude      200000\n",
       "dropoff_longitude    199999\n",
       "dropoff_latitude     199999\n",
       "passenger_count      200000\n",
       "dtype: int64"
      ]
     },
     "execution_count": 5,
     "metadata": {},
     "output_type": "execute_result"
    }
   ],
   "source": [
    "df.count()"
   ]
  },
  {
   "cell_type": "code",
   "execution_count": 6,
   "metadata": {},
   "outputs": [
    {
     "data": {
      "text/html": [
       "<div>\n",
       "<style scoped>\n",
       "    .dataframe tbody tr th:only-of-type {\n",
       "        vertical-align: middle;\n",
       "    }\n",
       "\n",
       "    .dataframe tbody tr th {\n",
       "        vertical-align: top;\n",
       "    }\n",
       "\n",
       "    .dataframe thead th {\n",
       "        text-align: right;\n",
       "    }\n",
       "</style>\n",
       "<table border=\"1\" class=\"dataframe\">\n",
       "  <thead>\n",
       "    <tr style=\"text-align: right;\">\n",
       "      <th></th>\n",
       "      <th>Unnamed: 0</th>\n",
       "      <th>fare_amount</th>\n",
       "      <th>pickup_longitude</th>\n",
       "      <th>pickup_latitude</th>\n",
       "      <th>dropoff_longitude</th>\n",
       "      <th>dropoff_latitude</th>\n",
       "      <th>passenger_count</th>\n",
       "    </tr>\n",
       "  </thead>\n",
       "  <tbody>\n",
       "    <tr>\n",
       "      <th>count</th>\n",
       "      <td>2.000000e+05</td>\n",
       "      <td>200000.000000</td>\n",
       "      <td>200000.000000</td>\n",
       "      <td>200000.000000</td>\n",
       "      <td>199999.000000</td>\n",
       "      <td>199999.000000</td>\n",
       "      <td>200000.000000</td>\n",
       "    </tr>\n",
       "    <tr>\n",
       "      <th>mean</th>\n",
       "      <td>2.771250e+07</td>\n",
       "      <td>11.359955</td>\n",
       "      <td>-72.527638</td>\n",
       "      <td>39.935885</td>\n",
       "      <td>-72.525292</td>\n",
       "      <td>39.923890</td>\n",
       "      <td>1.684535</td>\n",
       "    </tr>\n",
       "    <tr>\n",
       "      <th>std</th>\n",
       "      <td>1.601382e+07</td>\n",
       "      <td>9.901776</td>\n",
       "      <td>11.437787</td>\n",
       "      <td>7.720539</td>\n",
       "      <td>13.117408</td>\n",
       "      <td>6.794829</td>\n",
       "      <td>1.385997</td>\n",
       "    </tr>\n",
       "    <tr>\n",
       "      <th>min</th>\n",
       "      <td>1.000000e+00</td>\n",
       "      <td>-52.000000</td>\n",
       "      <td>-1340.648410</td>\n",
       "      <td>-74.015515</td>\n",
       "      <td>-3356.666300</td>\n",
       "      <td>-881.985513</td>\n",
       "      <td>0.000000</td>\n",
       "    </tr>\n",
       "    <tr>\n",
       "      <th>25%</th>\n",
       "      <td>1.382535e+07</td>\n",
       "      <td>6.000000</td>\n",
       "      <td>-73.992065</td>\n",
       "      <td>40.734796</td>\n",
       "      <td>-73.991407</td>\n",
       "      <td>40.733823</td>\n",
       "      <td>1.000000</td>\n",
       "    </tr>\n",
       "    <tr>\n",
       "      <th>50%</th>\n",
       "      <td>2.774550e+07</td>\n",
       "      <td>8.500000</td>\n",
       "      <td>-73.981823</td>\n",
       "      <td>40.752592</td>\n",
       "      <td>-73.980093</td>\n",
       "      <td>40.753042</td>\n",
       "      <td>1.000000</td>\n",
       "    </tr>\n",
       "    <tr>\n",
       "      <th>75%</th>\n",
       "      <td>4.155530e+07</td>\n",
       "      <td>12.500000</td>\n",
       "      <td>-73.967154</td>\n",
       "      <td>40.767158</td>\n",
       "      <td>-73.963658</td>\n",
       "      <td>40.768001</td>\n",
       "      <td>2.000000</td>\n",
       "    </tr>\n",
       "    <tr>\n",
       "      <th>max</th>\n",
       "      <td>5.542357e+07</td>\n",
       "      <td>499.000000</td>\n",
       "      <td>57.418457</td>\n",
       "      <td>1644.421482</td>\n",
       "      <td>1153.572603</td>\n",
       "      <td>872.697628</td>\n",
       "      <td>208.000000</td>\n",
       "    </tr>\n",
       "  </tbody>\n",
       "</table>\n",
       "</div>"
      ],
      "text/plain": [
       "         Unnamed: 0    fare_amount  pickup_longitude  pickup_latitude  \\\n",
       "count  2.000000e+05  200000.000000     200000.000000    200000.000000   \n",
       "mean   2.771250e+07      11.359955        -72.527638        39.935885   \n",
       "std    1.601382e+07       9.901776         11.437787         7.720539   \n",
       "min    1.000000e+00     -52.000000      -1340.648410       -74.015515   \n",
       "25%    1.382535e+07       6.000000        -73.992065        40.734796   \n",
       "50%    2.774550e+07       8.500000        -73.981823        40.752592   \n",
       "75%    4.155530e+07      12.500000        -73.967154        40.767158   \n",
       "max    5.542357e+07     499.000000         57.418457      1644.421482   \n",
       "\n",
       "       dropoff_longitude  dropoff_latitude  passenger_count  \n",
       "count      199999.000000     199999.000000    200000.000000  \n",
       "mean          -72.525292         39.923890         1.684535  \n",
       "std            13.117408          6.794829         1.385997  \n",
       "min         -3356.666300       -881.985513         0.000000  \n",
       "25%           -73.991407         40.733823         1.000000  \n",
       "50%           -73.980093         40.753042         1.000000  \n",
       "75%           -73.963658         40.768001         2.000000  \n",
       "max          1153.572603        872.697628       208.000000  "
      ]
     },
     "execution_count": 6,
     "metadata": {},
     "output_type": "execute_result"
    }
   ],
   "source": [
    "df.describe()"
   ]
  },
  {
   "cell_type": "markdown",
   "metadata": {},
   "source": [
    "La primer conclusión es que tengo las dos variables numéricas ( cantidad de pasajeros y tarifas) y el resto son variables categóricas (latitud y longitud del comienzo y fin de cada viaje). También está la columna date time con la fecha y hora de comienzo del viaje\n",
    "\n",
    "Se tienen entonces 7 columnas con 199.996 registros (viajes) "
   ]
  },
  {
   "cell_type": "markdown",
   "metadata": {},
   "source": [
    "### Elimino la primer columna que no suma para el análisis"
   ]
  },
  {
   "cell_type": "code",
   "execution_count": 7,
   "metadata": {},
   "outputs": [
    {
     "data": {
      "text/html": [
       "<div>\n",
       "<style scoped>\n",
       "    .dataframe tbody tr th:only-of-type {\n",
       "        vertical-align: middle;\n",
       "    }\n",
       "\n",
       "    .dataframe tbody tr th {\n",
       "        vertical-align: top;\n",
       "    }\n",
       "\n",
       "    .dataframe thead th {\n",
       "        text-align: right;\n",
       "    }\n",
       "</style>\n",
       "<table border=\"1\" class=\"dataframe\">\n",
       "  <thead>\n",
       "    <tr style=\"text-align: right;\">\n",
       "      <th></th>\n",
       "      <th>key</th>\n",
       "      <th>fare_amount</th>\n",
       "      <th>pickup_datetime</th>\n",
       "      <th>pickup_longitude</th>\n",
       "      <th>pickup_latitude</th>\n",
       "      <th>dropoff_longitude</th>\n",
       "      <th>dropoff_latitude</th>\n",
       "      <th>passenger_count</th>\n",
       "    </tr>\n",
       "  </thead>\n",
       "  <tbody>\n",
       "    <tr>\n",
       "      <th>0</th>\n",
       "      <td>2015-05-07 19:52:06.0000003</td>\n",
       "      <td>7.5</td>\n",
       "      <td>2015-05-07 19:52:06 UTC</td>\n",
       "      <td>-73.999817</td>\n",
       "      <td>40.738354</td>\n",
       "      <td>-73.999512</td>\n",
       "      <td>40.723217</td>\n",
       "      <td>1</td>\n",
       "    </tr>\n",
       "    <tr>\n",
       "      <th>1</th>\n",
       "      <td>2009-07-17 20:04:56.0000002</td>\n",
       "      <td>7.7</td>\n",
       "      <td>2009-07-17 20:04:56 UTC</td>\n",
       "      <td>-73.994355</td>\n",
       "      <td>40.728225</td>\n",
       "      <td>-73.994710</td>\n",
       "      <td>40.750325</td>\n",
       "      <td>1</td>\n",
       "    </tr>\n",
       "    <tr>\n",
       "      <th>2</th>\n",
       "      <td>2009-08-24 21:45:00.00000061</td>\n",
       "      <td>12.9</td>\n",
       "      <td>2009-08-24 21:45:00 UTC</td>\n",
       "      <td>-74.005043</td>\n",
       "      <td>40.740770</td>\n",
       "      <td>-73.962565</td>\n",
       "      <td>40.772647</td>\n",
       "      <td>1</td>\n",
       "    </tr>\n",
       "    <tr>\n",
       "      <th>3</th>\n",
       "      <td>2009-06-26 08:22:21.0000001</td>\n",
       "      <td>5.3</td>\n",
       "      <td>2009-06-26 08:22:21 UTC</td>\n",
       "      <td>-73.976124</td>\n",
       "      <td>40.790844</td>\n",
       "      <td>-73.965316</td>\n",
       "      <td>40.803349</td>\n",
       "      <td>3</td>\n",
       "    </tr>\n",
       "    <tr>\n",
       "      <th>4</th>\n",
       "      <td>2014-08-28 17:47:00.000000188</td>\n",
       "      <td>16.0</td>\n",
       "      <td>2014-08-28 17:47:00 UTC</td>\n",
       "      <td>-73.925023</td>\n",
       "      <td>40.744085</td>\n",
       "      <td>-73.973082</td>\n",
       "      <td>40.761247</td>\n",
       "      <td>5</td>\n",
       "    </tr>\n",
       "    <tr>\n",
       "      <th>...</th>\n",
       "      <td>...</td>\n",
       "      <td>...</td>\n",
       "      <td>...</td>\n",
       "      <td>...</td>\n",
       "      <td>...</td>\n",
       "      <td>...</td>\n",
       "      <td>...</td>\n",
       "      <td>...</td>\n",
       "    </tr>\n",
       "    <tr>\n",
       "      <th>199995</th>\n",
       "      <td>2012-10-28 10:49:00.00000053</td>\n",
       "      <td>3.0</td>\n",
       "      <td>2012-10-28 10:49:00 UTC</td>\n",
       "      <td>-73.987042</td>\n",
       "      <td>40.739367</td>\n",
       "      <td>-73.986525</td>\n",
       "      <td>40.740297</td>\n",
       "      <td>1</td>\n",
       "    </tr>\n",
       "    <tr>\n",
       "      <th>199996</th>\n",
       "      <td>2014-03-14 01:09:00.0000008</td>\n",
       "      <td>7.5</td>\n",
       "      <td>2014-03-14 01:09:00 UTC</td>\n",
       "      <td>-73.984722</td>\n",
       "      <td>40.736837</td>\n",
       "      <td>-74.006672</td>\n",
       "      <td>40.739620</td>\n",
       "      <td>1</td>\n",
       "    </tr>\n",
       "    <tr>\n",
       "      <th>199997</th>\n",
       "      <td>2009-06-29 00:42:00.00000078</td>\n",
       "      <td>30.9</td>\n",
       "      <td>2009-06-29 00:42:00 UTC</td>\n",
       "      <td>-73.986017</td>\n",
       "      <td>40.756487</td>\n",
       "      <td>-73.858957</td>\n",
       "      <td>40.692588</td>\n",
       "      <td>2</td>\n",
       "    </tr>\n",
       "    <tr>\n",
       "      <th>199998</th>\n",
       "      <td>2015-05-20 14:56:25.0000004</td>\n",
       "      <td>14.5</td>\n",
       "      <td>2015-05-20 14:56:25 UTC</td>\n",
       "      <td>-73.997124</td>\n",
       "      <td>40.725452</td>\n",
       "      <td>-73.983215</td>\n",
       "      <td>40.695415</td>\n",
       "      <td>1</td>\n",
       "    </tr>\n",
       "    <tr>\n",
       "      <th>199999</th>\n",
       "      <td>2010-05-15 04:08:00.00000076</td>\n",
       "      <td>14.1</td>\n",
       "      <td>2010-05-15 04:08:00 UTC</td>\n",
       "      <td>-73.984395</td>\n",
       "      <td>40.720077</td>\n",
       "      <td>-73.985508</td>\n",
       "      <td>40.768793</td>\n",
       "      <td>1</td>\n",
       "    </tr>\n",
       "  </tbody>\n",
       "</table>\n",
       "<p>200000 rows × 8 columns</p>\n",
       "</div>"
      ],
      "text/plain": [
       "                                  key  fare_amount          pickup_datetime  \\\n",
       "0         2015-05-07 19:52:06.0000003          7.5  2015-05-07 19:52:06 UTC   \n",
       "1         2009-07-17 20:04:56.0000002          7.7  2009-07-17 20:04:56 UTC   \n",
       "2        2009-08-24 21:45:00.00000061         12.9  2009-08-24 21:45:00 UTC   \n",
       "3         2009-06-26 08:22:21.0000001          5.3  2009-06-26 08:22:21 UTC   \n",
       "4       2014-08-28 17:47:00.000000188         16.0  2014-08-28 17:47:00 UTC   \n",
       "...                               ...          ...                      ...   \n",
       "199995   2012-10-28 10:49:00.00000053          3.0  2012-10-28 10:49:00 UTC   \n",
       "199996    2014-03-14 01:09:00.0000008          7.5  2014-03-14 01:09:00 UTC   \n",
       "199997   2009-06-29 00:42:00.00000078         30.9  2009-06-29 00:42:00 UTC   \n",
       "199998    2015-05-20 14:56:25.0000004         14.5  2015-05-20 14:56:25 UTC   \n",
       "199999   2010-05-15 04:08:00.00000076         14.1  2010-05-15 04:08:00 UTC   \n",
       "\n",
       "        pickup_longitude  pickup_latitude  dropoff_longitude  \\\n",
       "0             -73.999817        40.738354         -73.999512   \n",
       "1             -73.994355        40.728225         -73.994710   \n",
       "2             -74.005043        40.740770         -73.962565   \n",
       "3             -73.976124        40.790844         -73.965316   \n",
       "4             -73.925023        40.744085         -73.973082   \n",
       "...                  ...              ...                ...   \n",
       "199995        -73.987042        40.739367         -73.986525   \n",
       "199996        -73.984722        40.736837         -74.006672   \n",
       "199997        -73.986017        40.756487         -73.858957   \n",
       "199998        -73.997124        40.725452         -73.983215   \n",
       "199999        -73.984395        40.720077         -73.985508   \n",
       "\n",
       "        dropoff_latitude  passenger_count  \n",
       "0              40.723217                1  \n",
       "1              40.750325                1  \n",
       "2              40.772647                1  \n",
       "3              40.803349                3  \n",
       "4              40.761247                5  \n",
       "...                  ...              ...  \n",
       "199995         40.740297                1  \n",
       "199996         40.739620                1  \n",
       "199997         40.692588                2  \n",
       "199998         40.695415                1  \n",
       "199999         40.768793                1  \n",
       "\n",
       "[200000 rows x 8 columns]"
      ]
     },
     "execution_count": 7,
     "metadata": {},
     "output_type": "execute_result"
    }
   ],
   "source": [
    "df=df.iloc[:,1:]\n",
    "df"
   ]
  },
  {
   "cell_type": "markdown",
   "metadata": {},
   "source": [
    "## Ejemplos Análisis univariado "
   ]
  },
  {
   "cell_type": "code",
   "execution_count": 8,
   "metadata": {},
   "outputs": [
    {
     "data": {
      "text/plain": [
       "<matplotlib.axes._subplots.AxesSubplot at 0x2113b0f2c48>"
      ]
     },
     "execution_count": 8,
     "metadata": {},
     "output_type": "execute_result"
    },
    {
     "data": {
      "image/png": "[encoded data removed]",
      "text/plain": [
       "<Figure size 432x288 with 1 Axes>"
      ]
     },
     "metadata": {
      "needs_background": "light"
     },
     "output_type": "display_data"
    }
   ],
   "source": [
    "boxplot(df.fare_amount, orient=\"v\",width=0.8,fliersize=5)"
   ]
  },
  {
   "cell_type": "code",
   "execution_count": 9,
   "metadata": {},
   "outputs": [
    {
     "data": {
      "text/plain": [
       "<matplotlib.axes._subplots.AxesSubplot at 0x2113b322508>"
      ]
     },
     "execution_count": 9,
     "metadata": {},
     "output_type": "execute_result"
    },
    {
     "data": {
      "image/png": "[encoded data removed]",
      "text/plain": [
       "<Figure size 432x288 with 1 Axes>"
      ]
     },
     "metadata": {
      "needs_background": "light"
     },
     "output_type": "display_data"
    }
   ],
   "source": [
    "distplot(df.fare_amount)"
   ]
  },
  {
   "cell_type": "markdown",
   "metadata": {},
   "source": [
    "Cómo se ve gráficamente, hay una dispersión muy grande en los datos. Para hacer un análisis mejor podría quedarme con los registros con tarifa menor a 100 (considerando que estos son los signifactivos)"
   ]
  },
  {
   "cell_type": "code",
   "execution_count": 10,
   "metadata": {},
   "outputs": [],
   "source": [
    "tarifas_entre0y100=(df.fare_amount<100)&(df.fare_amount>0)"
   ]
  },
  {
   "cell_type": "code",
   "execution_count": 11,
   "metadata": {},
   "outputs": [
    {
     "data": {
      "text/plain": [
       "0         True\n",
       "1         True\n",
       "2         True\n",
       "3         True\n",
       "4         True\n",
       "          ... \n",
       "199995    True\n",
       "199996    True\n",
       "199997    True\n",
       "199998    True\n",
       "199999    True\n",
       "Name: fare_amount, Length: 200000, dtype: bool"
      ]
     },
     "execution_count": 11,
     "metadata": {},
     "output_type": "execute_result"
    }
   ],
   "source": [
    "tarifas_entre0y100"
   ]
  },
  {
   "cell_type": "code",
   "execution_count": 12,
   "metadata": {},
   "outputs": [
    {
     "data": {
      "text/plain": [
       "(199888, 8)"
      ]
     },
     "execution_count": 12,
     "metadata": {},
     "output_type": "execute_result"
    }
   ],
   "source": [
    "df_tarifas_menores_a_100=df[tarifas_entre0y100]\n",
    "df_tarifas_menores_a_100.shape"
   ]
  },
  {
   "cell_type": "code",
   "execution_count": 13,
   "metadata": {},
   "outputs": [
    {
     "data": {
      "text/plain": [
       "<matplotlib.axes._subplots.AxesSubplot at 0x2113b421048>"
      ]
     },
     "execution_count": 13,
     "metadata": {},
     "output_type": "execute_result"
    },
    {
     "data": {
      "image/png": "[encoded data removed]",
      "text/plain": [
       "<Figure size 432x288 with 1 Axes>"
      ]
     },
     "metadata": {
      "needs_background": "light"
     },
     "output_type": "display_data"
    }
   ],
   "source": [
    "boxplot(df_tarifas_menores_a_100.fare_amount,orient=\"v\")"
   ]
  },
  {
   "cell_type": "code",
   "execution_count": 14,
   "metadata": {},
   "outputs": [
    {
     "data": {
      "text/plain": [
       "<matplotlib.axes._subplots.AxesSubplot at 0x2113b4e5208>"
      ]
     },
     "execution_count": 14,
     "metadata": {},
     "output_type": "execute_result"
    },
    {
     "data": {
      "image/png": "[encoded data removed]",
      "text/plain": [
       "<Figure size 432x288 with 1 Axes>"
      ]
     },
     "metadata": {
      "needs_background": "light"
     },
     "output_type": "display_data"
    }
   ],
   "source": [
    "distplot(df_tarifas_menores_a_100.fare_amount)"
   ]
  },
  {
   "cell_type": "markdown",
   "metadata": {},
   "source": [
    "Perdiendo pocos registros, 111 (0,05% del total inicial), se puede observar mucho mejor la información y hacer un análisis más valioso. Igualmente se sigue viendo, que dentro de ese rango, los datos se encuentran dispersos ya que la frecuencia máxima es un poco más del 10%."
   ]
  },
  {
   "cell_type": "code",
   "execution_count": 15,
   "metadata": {},
   "outputs": [
    {
     "data": {
      "text/plain": [
       "<matplotlib.axes._subplots.AxesSubplot at 0x2113bcdc088>"
      ]
     },
     "execution_count": 15,
     "metadata": {},
     "output_type": "execute_result"
    },
    {
     "data": {
      "image/png": "[encoded data removed]",
      "text/plain": [
       "<Figure size 432x288 with 1 Axes>"
      ]
     },
     "metadata": {
      "needs_background": "light"
     },
     "output_type": "display_data"
    }
   ],
   "source": [
    "boxplot(df.passenger_count,orient=\"v\")"
   ]
  },
  {
   "cell_type": "markdown",
   "metadata": {},
   "source": [
    "Lo mismo podemos hacer con esta columna y eliminar el outlier de 200 pasajeros (que no tiene sentido lógico)"
   ]
  },
  {
   "cell_type": "code",
   "execution_count": 16,
   "metadata": {},
   "outputs": [
    {
     "data": {
      "text/plain": [
       "<matplotlib.axes._subplots.AxesSubplot at 0x2113b4213c8>"
      ]
     },
     "execution_count": 16,
     "metadata": {},
     "output_type": "execute_result"
    },
    {
     "data": {
      "image/png": "[encoded data removed]",
      "text/plain": [
       "<Figure size 432x288 with 1 Axes>"
      ]
     },
     "metadata": {
      "needs_background": "light"
     },
     "output_type": "display_data"
    }
   ],
   "source": [
    "countplot(df.passenger_count)"
   ]
  },
  {
   "cell_type": "code",
   "execution_count": 17,
   "metadata": {},
   "outputs": [],
   "source": [
    "pasajeros = df.passenger_count<=6"
   ]
  },
  {
   "cell_type": "code",
   "execution_count": 18,
   "metadata": {},
   "outputs": [],
   "source": [
    "df_sin_208_pasajeros=df[pasajeros]"
   ]
  },
  {
   "cell_type": "code",
   "execution_count": 19,
   "metadata": {},
   "outputs": [
    {
     "data": {
      "text/plain": [
       "<matplotlib.axes._subplots.AxesSubplot at 0x2113b8d8488>"
      ]
     },
     "execution_count": 19,
     "metadata": {},
     "output_type": "execute_result"
    },
    {
     "data": {
      "image/png": "[encoded data removed]",
      "text/plain": [
       "<Figure size 432x288 with 1 Axes>"
      ]
     },
     "metadata": {
      "needs_background": "light"
     },
     "output_type": "display_data"
    }
   ],
   "source": [
    "countplot(df_sin_208_pasajeros.passenger_count)"
   ]
  },
  {
   "cell_type": "code",
   "execution_count": 20,
   "metadata": {},
   "outputs": [
    {
     "data": {
      "text/plain": [
       "1    138425\n",
       "2     29428\n",
       "5     14009\n",
       "3      8881\n",
       "4      4276\n",
       "6      4271\n",
       "0       709\n",
       "Name: passenger_count, dtype: int64"
      ]
     },
     "execution_count": 20,
     "metadata": {},
     "output_type": "execute_result"
    }
   ],
   "source": [
    "frecuencia_cuenta_pasajeros=df_sin_208_pasajeros.passenger_count.value_counts()\n",
    "frecuencia_cuenta_pasajeros"
   ]
  },
  {
   "cell_type": "code",
   "execution_count": 21,
   "metadata": {},
   "outputs": [
    {
     "data": {
      "text/plain": [
       "<matplotlib.axes._subplots.AxesSubplot at 0x2113b922808>"
      ]
     },
     "execution_count": 21,
     "metadata": {},
     "output_type": "execute_result"
    },
    {
     "data": {
      "image/png": "[encoded data removed]",
      "text/plain": [
       "<Figure size 432x288 with 1 Axes>"
      ]
     },
     "metadata": {
      "needs_background": "light"
     },
     "output_type": "display_data"
    }
   ],
   "source": [
    "boxplot(df_sin_208_pasajeros.passenger_count,orient=\"v\")"
   ]
  },
  {
   "cell_type": "markdown",
   "metadata": {},
   "source": [
    "Como vemos, la gran cantidad de viajes fueron con un pasajero. Podemos ver, como tiene sentido, que los viajes fueron desde 1 a 6 pasajeros y habría que seguir averiguando (con el dueño del dataset si esto fuera posible) a que se debe esa cantidad de viajes con 0 pasajeros para ver si se podrían eliminar para no ensuciar la información. "
   ]
  },
  {
   "cell_type": "markdown",
   "metadata": {},
   "source": [
    "## Ejemplo Análisis Bivariado "
   ]
  },
  {
   "cell_type": "markdown",
   "metadata": {},
   "source": [
    "### Para empezar, planteo dos escenarios que quiero analizar de forma bivariada:\n",
    "    * Cantidad de pasajeros como variable independiente y tarifa como dependiente\n",
    "    * Distancia como variable independiente y tarifa como dependiente"
   ]
  },
  {
   "cell_type": "markdown",
   "metadata": {},
   "source": [
    "#### Genero la distancia haversine entre salida y llegada de cada viaje  "
   ]
  },
  {
   "cell_type": "code",
   "execution_count": 22,
   "metadata": {},
   "outputs": [],
   "source": [
    "index= df.index\n",
    "index\n",
    "distancia=[]\n",
    "for i in range(len(index)):\n",
    "    punto_salida=df.pickup_latitude[i],df.pickup_longitude[i]\n",
    "    punto_llegada=df.dropoff_latitude[i],df.dropoff_longitude[i]\n",
    "    distancia_viaje=haversine(punto_salida,punto_llegada)\n",
    "    distancia.append(distancia_viaje)\n",
    "    distancia"
   ]
  },
  {
   "cell_type": "code",
   "execution_count": 23,
   "metadata": {},
   "outputs": [],
   "source": [
    "df[\"distancia_viaje_en_km\"]=distancia"
   ]
  },
  {
   "cell_type": "code",
   "execution_count": 24,
   "metadata": {},
   "outputs": [
    {
     "data": {
      "text/html": [
       "<div>\n",
       "<style scoped>\n",
       "    .dataframe tbody tr th:only-of-type {\n",
       "        vertical-align: middle;\n",
       "    }\n",
       "\n",
       "    .dataframe tbody tr th {\n",
       "        vertical-align: top;\n",
       "    }\n",
       "\n",
       "    .dataframe thead th {\n",
       "        text-align: right;\n",
       "    }\n",
       "</style>\n",
       "<table border=\"1\" class=\"dataframe\">\n",
       "  <thead>\n",
       "    <tr style=\"text-align: right;\">\n",
       "      <th></th>\n",
       "      <th>key</th>\n",
       "      <th>fare_amount</th>\n",
       "      <th>pickup_datetime</th>\n",
       "      <th>pickup_longitude</th>\n",
       "      <th>pickup_latitude</th>\n",
       "      <th>dropoff_longitude</th>\n",
       "      <th>dropoff_latitude</th>\n",
       "      <th>passenger_count</th>\n",
       "      <th>distancia_viaje_en_km</th>\n",
       "    </tr>\n",
       "  </thead>\n",
       "  <tbody>\n",
       "    <tr>\n",
       "      <th>0</th>\n",
       "      <td>2015-05-07 19:52:06.0000003</td>\n",
       "      <td>7.5</td>\n",
       "      <td>2015-05-07 19:52:06 UTC</td>\n",
       "      <td>-73.999817</td>\n",
       "      <td>40.738354</td>\n",
       "      <td>-73.999512</td>\n",
       "      <td>40.723217</td>\n",
       "      <td>1</td>\n",
       "      <td>1.683325</td>\n",
       "    </tr>\n",
       "    <tr>\n",
       "      <th>1</th>\n",
       "      <td>2009-07-17 20:04:56.0000002</td>\n",
       "      <td>7.7</td>\n",
       "      <td>2009-07-17 20:04:56 UTC</td>\n",
       "      <td>-73.994355</td>\n",
       "      <td>40.728225</td>\n",
       "      <td>-73.994710</td>\n",
       "      <td>40.750325</td>\n",
       "      <td>1</td>\n",
       "      <td>2.457593</td>\n",
       "    </tr>\n",
       "    <tr>\n",
       "      <th>2</th>\n",
       "      <td>2009-08-24 21:45:00.00000061</td>\n",
       "      <td>12.9</td>\n",
       "      <td>2009-08-24 21:45:00 UTC</td>\n",
       "      <td>-74.005043</td>\n",
       "      <td>40.740770</td>\n",
       "      <td>-73.962565</td>\n",
       "      <td>40.772647</td>\n",
       "      <td>1</td>\n",
       "      <td>5.036384</td>\n",
       "    </tr>\n",
       "    <tr>\n",
       "      <th>3</th>\n",
       "      <td>2009-06-26 08:22:21.0000001</td>\n",
       "      <td>5.3</td>\n",
       "      <td>2009-06-26 08:22:21 UTC</td>\n",
       "      <td>-73.976124</td>\n",
       "      <td>40.790844</td>\n",
       "      <td>-73.965316</td>\n",
       "      <td>40.803349</td>\n",
       "      <td>3</td>\n",
       "      <td>1.661686</td>\n",
       "    </tr>\n",
       "    <tr>\n",
       "      <th>4</th>\n",
       "      <td>2014-08-28 17:47:00.000000188</td>\n",
       "      <td>16.0</td>\n",
       "      <td>2014-08-28 17:47:00 UTC</td>\n",
       "      <td>-73.925023</td>\n",
       "      <td>40.744085</td>\n",
       "      <td>-73.973082</td>\n",
       "      <td>40.761247</td>\n",
       "      <td>5</td>\n",
       "      <td>4.475456</td>\n",
       "    </tr>\n",
       "  </tbody>\n",
       "</table>\n",
       "</div>"
      ],
      "text/plain": [
       "                             key  fare_amount          pickup_datetime  \\\n",
       "0    2015-05-07 19:52:06.0000003          7.5  2015-05-07 19:52:06 UTC   \n",
       "1    2009-07-17 20:04:56.0000002          7.7  2009-07-17 20:04:56 UTC   \n",
       "2   2009-08-24 21:45:00.00000061         12.9  2009-08-24 21:45:00 UTC   \n",
       "3    2009-06-26 08:22:21.0000001          5.3  2009-06-26 08:22:21 UTC   \n",
       "4  2014-08-28 17:47:00.000000188         16.0  2014-08-28 17:47:00 UTC   \n",
       "\n",
       "   pickup_longitude  pickup_latitude  dropoff_longitude  dropoff_latitude  \\\n",
       "0        -73.999817        40.738354         -73.999512         40.723217   \n",
       "1        -73.994355        40.728225         -73.994710         40.750325   \n",
       "2        -74.005043        40.740770         -73.962565         40.772647   \n",
       "3        -73.976124        40.790844         -73.965316         40.803349   \n",
       "4        -73.925023        40.744085         -73.973082         40.761247   \n",
       "\n",
       "   passenger_count  distancia_viaje_en_km  \n",
       "0                1               1.683325  \n",
       "1                1               2.457593  \n",
       "2                1               5.036384  \n",
       "3                3               1.661686  \n",
       "4                5               4.475456  "
      ]
     },
     "execution_count": 24,
     "metadata": {},
     "output_type": "execute_result"
    }
   ],
   "source": [
    "df.head()"
   ]
  },
  {
   "cell_type": "code",
   "execution_count": 25,
   "metadata": {},
   "outputs": [
    {
     "data": {
      "text/plain": [
       "Text(0.5, 1, 'HeatMap con todas las columnas')"
      ]
     },
     "execution_count": 25,
     "metadata": {},
     "output_type": "execute_result"
    },
    {
     "data": {
      "image/png": "[encoded data removed]",
      "text/plain": [
       "<Figure size 1440x1080 with 2 Axes>"
      ]
     },
     "metadata": {
      "needs_background": "light"
     },
     "output_type": "display_data"
    }
   ],
   "source": [
    "%matplotlib inline\n",
    "plt.rcParams[\"figure.figsize\"]=(20,15)\n",
    "sns.heatmap(df.corr(),annot=True,cmap=\"Wistia\")\n",
    "plt.title(\"HeatMap con todas las columnas\", fontsize=20)"
   ]
  },
  {
   "cell_type": "markdown",
   "metadata": {},
   "source": [
    "### Me quedo unicamente con las columnas de interes para hacer el mapa de calor "
   ]
  },
  {
   "cell_type": "code",
   "execution_count": 26,
   "metadata": {},
   "outputs": [
    {
     "data": {
      "text/plain": [
       "['key',\n",
       " 'fare_amount',\n",
       " 'pickup_datetime',\n",
       " 'pickup_longitude',\n",
       " 'pickup_latitude',\n",
       " 'dropoff_longitude',\n",
       " 'dropoff_latitude',\n",
       " 'passenger_count',\n",
       " 'distancia_viaje_en_km']"
      ]
     },
     "execution_count": 26,
     "metadata": {},
     "output_type": "execute_result"
    }
   ],
   "source": [
    "df.columns.values.tolist()"
   ]
  },
  {
   "cell_type": "code",
   "execution_count": 27,
   "metadata": {},
   "outputs": [],
   "source": [
    "columnas_interes=[\"fare_amount\",\"passenger_count\",\"distancia_viaje_en_km\"]\n",
    "df_columnas_interes=df[columnas_interes]"
   ]
  },
  {
   "cell_type": "markdown",
   "metadata": {},
   "source": [
    "### Verifico que me haya quedado correcto el nuevo DF "
   ]
  },
  {
   "cell_type": "code",
   "execution_count": 28,
   "metadata": {},
   "outputs": [
    {
     "data": {
      "text/html": [
       "<div>\n",
       "<style scoped>\n",
       "    .dataframe tbody tr th:only-of-type {\n",
       "        vertical-align: middle;\n",
       "    }\n",
       "\n",
       "    .dataframe tbody tr th {\n",
       "        vertical-align: top;\n",
       "    }\n",
       "\n",
       "    .dataframe thead th {\n",
       "        text-align: right;\n",
       "    }\n",
       "</style>\n",
       "<table border=\"1\" class=\"dataframe\">\n",
       "  <thead>\n",
       "    <tr style=\"text-align: right;\">\n",
       "      <th></th>\n",
       "      <th>fare_amount</th>\n",
       "      <th>passenger_count</th>\n",
       "      <th>distancia_viaje_en_km</th>\n",
       "    </tr>\n",
       "  </thead>\n",
       "  <tbody>\n",
       "    <tr>\n",
       "      <th>0</th>\n",
       "      <td>7.5</td>\n",
       "      <td>1</td>\n",
       "      <td>1.683325</td>\n",
       "    </tr>\n",
       "    <tr>\n",
       "      <th>1</th>\n",
       "      <td>7.7</td>\n",
       "      <td>1</td>\n",
       "      <td>2.457593</td>\n",
       "    </tr>\n",
       "    <tr>\n",
       "      <th>2</th>\n",
       "      <td>12.9</td>\n",
       "      <td>1</td>\n",
       "      <td>5.036384</td>\n",
       "    </tr>\n",
       "    <tr>\n",
       "      <th>3</th>\n",
       "      <td>5.3</td>\n",
       "      <td>3</td>\n",
       "      <td>1.661686</td>\n",
       "    </tr>\n",
       "    <tr>\n",
       "      <th>4</th>\n",
       "      <td>16.0</td>\n",
       "      <td>5</td>\n",
       "      <td>4.475456</td>\n",
       "    </tr>\n",
       "  </tbody>\n",
       "</table>\n",
       "</div>"
      ],
      "text/plain": [
       "   fare_amount  passenger_count  distancia_viaje_en_km\n",
       "0          7.5                1               1.683325\n",
       "1          7.7                1               2.457593\n",
       "2         12.9                1               5.036384\n",
       "3          5.3                3               1.661686\n",
       "4         16.0                5               4.475456"
      ]
     },
     "execution_count": 28,
     "metadata": {},
     "output_type": "execute_result"
    }
   ],
   "source": [
    "df_columnas_interes.head()"
   ]
  },
  {
   "cell_type": "code",
   "execution_count": 29,
   "metadata": {},
   "outputs": [
    {
     "data": {
      "text/plain": [
       "Text(0.5, 1, 'HeatMap únicamente con columnas de interés')"
      ]
     },
     "execution_count": 29,
     "metadata": {},
     "output_type": "execute_result"
    },
    {
     "data": {
      "image/png": "[encoded data removed]",
      "text/plain": [
       "<Figure size 720x360 with 2 Axes>"
      ]
     },
     "metadata": {
      "needs_background": "light"
     },
     "output_type": "display_data"
    }
   ],
   "source": [
    "%matplotlib inline\n",
    "plt.rcParams[\"figure.figsize\"]=(10,5)\n",
    "sns.heatmap(df_columnas_interes.corr(),annot=True,cmap=\"Wistia\")\n",
    "plt.title(\"HeatMap únicamente con columnas de interés\", fontsize=20)"
   ]
  },
  {
   "cell_type": "markdown",
   "metadata": {},
   "source": [
    "No pareciera existir una relación lineal fuerte entre estas variables "
   ]
  },
  {
   "cell_type": "markdown",
   "metadata": {},
   "source": [
    "## Hago análisis gráficamente entre las dos situaciones planteadas\n",
    "    "
   ]
  },
  {
   "cell_type": "markdown",
   "metadata": {},
   "source": [
    "### Tarifa vs Distancia"
   ]
  },
  {
   "cell_type": "code",
   "execution_count": 30,
   "metadata": {},
   "outputs": [
    {
     "data": {
      "text/plain": [
       "<matplotlib.collections.PathCollection at 0x2113cc0b0c8>"
      ]
     },
     "execution_count": 30,
     "metadata": {},
     "output_type": "execute_result"
    },
    {
     "data": {
      "image/png": "[encoded data removed]",
      "text/plain": [
       "<Figure size 720x360 with 1 Axes>"
      ]
     },
     "metadata": {
      "needs_background": "light"
     },
     "output_type": "display_data"
    }
   ],
   "source": [
    "plt.scatter(df_columnas_interes.distancia_viaje_en_km,df_columnas_interes.fare_amount)"
   ]
  },
  {
   "cell_type": "markdown",
   "metadata": {},
   "source": [
    "Gráficamente se ven valores extraños en la distancia. Busco encontrar la magnitud de estos valores y frecuencia con un histograma"
   ]
  },
  {
   "cell_type": "code",
   "execution_count": 31,
   "metadata": {},
   "outputs": [
    {
     "data": {
      "text/plain": [
       "<matplotlib.axes._subplots.AxesSubplot at 0x21139a01fc8>"
      ]
     },
     "execution_count": 31,
     "metadata": {},
     "output_type": "execute_result"
    },
    {
     "data": {
      "image/png": "[encoded data removed]",
      "text/plain": [
       "<Figure size 720x360 with 1 Axes>"
      ]
     },
     "metadata": {
      "needs_background": "light"
     },
     "output_type": "display_data"
    }
   ],
   "source": [
    "distplot(df_columnas_interes.distancia_viaje_en_km,bins=40)"
   ]
  },
  {
   "cell_type": "code",
   "execution_count": 32,
   "metadata": {},
   "outputs": [
    {
     "data": {
      "text/plain": [
       "<matplotlib.axes._subplots.AxesSubplot at 0x2113cc006c8>"
      ]
     },
     "execution_count": 32,
     "metadata": {},
     "output_type": "execute_result"
    },
    {
     "data": {
      "image/png": "[encoded data removed]",
      "text/plain": [
       "<Figure size 720x360 with 1 Axes>"
      ]
     },
     "metadata": {
      "needs_background": "light"
     },
     "output_type": "display_data"
    }
   ],
   "source": [
    "boxplot(df_columnas_interes.distancia_viaje_en_km, orient=\"v\")"
   ]
  },
  {
   "cell_type": "markdown",
   "metadata": {},
   "source": [
    "Verifico con distancias menor a 2000 km"
   ]
  },
  {
   "cell_type": "code",
   "execution_count": 33,
   "metadata": {},
   "outputs": [],
   "source": [
    "df_distancias_menores_a_2000km=df_columnas_interes[df_columnas_interes[\"distancia_viaje_en_km\"]<2000]"
   ]
  },
  {
   "cell_type": "code",
   "execution_count": 34,
   "metadata": {},
   "outputs": [
    {
     "data": {
      "text/plain": [
       "(199888, 8)"
      ]
     },
     "execution_count": 34,
     "metadata": {},
     "output_type": "execute_result"
    }
   ],
   "source": [
    "df_tarifas_menores_a_100.shape"
   ]
  },
  {
   "cell_type": "markdown",
   "metadata": {},
   "source": [
    "Eliminé muy pocos registros, por lo que lo veo correcto e intento gráficar de nuevo."
   ]
  },
  {
   "cell_type": "code",
   "execution_count": 35,
   "metadata": {},
   "outputs": [
    {
     "data": {
      "text/plain": [
       "<matplotlib.axes._subplots.AxesSubplot at 0x21140cc5f88>"
      ]
     },
     "execution_count": 35,
     "metadata": {},
     "output_type": "execute_result"
    },
    {
     "data": {
      "image/png": "[encoded data removed]",
      "text/plain": [
       "<Figure size 720x360 with 1 Axes>"
      ]
     },
     "metadata": {
      "needs_background": "light"
     },
     "output_type": "display_data"
    }
   ],
   "source": [
    "boxplot(df_distancias_menores_a_2000km.distancia_viaje_en_km, orient=\"v\")"
   ]
  },
  {
   "cell_type": "code",
   "execution_count": 36,
   "metadata": {},
   "outputs": [
    {
     "data": {
      "text/plain": [
       "<matplotlib.collections.PathCollection at 0x21140d31548>"
      ]
     },
     "execution_count": 36,
     "metadata": {},
     "output_type": "execute_result"
    },
    {
     "data": {
      "image/png": "[encoded data removed]",
      "text/plain": [
       "<Figure size 720x360 with 1 Axes>"
      ]
     },
     "metadata": {
      "needs_background": "light"
     },
     "output_type": "display_data"
    }
   ],
   "source": [
    "plt.scatter(df_distancias_menores_a_2000km.distancia_viaje_en_km,df_distancias_menores_a_2000km.fare_amount)"
   ]
  },
  {
   "cell_type": "markdown",
   "metadata": {},
   "source": [
    "Intento haciendo un corte en 200 km"
   ]
  },
  {
   "cell_type": "code",
   "execution_count": 37,
   "metadata": {},
   "outputs": [],
   "source": [
    "df_distancias_menores_a_200km=df_columnas_interes[df_columnas_interes[\"distancia_viaje_en_km\"]<200]"
   ]
  },
  {
   "cell_type": "code",
   "execution_count": 38,
   "metadata": {},
   "outputs": [
    {
     "data": {
      "text/plain": [
       "<matplotlib.collections.PathCollection at 0x21140da2d08>"
      ]
     },
     "execution_count": 38,
     "metadata": {},
     "output_type": "execute_result"
    },
    {
     "data": {
      "image/png": "[encoded data removed]",
      "text/plain": [
       "<Figure size 720x360 with 1 Axes>"
      ]
     },
     "metadata": {
      "needs_background": "light"
     },
     "output_type": "display_data"
    }
   ],
   "source": [
    "plt.scatter(df_distancias_menores_a_200km.distancia_viaje_en_km,df_distancias_menores_a_200km.fare_amount)"
   ]
  },
  {
   "cell_type": "markdown",
   "metadata": {},
   "source": [
    "Logro que tenga más sentido pero igualmente, como se había visto en el heatmap, no hay relación lineal entre ambos conceptos."
   ]
  },
  {
   "cell_type": "markdown",
   "metadata": {},
   "source": [
    "### Tarifa vs Cantidad de pasajeros"
   ]
  },
  {
   "cell_type": "code",
   "execution_count": 39,
   "metadata": {},
   "outputs": [
    {
     "data": {
      "text/plain": [
       "<matplotlib.collections.PathCollection at 0x21140e17108>"
      ]
     },
     "execution_count": 39,
     "metadata": {},
     "output_type": "execute_result"
    },
    {
     "data": {
      "image/png": "[encoded data removed]",
      "text/plain": [
       "<Figure size 720x360 with 1 Axes>"
      ]
     },
     "metadata": {
      "needs_background": "light"
     },
     "output_type": "display_data"
    }
   ],
   "source": [
    "plt.scatter(df_columnas_interes.passenger_count,df_columnas_interes.fare_amount)"
   ]
  },
  {
   "cell_type": "markdown",
   "metadata": {},
   "source": [
    "Utilizo el DF dónde ya habíamos eliminado el outlier"
   ]
  },
  {
   "cell_type": "code",
   "execution_count": 40,
   "metadata": {},
   "outputs": [
    {
     "data": {
      "text/plain": [
       "<matplotlib.collections.PathCollection at 0x21140e8cdc8>"
      ]
     },
     "execution_count": 40,
     "metadata": {},
     "output_type": "execute_result"
    },
    {
     "data": {
      "image/png": "[encoded data removed]",
      "text/plain": [
       "<Figure size 720x360 with 1 Axes>"
      ]
     },
     "metadata": {
      "needs_background": "light"
     },
     "output_type": "display_data"
    }
   ],
   "source": [
    "plt.scatter(df_sin_208_pasajeros.passenger_count,df_sin_208_pasajeros.fare_amount)"
   ]
  },
  {
   "cell_type": "code",
   "execution_count": 41,
   "metadata": {},
   "outputs": [
    {
     "data": {
      "text/plain": [
       "<matplotlib.axes._subplots.AxesSubplot at 0x21140e10bc8>"
      ]
     },
     "execution_count": 41,
     "metadata": {},
     "output_type": "execute_result"
    },
    {
     "data": {
      "image/png": "[encoded data removed]",
      "text/plain": [
       "<Figure size 720x360 with 1 Axes>"
      ]
     },
     "metadata": {
      "needs_background": "light"
     },
     "output_type": "display_data"
    }
   ],
   "source": [
    "boxplot(x=df_sin_208_pasajeros.passenger_count,y=df_sin_208_pasajeros.fare_amount)"
   ]
  },
  {
   "cell_type": "markdown",
   "metadata": {},
   "source": [
    "Para ver si tiene más sentido, voy a hacer una tarifa por km (TARIFA/DISTANCIA) y eliminar los outliers de ese dataset"
   ]
  },
  {
   "cell_type": "code",
   "execution_count": 42,
   "metadata": {},
   "outputs": [
    {
     "name": "stderr",
     "output_type": "stream",
     "text": [
      "C:\\ProgramData\\Anaconda3\\lib\\site-packages\\ipykernel_launcher.py:7: RuntimeWarning: divide by zero encountered in double_scalars\n",
      "  import sys\n",
      "C:\\ProgramData\\Anaconda3\\lib\\site-packages\\ipykernel_launcher.py:7: RuntimeWarning: invalid value encountered in double_scalars\n",
      "  import sys\n"
     ]
    }
   ],
   "source": [
    "index2= df_columnas_interes.index\n",
    "index2\n",
    "tarifa_sobre_distancia=[]\n",
    "for i in range(len(index2)):\n",
    "    tarifa=df_columnas_interes.fare_amount[i]\n",
    "    distancia=df_columnas_interes.distancia_viaje_en_km[i]\n",
    "    tarifa_sobre_distancia.append(tarifa/distancia)\n",
    "    tarifa_sobre_distancia"
   ]
  },
  {
   "cell_type": "code",
   "execution_count": 43,
   "metadata": {},
   "outputs": [
    {
     "name": "stderr",
     "output_type": "stream",
     "text": [
      "C:\\ProgramData\\Anaconda3\\lib\\site-packages\\ipykernel_launcher.py:1: SettingWithCopyWarning: \n",
      "A value is trying to be set on a copy of a slice from a DataFrame.\n",
      "Try using .loc[row_indexer,col_indexer] = value instead\n",
      "\n",
      "See the caveats in the documentation: https://pandas.pydata.org/pandas-docs/stable/user_guide/indexing.html#returning-a-view-versus-a-copy\n",
      "  \"\"\"Entry point for launching an IPython kernel.\n"
     ]
    }
   ],
   "source": [
    "df_columnas_interes[\"usd_sobre_km\"]=tarifa_sobre_distancia"
   ]
  },
  {
   "cell_type": "code",
   "execution_count": 44,
   "metadata": {},
   "outputs": [
    {
     "data": {
      "text/html": [
       "<div>\n",
       "<style scoped>\n",
       "    .dataframe tbody tr th:only-of-type {\n",
       "        vertical-align: middle;\n",
       "    }\n",
       "\n",
       "    .dataframe tbody tr th {\n",
       "        vertical-align: top;\n",
       "    }\n",
       "\n",
       "    .dataframe thead th {\n",
       "        text-align: right;\n",
       "    }\n",
       "</style>\n",
       "<table border=\"1\" class=\"dataframe\">\n",
       "  <thead>\n",
       "    <tr style=\"text-align: right;\">\n",
       "      <th></th>\n",
       "      <th>fare_amount</th>\n",
       "      <th>passenger_count</th>\n",
       "      <th>distancia_viaje_en_km</th>\n",
       "      <th>usd_sobre_km</th>\n",
       "    </tr>\n",
       "  </thead>\n",
       "  <tbody>\n",
       "    <tr>\n",
       "      <th>0</th>\n",
       "      <td>7.5</td>\n",
       "      <td>1</td>\n",
       "      <td>1.683325</td>\n",
       "      <td>4.455467</td>\n",
       "    </tr>\n",
       "    <tr>\n",
       "      <th>1</th>\n",
       "      <td>7.7</td>\n",
       "      <td>1</td>\n",
       "      <td>2.457593</td>\n",
       "      <td>3.133147</td>\n",
       "    </tr>\n",
       "    <tr>\n",
       "      <th>2</th>\n",
       "      <td>12.9</td>\n",
       "      <td>1</td>\n",
       "      <td>5.036384</td>\n",
       "      <td>2.561361</td>\n",
       "    </tr>\n",
       "    <tr>\n",
       "      <th>3</th>\n",
       "      <td>5.3</td>\n",
       "      <td>3</td>\n",
       "      <td>1.661686</td>\n",
       "      <td>3.189532</td>\n",
       "    </tr>\n",
       "    <tr>\n",
       "      <th>4</th>\n",
       "      <td>16.0</td>\n",
       "      <td>5</td>\n",
       "      <td>4.475456</td>\n",
       "      <td>3.575055</td>\n",
       "    </tr>\n",
       "    <tr>\n",
       "      <th>...</th>\n",
       "      <td>...</td>\n",
       "      <td>...</td>\n",
       "      <td>...</td>\n",
       "      <td>...</td>\n",
       "    </tr>\n",
       "    <tr>\n",
       "      <th>199995</th>\n",
       "      <td>3.0</td>\n",
       "      <td>1</td>\n",
       "      <td>0.112210</td>\n",
       "      <td>26.735490</td>\n",
       "    </tr>\n",
       "    <tr>\n",
       "      <th>199996</th>\n",
       "      <td>7.5</td>\n",
       "      <td>1</td>\n",
       "      <td>1.875053</td>\n",
       "      <td>3.999887</td>\n",
       "    </tr>\n",
       "    <tr>\n",
       "      <th>199997</th>\n",
       "      <td>30.9</td>\n",
       "      <td>2</td>\n",
       "      <td>12.850337</td>\n",
       "      <td>2.404606</td>\n",
       "    </tr>\n",
       "    <tr>\n",
       "      <th>199998</th>\n",
       "      <td>14.5</td>\n",
       "      <td>1</td>\n",
       "      <td>3.539720</td>\n",
       "      <td>4.096369</td>\n",
       "    </tr>\n",
       "    <tr>\n",
       "      <th>199999</th>\n",
       "      <td>14.1</td>\n",
       "      <td>1</td>\n",
       "      <td>5.417791</td>\n",
       "      <td>2.602537</td>\n",
       "    </tr>\n",
       "  </tbody>\n",
       "</table>\n",
       "<p>200000 rows × 4 columns</p>\n",
       "</div>"
      ],
      "text/plain": [
       "        fare_amount  passenger_count  distancia_viaje_en_km  usd_sobre_km\n",
       "0               7.5                1               1.683325      4.455467\n",
       "1               7.7                1               2.457593      3.133147\n",
       "2              12.9                1               5.036384      2.561361\n",
       "3               5.3                3               1.661686      3.189532\n",
       "4              16.0                5               4.475456      3.575055\n",
       "...             ...              ...                    ...           ...\n",
       "199995          3.0                1               0.112210     26.735490\n",
       "199996          7.5                1               1.875053      3.999887\n",
       "199997         30.9                2              12.850337      2.404606\n",
       "199998         14.5                1               3.539720      4.096369\n",
       "199999         14.1                1               5.417791      2.602537\n",
       "\n",
       "[200000 rows x 4 columns]"
      ]
     },
     "execution_count": 44,
     "metadata": {},
     "output_type": "execute_result"
    }
   ],
   "source": [
    "df_columnas_interes"
   ]
  },
  {
   "cell_type": "code",
   "execution_count": 45,
   "metadata": {},
   "outputs": [
    {
     "data": {
      "text/plain": [
       "<matplotlib.axes._subplots.AxesSubplot at 0x21140a96708>"
      ]
     },
     "execution_count": 45,
     "metadata": {},
     "output_type": "execute_result"
    },
    {
     "data": {
      "image/png": "[encoded data removed]",
      "text/plain": [
       "<Figure size 720x360 with 1 Axes>"
      ]
     },
     "metadata": {
      "needs_background": "light"
     },
     "output_type": "display_data"
    }
   ],
   "source": [
    "boxplot(df_columnas_interes.usd_sobre_km,orient=\"v\")"
   ]
  },
  {
   "cell_type": "markdown",
   "metadata": {},
   "source": [
    "Elimino las distancias nulas para que no haga ruido dividiendo"
   ]
  },
  {
   "cell_type": "code",
   "execution_count": 46,
   "metadata": {},
   "outputs": [],
   "source": [
    "df_columnas_interes_sin_distancias_nulas=df_columnas_interes[df_columnas_interes[\"distancia_viaje_en_km\"]>0]"
   ]
  },
  {
   "cell_type": "code",
   "execution_count": 47,
   "metadata": {},
   "outputs": [
    {
     "data": {
      "text/plain": [
       "<matplotlib.axes._subplots.AxesSubplot at 0x21144d37d88>"
      ]
     },
     "execution_count": 47,
     "metadata": {},
     "output_type": "execute_result"
    },
    {
     "data": {
      "image/png": "[encoded data removed]",
      "text/plain": [
       "<Figure size 720x360 with 1 Axes>"
      ]
     },
     "metadata": {
      "needs_background": "light"
     },
     "output_type": "display_data"
    }
   ],
   "source": [
    "distplot(df_columnas_interes_sin_distancias_nulas.usd_sobre_km)"
   ]
  },
  {
   "cell_type": "markdown",
   "metadata": {},
   "source": [
    "Le asigno un tope de 1000 usd/km"
   ]
  },
  {
   "cell_type": "code",
   "execution_count": 48,
   "metadata": {},
   "outputs": [],
   "source": [
    "df_sindistanciasnulas_y_topedeusdsobrekm=df_columnas_interes_sin_distancias_nulas[df_columnas_interes_sin_distancias_nulas[\"usd_sobre_km\"]<2000]"
   ]
  },
  {
   "cell_type": "code",
   "execution_count": 49,
   "metadata": {},
   "outputs": [
    {
     "data": {
      "text/plain": [
       "<matplotlib.axes._subplots.AxesSubplot at 0x21144fa9648>"
      ]
     },
     "execution_count": 49,
     "metadata": {},
     "output_type": "execute_result"
    },
    {
     "data": {
      "image/png": "[encoded data removed]",
      "text/plain": [
       "<Figure size 720x360 with 1 Axes>"
      ]
     },
     "metadata": {
      "needs_background": "light"
     },
     "output_type": "display_data"
    }
   ],
   "source": [
    "boxplot(df_sindistanciasnulas_y_topedeusdsobrekm.usd_sobre_km)"
   ]
  },
  {
   "cell_type": "code",
   "execution_count": 50,
   "metadata": {},
   "outputs": [
    {
     "data": {
      "text/plain": [
       "<matplotlib.collections.PathCollection at 0x21144e08b88>"
      ]
     },
     "execution_count": 50,
     "metadata": {},
     "output_type": "execute_result"
    },
    {
     "data": {
      "image/png": "[encoded data removed]",
      "text/plain": [
       "<Figure size 720x360 with 1 Axes>"
      ]
     },
     "metadata": {
      "needs_background": "light"
     },
     "output_type": "display_data"
    }
   ],
   "source": [
    "plt.scatter(x=df_sindistanciasnulas_y_topedeusdsobrekm.distancia_viaje_en_km,y=df_sindistanciasnulas_y_topedeusdsobrekm.fare_amount)"
   ]
  },
  {
   "cell_type": "markdown",
   "metadata": {},
   "source": [
    "Tampoco pareciera haber algúna relación clara entre ambos conceptos."
   ]
  },
  {
   "cell_type": "markdown",
   "metadata": {},
   "source": [
    "## Análisis multivariado "
   ]
  },
  {
   "cell_type": "markdown",
   "metadata": {},
   "source": [
    "#### A modo de ejemplo para el desafío, voy a analizar las 3 variables:\n",
    "    . Distancia en Km\n",
    "    . Cantidad de pasajeros\n",
    "    . Tarifa"
   ]
  },
  {
   "cell_type": "code",
   "execution_count": 51,
   "metadata": {},
   "outputs": [],
   "source": [
    "##sns.pairplot(df_sindistanciasnulas_y_topedeusdsobrekm, height=3)\n",
    "#plt.show()"
   ]
  },
  {
   "cell_type": "markdown",
   "metadata": {},
   "source": [
    "Tarifa unitaria vs Distancia"
   ]
  },
  {
   "cell_type": "code",
   "execution_count": 52,
   "metadata": {},
   "outputs": [
    {
     "data": {
      "text/plain": [
       "<matplotlib.collections.PathCollection at 0x21144ea9c48>"
      ]
     },
     "execution_count": 52,
     "metadata": {},
     "output_type": "execute_result"
    },
    {
     "data": {
      "image/png": "[encoded data removed]",
      "text/plain": [
       "<Figure size 720x360 with 1 Axes>"
      ]
     },
     "metadata": {
      "needs_background": "light"
     },
     "output_type": "display_data"
    }
   ],
   "source": [
    "plt.scatter(x=df_sindistanciasnulas_y_topedeusdsobrekm.distancia_viaje_en_km,y=df_sindistanciasnulas_y_topedeusdsobrekm.fare_amount)"
   ]
  },
  {
   "cell_type": "markdown",
   "metadata": {},
   "source": [
    "Cantidad de pasajeros vs Tarifa"
   ]
  },
  {
   "cell_type": "code",
   "execution_count": 53,
   "metadata": {},
   "outputs": [
    {
     "data": {
      "text/plain": [
       "<matplotlib.collections.PathCollection at 0x21144e7dd08>"
      ]
     },
     "execution_count": 53,
     "metadata": {},
     "output_type": "execute_result"
    },
    {
     "data": {
      "image/png": "[encoded data removed]",
      "text/plain": [
       "<Figure size 720x360 with 1 Axes>"
      ]
     },
     "metadata": {
      "needs_background": "light"
     },
     "output_type": "display_data"
    }
   ],
   "source": [
    "plt.scatter(df_sin_208_pasajeros.passenger_count,df_sin_208_pasajeros.fare_amount)"
   ]
  },
  {
   "cell_type": "markdown",
   "metadata": {},
   "source": [
    "Haciendo el análisis multivariado, cómo ya se viene observando, hay que seguir trabajando el dataset para poder llegar a conclusiones valiosas para trabajarlo ya que no se puede ver ninguna relación entre variables tal como se tiene hasta ahora."
   ]
  },
  {
   "cell_type": "markdown",
   "metadata": {},
   "source": [
    "## Importo nuevamente el Dataset para que no apliquen los cambios hechos sobre el DF durante los diferentes análisis exploratorios"
   ]
  },
  {
   "cell_type": "code",
   "execution_count": 54,
   "metadata": {},
   "outputs": [
    {
     "data": {
      "text/html": [
       "<div>\n",
       "<style scoped>\n",
       "    .dataframe tbody tr th:only-of-type {\n",
       "        vertical-align: middle;\n",
       "    }\n",
       "\n",
       "    .dataframe tbody tr th {\n",
       "        vertical-align: top;\n",
       "    }\n",
       "\n",
       "    .dataframe thead th {\n",
       "        text-align: right;\n",
       "    }\n",
       "</style>\n",
       "<table border=\"1\" class=\"dataframe\">\n",
       "  <thead>\n",
       "    <tr style=\"text-align: right;\">\n",
       "      <th></th>\n",
       "      <th>key</th>\n",
       "      <th>fare_amount</th>\n",
       "      <th>pickup_datetime</th>\n",
       "      <th>pickup_longitude</th>\n",
       "      <th>pickup_latitude</th>\n",
       "      <th>dropoff_longitude</th>\n",
       "      <th>dropoff_latitude</th>\n",
       "      <th>passenger_count</th>\n",
       "    </tr>\n",
       "  </thead>\n",
       "  <tbody>\n",
       "    <tr>\n",
       "      <th>0</th>\n",
       "      <td>2015-05-07 19:52:06.0000003</td>\n",
       "      <td>7.5</td>\n",
       "      <td>2015-05-07 19:52:06 UTC</td>\n",
       "      <td>-73.999817</td>\n",
       "      <td>40.738354</td>\n",
       "      <td>-73.999512</td>\n",
       "      <td>40.723217</td>\n",
       "      <td>1</td>\n",
       "    </tr>\n",
       "    <tr>\n",
       "      <th>1</th>\n",
       "      <td>2009-07-17 20:04:56.0000002</td>\n",
       "      <td>7.7</td>\n",
       "      <td>2009-07-17 20:04:56 UTC</td>\n",
       "      <td>-73.994355</td>\n",
       "      <td>40.728225</td>\n",
       "      <td>-73.994710</td>\n",
       "      <td>40.750325</td>\n",
       "      <td>1</td>\n",
       "    </tr>\n",
       "    <tr>\n",
       "      <th>2</th>\n",
       "      <td>2009-08-24 21:45:00.00000061</td>\n",
       "      <td>12.9</td>\n",
       "      <td>2009-08-24 21:45:00 UTC</td>\n",
       "      <td>-74.005043</td>\n",
       "      <td>40.740770</td>\n",
       "      <td>-73.962565</td>\n",
       "      <td>40.772647</td>\n",
       "      <td>1</td>\n",
       "    </tr>\n",
       "    <tr>\n",
       "      <th>3</th>\n",
       "      <td>2009-06-26 08:22:21.0000001</td>\n",
       "      <td>5.3</td>\n",
       "      <td>2009-06-26 08:22:21 UTC</td>\n",
       "      <td>-73.976124</td>\n",
       "      <td>40.790844</td>\n",
       "      <td>-73.965316</td>\n",
       "      <td>40.803349</td>\n",
       "      <td>3</td>\n",
       "    </tr>\n",
       "    <tr>\n",
       "      <th>4</th>\n",
       "      <td>2014-08-28 17:47:00.000000188</td>\n",
       "      <td>16.0</td>\n",
       "      <td>2014-08-28 17:47:00 UTC</td>\n",
       "      <td>-73.925023</td>\n",
       "      <td>40.744085</td>\n",
       "      <td>-73.973082</td>\n",
       "      <td>40.761247</td>\n",
       "      <td>5</td>\n",
       "    </tr>\n",
       "  </tbody>\n",
       "</table>\n",
       "</div>"
      ],
      "text/plain": [
       "                             key  fare_amount          pickup_datetime  \\\n",
       "0    2015-05-07 19:52:06.0000003          7.5  2015-05-07 19:52:06 UTC   \n",
       "1    2009-07-17 20:04:56.0000002          7.7  2009-07-17 20:04:56 UTC   \n",
       "2   2009-08-24 21:45:00.00000061         12.9  2009-08-24 21:45:00 UTC   \n",
       "3    2009-06-26 08:22:21.0000001          5.3  2009-06-26 08:22:21 UTC   \n",
       "4  2014-08-28 17:47:00.000000188         16.0  2014-08-28 17:47:00 UTC   \n",
       "\n",
       "   pickup_longitude  pickup_latitude  dropoff_longitude  dropoff_latitude  \\\n",
       "0        -73.999817        40.738354         -73.999512         40.723217   \n",
       "1        -73.994355        40.728225         -73.994710         40.750325   \n",
       "2        -74.005043        40.740770         -73.962565         40.772647   \n",
       "3        -73.976124        40.790844         -73.965316         40.803349   \n",
       "4        -73.925023        40.744085         -73.973082         40.761247   \n",
       "\n",
       "   passenger_count  \n",
       "0                1  \n",
       "1                1  \n",
       "2                1  \n",
       "3                3  \n",
       "4                5  "
      ]
     },
     "execution_count": 54,
     "metadata": {},
     "output_type": "execute_result"
    }
   ],
   "source": [
    "df=pd.read_csv(\"https://raw.githubusercontent.com/ezequielimeneses/TrabajoFinalDatascientistCoder/9ce01a9d9600daddcd290ab33e5988ebaaf9f6b0/uber.csv\")\n",
    "df=df.iloc[:,1:]\n",
    "df.head()"
   ]
  },
  {
   "cell_type": "code",
   "execution_count": 55,
   "metadata": {},
   "outputs": [],
   "source": [
    "distancia=[]\n",
    "for i in range(len(df.index)):\n",
    "    punto_salida=df.pickup_latitude[i],df.pickup_longitude[i]\n",
    "    punto_llegada=df.dropoff_latitude[i],df.dropoff_longitude[i]\n",
    "    distancia_viaje=haversine(punto_salida,punto_llegada)\n",
    "    distancia.append(distancia_viaje)\n",
    "    distancia"
   ]
  },
  {
   "cell_type": "code",
   "execution_count": 56,
   "metadata": {},
   "outputs": [],
   "source": [
    "df[\"distancia_viaje_en_km\"]=distancia"
   ]
  },
  {
   "cell_type": "markdown",
   "metadata": {},
   "source": [
    "### Geolocalizo los puntos con el paquete de geopy "
   ]
  },
  {
   "cell_type": "markdown",
   "metadata": {},
   "source": [
    "Genero una columna de coordenadas de llegada y coordenadas de salida con tipo string para poder trabajarla con \"geolocator\" y obtener las ciudades del dataset"
   ]
  },
  {
   "cell_type": "code",
   "execution_count": 57,
   "metadata": {},
   "outputs": [],
   "source": [
    "df[\"latitud_salida_string\"]=df[\"pickup_latitude\"].astype(str)\n",
    "df[\"longitud_salida_string\"]=df[\"pickup_longitude\"].astype(str)\n",
    "df[\"latitud_llegada_string\"]=df[\"dropoff_latitude\"].astype(str)\n",
    "df[\"longitud_llegada_string\"]=df[\"dropoff_longitude\"].astype(str)\n",
    "df[\"coordenadas_salida\"]=df.latitud_salida_string+\",\"+df.longitud_salida_string\n",
    "df[\"coordenadas_llegada\"]=df.latitud_llegada_string+\",\"+df.longitud_llegada_string"
   ]
  },
  {
   "cell_type": "markdown",
   "metadata": {},
   "source": [
    "Hay puntos que tienen 0 en las coordenadas. Estos datos debo tratarlos como si fueran NAN y eliminarlos"
   ]
  },
  {
   "cell_type": "code",
   "execution_count": 58,
   "metadata": {},
   "outputs": [
    {
     "data": {
      "text/html": [
       "<div>\n",
       "<style scoped>\n",
       "    .dataframe tbody tr th:only-of-type {\n",
       "        vertical-align: middle;\n",
       "    }\n",
       "\n",
       "    .dataframe tbody tr th {\n",
       "        vertical-align: top;\n",
       "    }\n",
       "\n",
       "    .dataframe thead th {\n",
       "        text-align: right;\n",
       "    }\n",
       "</style>\n",
       "<table border=\"1\" class=\"dataframe\">\n",
       "  <thead>\n",
       "    <tr style=\"text-align: right;\">\n",
       "      <th></th>\n",
       "      <th>key</th>\n",
       "      <th>fare_amount</th>\n",
       "      <th>pickup_datetime</th>\n",
       "      <th>pickup_longitude</th>\n",
       "      <th>pickup_latitude</th>\n",
       "      <th>dropoff_longitude</th>\n",
       "      <th>dropoff_latitude</th>\n",
       "      <th>passenger_count</th>\n",
       "      <th>distancia_viaje_en_km</th>\n",
       "      <th>latitud_salida_string</th>\n",
       "      <th>longitud_salida_string</th>\n",
       "      <th>latitud_llegada_string</th>\n",
       "      <th>longitud_llegada_string</th>\n",
       "      <th>coordenadas_salida</th>\n",
       "      <th>coordenadas_llegada</th>\n",
       "    </tr>\n",
       "  </thead>\n",
       "  <tbody>\n",
       "    <tr>\n",
       "      <th>0</th>\n",
       "      <td>2015-05-07 19:52:06.0000003</td>\n",
       "      <td>7.5</td>\n",
       "      <td>2015-05-07 19:52:06 UTC</td>\n",
       "      <td>-73.999817</td>\n",
       "      <td>40.738354</td>\n",
       "      <td>-73.999512</td>\n",
       "      <td>40.723217</td>\n",
       "      <td>1</td>\n",
       "      <td>1.683325</td>\n",
       "      <td>40.73835372924805</td>\n",
       "      <td>-73.99981689453125</td>\n",
       "      <td>40.72321701049805</td>\n",
       "      <td>-73.99951171875</td>\n",
       "      <td>40.73835372924805,-73.99981689453125</td>\n",
       "      <td>40.72321701049805,-73.99951171875</td>\n",
       "    </tr>\n",
       "    <tr>\n",
       "      <th>1</th>\n",
       "      <td>2009-07-17 20:04:56.0000002</td>\n",
       "      <td>7.7</td>\n",
       "      <td>2009-07-17 20:04:56 UTC</td>\n",
       "      <td>-73.994355</td>\n",
       "      <td>40.728225</td>\n",
       "      <td>-73.994710</td>\n",
       "      <td>40.750325</td>\n",
       "      <td>1</td>\n",
       "      <td>2.457593</td>\n",
       "      <td>40.728225</td>\n",
       "      <td>-73.994355</td>\n",
       "      <td>40.750325</td>\n",
       "      <td>-73.99471</td>\n",
       "      <td>40.728225,-73.994355</td>\n",
       "      <td>40.750325,-73.99471</td>\n",
       "    </tr>\n",
       "    <tr>\n",
       "      <th>2</th>\n",
       "      <td>2009-08-24 21:45:00.00000061</td>\n",
       "      <td>12.9</td>\n",
       "      <td>2009-08-24 21:45:00 UTC</td>\n",
       "      <td>-74.005043</td>\n",
       "      <td>40.740770</td>\n",
       "      <td>-73.962565</td>\n",
       "      <td>40.772647</td>\n",
       "      <td>1</td>\n",
       "      <td>5.036384</td>\n",
       "      <td>40.74077</td>\n",
       "      <td>-74.005043</td>\n",
       "      <td>40.772647</td>\n",
       "      <td>-73.962565</td>\n",
       "      <td>40.74077,-74.005043</td>\n",
       "      <td>40.772647,-73.962565</td>\n",
       "    </tr>\n",
       "    <tr>\n",
       "      <th>3</th>\n",
       "      <td>2009-06-26 08:22:21.0000001</td>\n",
       "      <td>5.3</td>\n",
       "      <td>2009-06-26 08:22:21 UTC</td>\n",
       "      <td>-73.976124</td>\n",
       "      <td>40.790844</td>\n",
       "      <td>-73.965316</td>\n",
       "      <td>40.803349</td>\n",
       "      <td>3</td>\n",
       "      <td>1.661686</td>\n",
       "      <td>40.790844</td>\n",
       "      <td>-73.976124</td>\n",
       "      <td>40.803349</td>\n",
       "      <td>-73.965316</td>\n",
       "      <td>40.790844,-73.976124</td>\n",
       "      <td>40.803349,-73.965316</td>\n",
       "    </tr>\n",
       "    <tr>\n",
       "      <th>4</th>\n",
       "      <td>2014-08-28 17:47:00.000000188</td>\n",
       "      <td>16.0</td>\n",
       "      <td>2014-08-28 17:47:00 UTC</td>\n",
       "      <td>-73.925023</td>\n",
       "      <td>40.744085</td>\n",
       "      <td>-73.973082</td>\n",
       "      <td>40.761247</td>\n",
       "      <td>5</td>\n",
       "      <td>4.475456</td>\n",
       "      <td>40.744085</td>\n",
       "      <td>-73.925023</td>\n",
       "      <td>40.761247</td>\n",
       "      <td>-73.97308199999998</td>\n",
       "      <td>40.744085,-73.925023</td>\n",
       "      <td>40.761247,-73.97308199999998</td>\n",
       "    </tr>\n",
       "  </tbody>\n",
       "</table>\n",
       "</div>"
      ],
      "text/plain": [
       "                             key  fare_amount          pickup_datetime  \\\n",
       "0    2015-05-07 19:52:06.0000003          7.5  2015-05-07 19:52:06 UTC   \n",
       "1    2009-07-17 20:04:56.0000002          7.7  2009-07-17 20:04:56 UTC   \n",
       "2   2009-08-24 21:45:00.00000061         12.9  2009-08-24 21:45:00 UTC   \n",
       "3    2009-06-26 08:22:21.0000001          5.3  2009-06-26 08:22:21 UTC   \n",
       "4  2014-08-28 17:47:00.000000188         16.0  2014-08-28 17:47:00 UTC   \n",
       "\n",
       "   pickup_longitude  pickup_latitude  dropoff_longitude  dropoff_latitude  \\\n",
       "0        -73.999817        40.738354         -73.999512         40.723217   \n",
       "1        -73.994355        40.728225         -73.994710         40.750325   \n",
       "2        -74.005043        40.740770         -73.962565         40.772647   \n",
       "3        -73.976124        40.790844         -73.965316         40.803349   \n",
       "4        -73.925023        40.744085         -73.973082         40.761247   \n",
       "\n",
       "   passenger_count  distancia_viaje_en_km latitud_salida_string  \\\n",
       "0                1               1.683325     40.73835372924805   \n",
       "1                1               2.457593             40.728225   \n",
       "2                1               5.036384              40.74077   \n",
       "3                3               1.661686             40.790844   \n",
       "4                5               4.475456             40.744085   \n",
       "\n",
       "  longitud_salida_string latitud_llegada_string longitud_llegada_string  \\\n",
       "0     -73.99981689453125      40.72321701049805         -73.99951171875   \n",
       "1             -73.994355              40.750325               -73.99471   \n",
       "2             -74.005043              40.772647              -73.962565   \n",
       "3             -73.976124              40.803349              -73.965316   \n",
       "4             -73.925023              40.761247      -73.97308199999998   \n",
       "\n",
       "                     coordenadas_salida                coordenadas_llegada  \n",
       "0  40.73835372924805,-73.99981689453125  40.72321701049805,-73.99951171875  \n",
       "1                  40.728225,-73.994355                40.750325,-73.99471  \n",
       "2                   40.74077,-74.005043               40.772647,-73.962565  \n",
       "3                  40.790844,-73.976124               40.803349,-73.965316  \n",
       "4                  40.744085,-73.925023       40.761247,-73.97308199999998  "
      ]
     },
     "execution_count": 58,
     "metadata": {},
     "output_type": "execute_result"
    }
   ],
   "source": [
    "df.pickup_latitude=df.pickup_latitude[df[\"pickup_latitude\"]!=0]\n",
    "df.head()"
   ]
  },
  {
   "cell_type": "code",
   "execution_count": 59,
   "metadata": {
    "scrolled": true
   },
   "outputs": [],
   "source": [
    "df.dropna(subset=[\"pickup_latitude\"],inplace=True)"
   ]
  },
  {
   "cell_type": "code",
   "execution_count": 60,
   "metadata": {},
   "outputs": [],
   "source": [
    "df=df.reset_index(drop=True)"
   ]
  },
  {
   "cell_type": "markdown",
   "metadata": {},
   "source": [
    "ciudades_salida=[]\n",
    "for i in range(0,1000):\n",
    "    location=geolocator.reverse(df.coordenadas_salida[i],timeout=None)\n",
    "    if location is None:\n",
    "        ciudades_salida.append(\"Sin datos\")\n",
    "    else:\n",
    "        address=location.raw[\"address\"]\n",
    "        ciudad=address.get(\"city\")\n",
    "        ciudades_salida.append(ciudad)"
   ]
  },
  {
   "cell_type": "markdown",
   "metadata": {},
   "source": [
    "Como es muy pesado de procesar geográficamente los 200.000 registros, tomé como solución de compromiso el marcar un cuadrado limitando los puntos que se encuentran dentro de allí cómo si fuera NY"
   ]
  },
  {
   "cell_type": "code",
   "execution_count": 61,
   "metadata": {},
   "outputs": [],
   "source": [
    "latitud_ny_salida=(df[\"pickup_latitude\"]>40.495898)&(df[\"pickup_latitude\"]<40.911288)\n",
    "latitud_ny_llegada=(df[\"dropoff_latitude\"]>40.495898)&(df[\"dropoff_latitude\"]<40.911288)\n",
    "longitud_ny_salida=(df[\"pickup_longitude\"]>-74.257124)&(df[\"pickup_longitude\"]<-73.700942)\n",
    "longitud_ny_llegada=(df[\"dropoff_longitude\"]>-74.257124)&(df[\"dropoff_longitude\"]<-73.700942)\n"
   ]
  },
  {
   "cell_type": "code",
   "execution_count": 62,
   "metadata": {},
   "outputs": [],
   "source": [
    "df[\"latitud_ny_salida\"]=latitud_ny_salida\n",
    "df[\"latitud_ny_llegada\"]=latitud_ny_llegada\n",
    "df[\"longitud__ny_salida\"]=longitud_ny_salida\n",
    "df[\"longitud_ny_llegada\"]=longitud_ny_llegada"
   ]
  },
  {
   "cell_type": "code",
   "execution_count": 63,
   "metadata": {},
   "outputs": [
    {
     "data": {
      "text/plain": [
       "(196218, 19)"
      ]
     },
     "execution_count": 63,
     "metadata": {},
     "output_type": "execute_result"
    }
   ],
   "source": [
    "df.shape"
   ]
  },
  {
   "cell_type": "code",
   "execution_count": 64,
   "metadata": {},
   "outputs": [],
   "source": [
    "df=df[df[\"latitud_ny_salida\"] == True]\n",
    "df=df[df[\"latitud_ny_llegada\"] == True]\n",
    "df=df[df[\"longitud__ny_salida\"] == True]\n",
    "df=df[df[\"longitud_ny_llegada\"] == True]"
   ]
  },
  {
   "cell_type": "markdown",
   "metadata": {},
   "source": [
    "La distancia máxima en auto dentro de NYC es de 96,5606 km por lo que filtro los registros dentro de esa rango"
   ]
  },
  {
   "cell_type": "code",
   "execution_count": 65,
   "metadata": {},
   "outputs": [],
   "source": [
    "distancia_entre0y96km=(df[\"distancia_viaje_en_km\"]>0)&(df[\"distancia_viaje_en_km\"]<96.5606)"
   ]
  },
  {
   "cell_type": "code",
   "execution_count": 66,
   "metadata": {},
   "outputs": [
    {
     "data": {
      "text/plain": [
       "(193557, 20)"
      ]
     },
     "execution_count": 66,
     "metadata": {},
     "output_type": "execute_result"
    }
   ],
   "source": [
    "df[\"distancia_entre0y96km\"]=distancia_entre0y96km\n",
    "df=df[df[\"distancia_entre0y96km\"] == True]\n",
    "df.shape"
   ]
  },
  {
   "cell_type": "markdown",
   "metadata": {},
   "source": [
    "Me quedo solo con tarifas positivas (mayores a 0)"
   ]
  },
  {
   "cell_type": "code",
   "execution_count": 67,
   "metadata": {},
   "outputs": [
    {
     "data": {
      "text/plain": [
       "(193539, 21)"
      ]
     },
     "execution_count": 67,
     "metadata": {},
     "output_type": "execute_result"
    }
   ],
   "source": [
    "tarifa_mayora0=(df[\"fare_amount\"]>0)\n",
    "df[\"tarifa_mayora0\"]=tarifa_mayora0\n",
    "df=df[df[\"tarifa_mayora0\"] == True]\n",
    "df.shape"
   ]
  },
  {
   "cell_type": "markdown",
   "metadata": {},
   "source": [
    "Convierto al formato correcto la columna de \"pickup_datetime\" para poder trabajar con la hora y fecha de dicha columna"
   ]
  },
  {
   "cell_type": "code",
   "execution_count": 68,
   "metadata": {},
   "outputs": [],
   "source": [
    "df[\"pickup_datetime\"]=pd.to_datetime(df[\"pickup_datetime\"])"
   ]
  },
  {
   "cell_type": "markdown",
   "metadata": {},
   "source": [
    "Obtengo 4 rangos horarios significativos para poder trabajar mejor con la hora"
   ]
  },
  {
   "cell_type": "code",
   "execution_count": 69,
   "metadata": {},
   "outputs": [],
   "source": [
    "df=df.reset_index(drop=True)"
   ]
  },
  {
   "cell_type": "code",
   "execution_count": 70,
   "metadata": {},
   "outputs": [],
   "source": [
    "rango_horario=[]\n",
    "for i in range(len(df.index)):\n",
    "    hora_viaje=df.pickup_datetime[i].hour\n",
    "    if hora_viaje < 6:\n",
    "        rango_horario.append(\"Madrugada\")\n",
    "    elif hora_viaje < 12:\n",
    "        rango_horario.append(\"Mañana\")\n",
    "    elif hora_viaje < 19:\n",
    "        rango_horario.append(\"Tarde\")\n",
    "    else:\n",
    "        rango_horario.append(\"Noche\")  \n",
    "    \n",
    "        "
   ]
  },
  {
   "cell_type": "code",
   "execution_count": 71,
   "metadata": {},
   "outputs": [],
   "source": [
    "df[\"rango_horario\"]=rango_horario"
   ]
  },
  {
   "cell_type": "markdown",
   "metadata": {},
   "source": [
    "Agrego información al dataset viendo qué dia de la semana son los viajes y si estos son fin de semana o no"
   ]
  },
  {
   "cell_type": "code",
   "execution_count": 72,
   "metadata": {},
   "outputs": [],
   "source": [
    "nro_dia_semana=[]\n",
    "for i in range(len(df.index)):\n",
    "    dia_semana=df.pickup_datetime[i].weekday()\n",
    "    nro_dia_semana.append(dia_semana)\n"
   ]
  },
  {
   "cell_type": "code",
   "execution_count": 73,
   "metadata": {},
   "outputs": [],
   "source": [
    "df[\"nro_dia_semana\"]=nro_dia_semana"
   ]
  },
  {
   "cell_type": "code",
   "execution_count": 74,
   "metadata": {},
   "outputs": [],
   "source": [
    "fin_de_semana=[]\n",
    "for i in range(len(df.index)):\n",
    "    dia_semana=df.pickup_datetime[i].weekday()\n",
    "    if dia_semana < 5:\n",
    "        fin_de_semana.append(\"Entre semana\")\n",
    "    else:\n",
    "        fin_de_semana.append(\"Fin de semana\")  "
   ]
  },
  {
   "cell_type": "code",
   "execution_count": 75,
   "metadata": {},
   "outputs": [],
   "source": [
    "df[\"fin_de_semana\"]=fin_de_semana"
   ]
  },
  {
   "cell_type": "markdown",
   "metadata": {},
   "source": [
    "Finalmente, me quedo únicamente con las columnas de interés para el análisis, descartando las columnas creadas con el objetivo de hacer el data wrangling"
   ]
  },
  {
   "cell_type": "code",
   "execution_count": 76,
   "metadata": {},
   "outputs": [],
   "source": [
    "columnas_interes=[\"fare_amount\",\"pickup_datetime\",\"pickup_longitude\",\"pickup_latitude\",\"dropoff_longitude\",\"dropoff_latitude\",\"passenger_count\",\"distancia_viaje_en_km\",\"coordenadas_salida\",\"coordenadas_llegada\",\"rango_horario\",\"nro_dia_semana\",\"fin_de_semana\"]\n",
    "df=df[columnas_interes]"
   ]
  },
  {
   "cell_type": "code",
   "execution_count": 77,
   "metadata": {},
   "outputs": [
    {
     "data": {
      "text/html": [
       "<div>\n",
       "<style scoped>\n",
       "    .dataframe tbody tr th:only-of-type {\n",
       "        vertical-align: middle;\n",
       "    }\n",
       "\n",
       "    .dataframe tbody tr th {\n",
       "        vertical-align: top;\n",
       "    }\n",
       "\n",
       "    .dataframe thead th {\n",
       "        text-align: right;\n",
       "    }\n",
       "</style>\n",
       "<table border=\"1\" class=\"dataframe\">\n",
       "  <thead>\n",
       "    <tr style=\"text-align: right;\">\n",
       "      <th></th>\n",
       "      <th>fare_amount</th>\n",
       "      <th>pickup_datetime</th>\n",
       "      <th>pickup_longitude</th>\n",
       "      <th>pickup_latitude</th>\n",
       "      <th>dropoff_longitude</th>\n",
       "      <th>dropoff_latitude</th>\n",
       "      <th>passenger_count</th>\n",
       "      <th>distancia_viaje_en_km</th>\n",
       "      <th>coordenadas_salida</th>\n",
       "      <th>coordenadas_llegada</th>\n",
       "      <th>rango_horario</th>\n",
       "      <th>nro_dia_semana</th>\n",
       "      <th>fin_de_semana</th>\n",
       "    </tr>\n",
       "  </thead>\n",
       "  <tbody>\n",
       "    <tr>\n",
       "      <th>0</th>\n",
       "      <td>7.5</td>\n",
       "      <td>2015-05-07 19:52:06+00:00</td>\n",
       "      <td>-73.999817</td>\n",
       "      <td>40.738354</td>\n",
       "      <td>-73.999512</td>\n",
       "      <td>40.723217</td>\n",
       "      <td>1</td>\n",
       "      <td>1.683325</td>\n",
       "      <td>40.73835372924805,-73.99981689453125</td>\n",
       "      <td>40.72321701049805,-73.99951171875</td>\n",
       "      <td>Noche</td>\n",
       "      <td>3</td>\n",
       "      <td>Entre semana</td>\n",
       "    </tr>\n",
       "    <tr>\n",
       "      <th>1</th>\n",
       "      <td>7.7</td>\n",
       "      <td>2009-07-17 20:04:56+00:00</td>\n",
       "      <td>-73.994355</td>\n",
       "      <td>40.728225</td>\n",
       "      <td>-73.994710</td>\n",
       "      <td>40.750325</td>\n",
       "      <td>1</td>\n",
       "      <td>2.457593</td>\n",
       "      <td>40.728225,-73.994355</td>\n",
       "      <td>40.750325,-73.99471</td>\n",
       "      <td>Noche</td>\n",
       "      <td>4</td>\n",
       "      <td>Entre semana</td>\n",
       "    </tr>\n",
       "    <tr>\n",
       "      <th>2</th>\n",
       "      <td>12.9</td>\n",
       "      <td>2009-08-24 21:45:00+00:00</td>\n",
       "      <td>-74.005043</td>\n",
       "      <td>40.740770</td>\n",
       "      <td>-73.962565</td>\n",
       "      <td>40.772647</td>\n",
       "      <td>1</td>\n",
       "      <td>5.036384</td>\n",
       "      <td>40.74077,-74.005043</td>\n",
       "      <td>40.772647,-73.962565</td>\n",
       "      <td>Noche</td>\n",
       "      <td>0</td>\n",
       "      <td>Entre semana</td>\n",
       "    </tr>\n",
       "    <tr>\n",
       "      <th>3</th>\n",
       "      <td>5.3</td>\n",
       "      <td>2009-06-26 08:22:21+00:00</td>\n",
       "      <td>-73.976124</td>\n",
       "      <td>40.790844</td>\n",
       "      <td>-73.965316</td>\n",
       "      <td>40.803349</td>\n",
       "      <td>3</td>\n",
       "      <td>1.661686</td>\n",
       "      <td>40.790844,-73.976124</td>\n",
       "      <td>40.803349,-73.965316</td>\n",
       "      <td>Mañana</td>\n",
       "      <td>4</td>\n",
       "      <td>Entre semana</td>\n",
       "    </tr>\n",
       "    <tr>\n",
       "      <th>4</th>\n",
       "      <td>16.0</td>\n",
       "      <td>2014-08-28 17:47:00+00:00</td>\n",
       "      <td>-73.925023</td>\n",
       "      <td>40.744085</td>\n",
       "      <td>-73.973082</td>\n",
       "      <td>40.761247</td>\n",
       "      <td>5</td>\n",
       "      <td>4.475456</td>\n",
       "      <td>40.744085,-73.925023</td>\n",
       "      <td>40.761247,-73.97308199999998</td>\n",
       "      <td>Tarde</td>\n",
       "      <td>3</td>\n",
       "      <td>Entre semana</td>\n",
       "    </tr>\n",
       "  </tbody>\n",
       "</table>\n",
       "</div>"
      ],
      "text/plain": [
       "   fare_amount           pickup_datetime  pickup_longitude  pickup_latitude  \\\n",
       "0          7.5 2015-05-07 19:52:06+00:00        -73.999817        40.738354   \n",
       "1          7.7 2009-07-17 20:04:56+00:00        -73.994355        40.728225   \n",
       "2         12.9 2009-08-24 21:45:00+00:00        -74.005043        40.740770   \n",
       "3          5.3 2009-06-26 08:22:21+00:00        -73.976124        40.790844   \n",
       "4         16.0 2014-08-28 17:47:00+00:00        -73.925023        40.744085   \n",
       "\n",
       "   dropoff_longitude  dropoff_latitude  passenger_count  \\\n",
       "0         -73.999512         40.723217                1   \n",
       "1         -73.994710         40.750325                1   \n",
       "2         -73.962565         40.772647                1   \n",
       "3         -73.965316         40.803349                3   \n",
       "4         -73.973082         40.761247                5   \n",
       "\n",
       "   distancia_viaje_en_km                    coordenadas_salida  \\\n",
       "0               1.683325  40.73835372924805,-73.99981689453125   \n",
       "1               2.457593                  40.728225,-73.994355   \n",
       "2               5.036384                   40.74077,-74.005043   \n",
       "3               1.661686                  40.790844,-73.976124   \n",
       "4               4.475456                  40.744085,-73.925023   \n",
       "\n",
       "                 coordenadas_llegada rango_horario  nro_dia_semana  \\\n",
       "0  40.72321701049805,-73.99951171875         Noche               3   \n",
       "1                40.750325,-73.99471         Noche               4   \n",
       "2               40.772647,-73.962565         Noche               0   \n",
       "3               40.803349,-73.965316        Mañana               4   \n",
       "4       40.761247,-73.97308199999998         Tarde               3   \n",
       "\n",
       "  fin_de_semana  \n",
       "0  Entre semana  \n",
       "1  Entre semana  \n",
       "2  Entre semana  \n",
       "3  Entre semana  \n",
       "4  Entre semana  "
      ]
     },
     "execution_count": 77,
     "metadata": {},
     "output_type": "execute_result"
    }
   ],
   "source": [
    "df.head()"
   ]
  },
  {
   "cell_type": "markdown",
   "metadata": {},
   "source": [
    "### Analizo las nuevas variables creadas "
   ]
  },
  {
   "cell_type": "code",
   "execution_count": 78,
   "metadata": {},
   "outputs": [
    {
     "data": {
      "text/plain": [
       "Text(0.5, 1, 'HeatMap con todas las columnas')"
      ]
     },
     "execution_count": 78,
     "metadata": {},
     "output_type": "execute_result"
    },
    {
     "data": {
      "image/png": "[encoded data removed]",
      "text/plain": [
       "<Figure size 1440x1080 with 2 Axes>"
      ]
     },
     "metadata": {
      "needs_background": "light"
     },
     "output_type": "display_data"
    }
   ],
   "source": [
    "%matplotlib inline\n",
    "plt.rcParams[\"figure.figsize\"]=(20,15)\n",
    "sns.heatmap(df.corr(),annot=True,cmap=\"Wistia\")\n",
    "plt.title(\"HeatMap con todas las columnas\", fontsize=20)"
   ]
  },
  {
   "cell_type": "markdown",
   "metadata": {},
   "source": [
    "Pareciera que la mayor incidencia en la tarifa la tiene la distancia del viaje y la longitud, tanto de comienzo como de fin del viaje. Esto puede ser porque exista multicolinealidad entre la longitud de la coordenada con la distancia en Km del viaje"
   ]
  },
  {
   "cell_type": "code",
   "execution_count": 79,
   "metadata": {},
   "outputs": [
    {
     "data": {
      "text/plain": [
       "Text(0, 0.5, 'Distancia en KM')"
      ]
     },
     "execution_count": 79,
     "metadata": {},
     "output_type": "execute_result"
    },
    {
     "data": {
      "image/png": "[encoded data removed]",
      "text/plain": [
       "<Figure size 1440x1080 with 1 Axes>"
      ]
     },
     "metadata": {
      "needs_background": "light"
     },
     "output_type": "display_data"
    }
   ],
   "source": [
    "plt.scatter(x=df.pickup_longitude,y=df.distancia_viaje_en_km)\n",
    "plt.xlabel(\"Longitud de salida\")\n",
    "plt.ylabel(\"Distancia en KM\")"
   ]
  },
  {
   "cell_type": "code",
   "execution_count": 80,
   "metadata": {},
   "outputs": [
    {
     "data": {
      "text/plain": [
       "Text(0, 0.5, 'Distancia en KM')"
      ]
     },
     "execution_count": 80,
     "metadata": {},
     "output_type": "execute_result"
    },
    {
     "data": {
      "image/png": "[encoded data removed]",
      "text/plain": [
       "<Figure size 1440x1080 with 1 Axes>"
      ]
     },
     "metadata": {
      "needs_background": "light"
     },
     "output_type": "display_data"
    }
   ],
   "source": [
    "plt.scatter(x=df.dropoff_longitude,y=df.distancia_viaje_en_km)\n",
    "plt.xlabel(\"Longitud de llegada\")\n",
    "plt.ylabel(\"Distancia en KM\")"
   ]
  },
  {
   "cell_type": "code",
   "execution_count": 81,
   "metadata": {},
   "outputs": [
    {
     "data": {
      "text/plain": [
       "<matplotlib.axes._subplots.AxesSubplot at 0x211514b2208>"
      ]
     },
     "execution_count": 81,
     "metadata": {},
     "output_type": "execute_result"
    },
    {
     "data": {
      "image/png": "[encoded data removed]",
      "text/plain": [
       "<Figure size 1440x1080 with 1 Axes>"
      ]
     },
     "metadata": {
      "needs_background": "light"
     },
     "output_type": "display_data"
    }
   ],
   "source": [
    "countplot(df.rango_horario)"
   ]
  },
  {
   "cell_type": "code",
   "execution_count": 82,
   "metadata": {},
   "outputs": [
    {
     "data": {
      "text/plain": [
       "<matplotlib.axes._subplots.AxesSubplot at 0x21155c7b2c8>"
      ]
     },
     "execution_count": 82,
     "metadata": {},
     "output_type": "execute_result"
    },
    {
     "data": {
      "image/png": "[encoded data removed]",
      "text/plain": [
       "<Figure size 1440x1080 with 1 Axes>"
      ]
     },
     "metadata": {
      "needs_background": "light"
     },
     "output_type": "display_data"
    }
   ],
   "source": [
    "boxplot(x=df.rango_horario,y=df.fare_amount)"
   ]
  },
  {
   "cell_type": "markdown",
   "metadata": {},
   "source": [
    "Se ve un incremento en el rango horario de madrugada"
   ]
  },
  {
   "cell_type": "code",
   "execution_count": 83,
   "metadata": {},
   "outputs": [
    {
     "data": {
      "text/plain": [
       "<matplotlib.axes._subplots.AxesSubplot at 0x21155463508>"
      ]
     },
     "execution_count": 83,
     "metadata": {},
     "output_type": "execute_result"
    },
    {
     "data": {
      "image/png": "[encoded data removed]",
      "text/plain": [
       "<Figure size 1440x1080 with 1 Axes>"
      ]
     },
     "metadata": {
      "needs_background": "light"
     },
     "output_type": "display_data"
    }
   ],
   "source": [
    "countplot(df.fin_de_semana)"
   ]
  },
  {
   "cell_type": "code",
   "execution_count": 84,
   "metadata": {},
   "outputs": [
    {
     "data": {
      "text/plain": [
       "<matplotlib.axes._subplots.AxesSubplot at 0x21154ccb6c8>"
      ]
     },
     "execution_count": 84,
     "metadata": {},
     "output_type": "execute_result"
    },
    {
     "data": {
      "image/png": "[encoded data removed]",
      "text/plain": [
       "<Figure size 1440x1080 with 1 Axes>"
      ]
     },
     "metadata": {
      "needs_background": "light"
     },
     "output_type": "display_data"
    }
   ],
   "source": [
    "boxplot(x=df.fin_de_semana,y=df.fare_amount)"
   ]
  },
  {
   "cell_type": "markdown",
   "metadata": {},
   "source": [
    "No pareciera haber una diferencia muy marcada entre la tarifa de fin de semana y entre semana"
   ]
  },
  {
   "cell_type": "markdown",
   "metadata": {},
   "source": [
    "## Ejemplos de primeros ejemplos de algoritmos de regresión "
   ]
  },
  {
   "cell_type": "markdown",
   "metadata": {},
   "source": [
    "Se crearán modelos sin ningún tipo de optimización para verificar la mejora cuando se reafinan los modelos"
   ]
  },
  {
   "cell_type": "markdown",
   "metadata": {},
   "source": [
    "## Algoritmo Regresión I "
   ]
  },
  {
   "cell_type": "markdown",
   "metadata": {},
   "source": [
    "Cómo la variable target es continua, utilizo el árbol de regresión"
   ]
  },
  {
   "cell_type": "code",
   "execution_count": 85,
   "metadata": {},
   "outputs": [
    {
     "data": {
      "text/plain": [
       "['fare_amount',\n",
       " 'pickup_datetime',\n",
       " 'pickup_longitude',\n",
       " 'pickup_latitude',\n",
       " 'dropoff_longitude',\n",
       " 'dropoff_latitude',\n",
       " 'passenger_count',\n",
       " 'distancia_viaje_en_km',\n",
       " 'coordenadas_salida',\n",
       " 'coordenadas_llegada',\n",
       " 'rango_horario',\n",
       " 'nro_dia_semana',\n",
       " 'fin_de_semana']"
      ]
     },
     "execution_count": 85,
     "metadata": {},
     "output_type": "execute_result"
    }
   ],
   "source": [
    "df.columns.values.tolist()"
   ]
  },
  {
   "cell_type": "code",
   "execution_count": 86,
   "metadata": {},
   "outputs": [
    {
     "data": {
      "text/html": [
       "<div>\n",
       "<style scoped>\n",
       "    .dataframe tbody tr th:only-of-type {\n",
       "        vertical-align: middle;\n",
       "    }\n",
       "\n",
       "    .dataframe tbody tr th {\n",
       "        vertical-align: top;\n",
       "    }\n",
       "\n",
       "    .dataframe thead th {\n",
       "        text-align: right;\n",
       "    }\n",
       "</style>\n",
       "<table border=\"1\" class=\"dataframe\">\n",
       "  <thead>\n",
       "    <tr style=\"text-align: right;\">\n",
       "      <th></th>\n",
       "      <th>fare_amount</th>\n",
       "      <th>pickup_longitude</th>\n",
       "      <th>pickup_latitude</th>\n",
       "      <th>dropoff_longitude</th>\n",
       "      <th>dropoff_latitude</th>\n",
       "      <th>passenger_count</th>\n",
       "      <th>distancia_viaje_en_km</th>\n",
       "      <th>nro_dia_semana</th>\n",
       "    </tr>\n",
       "  </thead>\n",
       "  <tbody>\n",
       "    <tr>\n",
       "      <th>count</th>\n",
       "      <td>193539.000000</td>\n",
       "      <td>193539.000000</td>\n",
       "      <td>193539.000000</td>\n",
       "      <td>193539.000000</td>\n",
       "      <td>193539.000000</td>\n",
       "      <td>193539.000000</td>\n",
       "      <td>193539.000000</td>\n",
       "      <td>193539.000000</td>\n",
       "    </tr>\n",
       "    <tr>\n",
       "      <th>mean</th>\n",
       "      <td>11.297855</td>\n",
       "      <td>-73.975651</td>\n",
       "      <td>40.750838</td>\n",
       "      <td>-73.974721</td>\n",
       "      <td>40.751099</td>\n",
       "      <td>1.684668</td>\n",
       "      <td>3.340161</td>\n",
       "      <td>3.048765</td>\n",
       "    </tr>\n",
       "    <tr>\n",
       "      <th>std</th>\n",
       "      <td>9.459522</td>\n",
       "      <td>0.034184</td>\n",
       "      <td>0.026750</td>\n",
       "      <td>0.033769</td>\n",
       "      <td>0.030544</td>\n",
       "      <td>1.388337</td>\n",
       "      <td>3.556609</td>\n",
       "      <td>1.946915</td>\n",
       "    </tr>\n",
       "    <tr>\n",
       "      <th>min</th>\n",
       "      <td>0.010000</td>\n",
       "      <td>-74.243432</td>\n",
       "      <td>40.508697</td>\n",
       "      <td>-74.244837</td>\n",
       "      <td>40.511859</td>\n",
       "      <td>0.000000</td>\n",
       "      <td>0.000084</td>\n",
       "      <td>0.000000</td>\n",
       "    </tr>\n",
       "    <tr>\n",
       "      <th>25%</th>\n",
       "      <td>6.000000</td>\n",
       "      <td>-73.992287</td>\n",
       "      <td>40.736499</td>\n",
       "      <td>-73.991605</td>\n",
       "      <td>40.735372</td>\n",
       "      <td>1.000000</td>\n",
       "      <td>1.280447</td>\n",
       "      <td>1.000000</td>\n",
       "    </tr>\n",
       "    <tr>\n",
       "      <th>50%</th>\n",
       "      <td>8.500000</td>\n",
       "      <td>-73.982140</td>\n",
       "      <td>40.753314</td>\n",
       "      <td>-73.980591</td>\n",
       "      <td>40.753750</td>\n",
       "      <td>1.000000</td>\n",
       "      <td>2.179111</td>\n",
       "      <td>3.000000</td>\n",
       "    </tr>\n",
       "    <tr>\n",
       "      <th>75%</th>\n",
       "      <td>12.500000</td>\n",
       "      <td>-73.968529</td>\n",
       "      <td>40.767529</td>\n",
       "      <td>-73.965635</td>\n",
       "      <td>40.768316</td>\n",
       "      <td>2.000000</td>\n",
       "      <td>3.933487</td>\n",
       "      <td>5.000000</td>\n",
       "    </tr>\n",
       "    <tr>\n",
       "      <th>max</th>\n",
       "      <td>499.000000</td>\n",
       "      <td>-73.703262</td>\n",
       "      <td>40.908310</td>\n",
       "      <td>-73.700963</td>\n",
       "      <td>40.909967</td>\n",
       "      <td>208.000000</td>\n",
       "      <td>35.341909</td>\n",
       "      <td>6.000000</td>\n",
       "    </tr>\n",
       "  </tbody>\n",
       "</table>\n",
       "</div>"
      ],
      "text/plain": [
       "         fare_amount  pickup_longitude  pickup_latitude  dropoff_longitude  \\\n",
       "count  193539.000000     193539.000000    193539.000000      193539.000000   \n",
       "mean       11.297855        -73.975651        40.750838         -73.974721   \n",
       "std         9.459522          0.034184         0.026750           0.033769   \n",
       "min         0.010000        -74.243432        40.508697         -74.244837   \n",
       "25%         6.000000        -73.992287        40.736499         -73.991605   \n",
       "50%         8.500000        -73.982140        40.753314         -73.980591   \n",
       "75%        12.500000        -73.968529        40.767529         -73.965635   \n",
       "max       499.000000        -73.703262        40.908310         -73.700963   \n",
       "\n",
       "       dropoff_latitude  passenger_count  distancia_viaje_en_km  \\\n",
       "count     193539.000000    193539.000000          193539.000000   \n",
       "mean          40.751099         1.684668               3.340161   \n",
       "std            0.030544         1.388337               3.556609   \n",
       "min           40.511859         0.000000               0.000084   \n",
       "25%           40.735372         1.000000               1.280447   \n",
       "50%           40.753750         1.000000               2.179111   \n",
       "75%           40.768316         2.000000               3.933487   \n",
       "max           40.909967       208.000000              35.341909   \n",
       "\n",
       "       nro_dia_semana  \n",
       "count   193539.000000  \n",
       "mean         3.048765  \n",
       "std          1.946915  \n",
       "min          0.000000  \n",
       "25%          1.000000  \n",
       "50%          3.000000  \n",
       "75%          5.000000  \n",
       "max          6.000000  "
      ]
     },
     "execution_count": 86,
     "metadata": {},
     "output_type": "execute_result"
    }
   ],
   "source": [
    "df.describe()"
   ]
  },
  {
   "cell_type": "code",
   "execution_count": 87,
   "metadata": {},
   "outputs": [],
   "source": [
    "df = pd.get_dummies(data=df,columns=[\"rango_horario\",\"fin_de_semana\"], drop_first=True)"
   ]
  },
  {
   "cell_type": "code",
   "execution_count": 88,
   "metadata": {},
   "outputs": [],
   "source": [
    "X=df.drop([\"fare_amount\",\"pickup_datetime\",\"coordenadas_llegada\",\"coordenadas_salida\"],axis=1)\n",
    "y=df[\"fare_amount\"]"
   ]
  },
  {
   "cell_type": "code",
   "execution_count": 89,
   "metadata": {},
   "outputs": [],
   "source": [
    "X_train,X_test,y_train,y_test=train_test_split(X,y,test_size=0.3)"
   ]
  },
  {
   "cell_type": "code",
   "execution_count": 90,
   "metadata": {},
   "outputs": [],
   "source": [
    "tree=DecisionTreeRegressor(max_depth=2)"
   ]
  },
  {
   "cell_type": "code",
   "execution_count": 91,
   "metadata": {},
   "outputs": [
    {
     "data": {
      "text/plain": [
       "DecisionTreeRegressor(ccp_alpha=0.0, criterion='mse', max_depth=2,\n",
       "                      max_features=None, max_leaf_nodes=None,\n",
       "                      min_impurity_decrease=0.0, min_impurity_split=None,\n",
       "                      min_samples_leaf=1, min_samples_split=2,\n",
       "                      min_weight_fraction_leaf=0.0, presort='deprecated',\n",
       "                      random_state=None, splitter='best')"
      ]
     },
     "execution_count": 91,
     "metadata": {},
     "output_type": "execute_result"
    }
   ],
   "source": [
    "tree.fit(X_train,y_train)"
   ]
  },
  {
   "cell_type": "code",
   "execution_count": 92,
   "metadata": {},
   "outputs": [],
   "source": [
    "y_train_predict=tree.predict(X_train)\n",
    "y_test_predict=tree.predict(X_test)"
   ]
  },
  {
   "cell_type": "code",
   "execution_count": 93,
   "metadata": {},
   "outputs": [
    {
     "name": "stdout",
     "output_type": "stream",
     "text": [
      "23.49557205030153\n",
      "27.67861117140443\n"
     ]
    }
   ],
   "source": [
    "train_mean_squared_error=mean_squared_error(y_train,y_train_predict)\n",
    "test_mean_squared_error=mean_squared_error(y_test,y_test_predict)\n",
    "print(train_mean_squared_error)\n",
    "print(test_mean_squared_error)"
   ]
  },
  {
   "cell_type": "code",
   "execution_count": 94,
   "metadata": {},
   "outputs": [
    {
     "data": {
      "text/plain": [
       "0.7004092199058034"
      ]
     },
     "execution_count": 94,
     "metadata": {},
     "output_type": "execute_result"
    }
   ],
   "source": [
    "tree.score(X_test,y_test)"
   ]
  },
  {
   "cell_type": "markdown",
   "metadata": {},
   "source": [
    "Si bien llegamos a un modelo válido, se trata de un error muy grande ya que la media de la tarifa en el dataset es cercana la 11 y el valor de RMSE lo duplica."
   ]
  },
  {
   "cell_type": "markdown",
   "metadata": {},
   "source": [
    "### Intento dandole mayor profundidad al árbol "
   ]
  },
  {
   "cell_type": "code",
   "execution_count": 95,
   "metadata": {},
   "outputs": [],
   "source": [
    "X2=df.drop([\"fare_amount\",\"pickup_datetime\",\"coordenadas_llegada\",\"coordenadas_salida\"],axis=1)\n",
    "y2=df[\"fare_amount\"]"
   ]
  },
  {
   "cell_type": "code",
   "execution_count": 96,
   "metadata": {},
   "outputs": [],
   "source": [
    "X2_train,X2_test,y2_train,y2_test=train_test_split(X2,y2,test_size=0.3)"
   ]
  },
  {
   "cell_type": "code",
   "execution_count": 97,
   "metadata": {},
   "outputs": [],
   "source": [
    "tree2=DecisionTreeRegressor(max_depth=10)"
   ]
  },
  {
   "cell_type": "code",
   "execution_count": 98,
   "metadata": {},
   "outputs": [
    {
     "data": {
      "text/plain": [
       "DecisionTreeRegressor(ccp_alpha=0.0, criterion='mse', max_depth=10,\n",
       "                      max_features=None, max_leaf_nodes=None,\n",
       "                      min_impurity_decrease=0.0, min_impurity_split=None,\n",
       "                      min_samples_leaf=1, min_samples_split=2,\n",
       "                      min_weight_fraction_leaf=0.0, presort='deprecated',\n",
       "                      random_state=None, splitter='best')"
      ]
     },
     "execution_count": 98,
     "metadata": {},
     "output_type": "execute_result"
    }
   ],
   "source": [
    "tree2.fit(X2_train,y2_train)"
   ]
  },
  {
   "cell_type": "code",
   "execution_count": 99,
   "metadata": {},
   "outputs": [],
   "source": [
    "y2_train_predict=tree2.predict(X2_train)\n",
    "y2_test_predict=tree2.predict(X2_test)"
   ]
  },
  {
   "cell_type": "code",
   "execution_count": 100,
   "metadata": {},
   "outputs": [
    {
     "name": "stdout",
     "output_type": "stream",
     "text": [
      "11.649272809289291\n",
      "21.568050469286483\n"
     ]
    }
   ],
   "source": [
    "train2_mean_squared_error=mean_squared_error(y2_train,y2_train_predict)\n",
    "test2_mean_squared_error=mean_squared_error(y2_test,y2_test_predict)\n",
    "print(train2_mean_squared_error)\n",
    "print(test2_mean_squared_error)"
   ]
  },
  {
   "cell_type": "code",
   "execution_count": 101,
   "metadata": {},
   "outputs": [
    {
     "data": {
      "text/plain": [
       "0.7658061418471364"
      ]
     },
     "execution_count": 101,
     "metadata": {},
     "output_type": "execute_result"
    }
   ],
   "source": [
    "tree2.score(X2_test,y2_test)"
   ]
  },
  {
   "cell_type": "markdown",
   "metadata": {},
   "source": [
    "Si bien mejora el RMSE con mayor profundidad, vemos como se produce el efecto de overfitting en el modelo por la gran diferencia de esta métrica cuando se trata del conjunto de test respecto al de entrenamiento."
   ]
  },
  {
   "cell_type": "markdown",
   "metadata": {},
   "source": [
    "## Algortimo de regresión II "
   ]
  },
  {
   "cell_type": "markdown",
   "metadata": {},
   "source": [
    "### KNN"
   ]
  },
  {
   "cell_type": "code",
   "execution_count": 102,
   "metadata": {},
   "outputs": [],
   "source": [
    "knn=KNeighborsRegressor()"
   ]
  },
  {
   "cell_type": "code",
   "execution_count": 103,
   "metadata": {},
   "outputs": [
    {
     "data": {
      "text/plain": [
       "KNeighborsRegressor(algorithm='auto', leaf_size=30, metric='minkowski',\n",
       "                    metric_params=None, n_jobs=None, n_neighbors=5, p=2,\n",
       "                    weights='uniform')"
      ]
     },
     "execution_count": 103,
     "metadata": {},
     "output_type": "execute_result"
    }
   ],
   "source": [
    "knn.fit(X_train,y_train)"
   ]
  },
  {
   "cell_type": "code",
   "execution_count": 104,
   "metadata": {},
   "outputs": [],
   "source": [
    "knn_predict_train=knn.predict(X_train)\n",
    "knn_predict_test=knn.predict(X_test)"
   ]
  },
  {
   "cell_type": "code",
   "execution_count": 105,
   "metadata": {},
   "outputs": [
    {
     "name": "stdout",
     "output_type": "stream",
     "text": [
      "0.8527946182424093\n",
      "0.7444432814146369\n"
     ]
    }
   ],
   "source": [
    "print(knn.score(X_train,y_train))\n",
    "print(knn.score(X_test,y_test))"
   ]
  },
  {
   "cell_type": "code",
   "execution_count": 106,
   "metadata": {},
   "outputs": [],
   "source": [
    "knn_mean_squared_error_train=mean_squared_error(y_train,knn_predict_train)\n",
    "knn_mean_squared_error_test=mean_squared_error(y_test,knn_predict_test)"
   ]
  },
  {
   "cell_type": "code",
   "execution_count": 107,
   "metadata": {},
   "outputs": [
    {
     "name": "stdout",
     "output_type": "stream",
     "text": [
      "12.988723920222618\n",
      "23.610389624608178\n"
     ]
    }
   ],
   "source": [
    "print(mean_squared_error(y_train,knn_predict_train))\n",
    "print(mean_squared_error(y_test,knn_predict_test))"
   ]
  },
  {
   "cell_type": "markdown",
   "metadata": {},
   "source": [
    "Obtuvimos un buen R2 pero un RMSE grande aún."
   ]
  },
  {
   "cell_type": "markdown",
   "metadata": {},
   "source": [
    "## Algoritmo Regresión III"
   ]
  },
  {
   "cell_type": "markdown",
   "metadata": {},
   "source": [
    "### Random Forest "
   ]
  },
  {
   "cell_type": "markdown",
   "metadata": {},
   "source": [
    "Aplico la misma lógica: un random forest con árboles de profundidad máxima 2 y otro modelo con árboles de profundidad máxima 10"
   ]
  },
  {
   "cell_type": "code",
   "execution_count": 108,
   "metadata": {},
   "outputs": [],
   "source": [
    "model=RandomForestRegressor(max_depth=2)"
   ]
  },
  {
   "cell_type": "code",
   "execution_count": 109,
   "metadata": {},
   "outputs": [
    {
     "data": {
      "text/plain": [
       "RandomForestRegressor(bootstrap=True, ccp_alpha=0.0, criterion='mse',\n",
       "                      max_depth=2, max_features='auto', max_leaf_nodes=None,\n",
       "                      max_samples=None, min_impurity_decrease=0.0,\n",
       "                      min_impurity_split=None, min_samples_leaf=1,\n",
       "                      min_samples_split=2, min_weight_fraction_leaf=0.0,\n",
       "                      n_estimators=100, n_jobs=None, oob_score=False,\n",
       "                      random_state=None, verbose=0, warm_start=False)"
      ]
     },
     "execution_count": 109,
     "metadata": {},
     "output_type": "execute_result"
    }
   ],
   "source": [
    "model.fit(X_train,y_train)"
   ]
  },
  {
   "cell_type": "code",
   "execution_count": 110,
   "metadata": {},
   "outputs": [],
   "source": [
    "model_predict_train=model.predict(X_train)\n",
    "model_predict_test=model.predict(X_test)"
   ]
  },
  {
   "cell_type": "code",
   "execution_count": 111,
   "metadata": {},
   "outputs": [
    {
     "name": "stdout",
     "output_type": "stream",
     "text": [
      "0.7406381696748416\n",
      "0.7073661817080037\n"
     ]
    }
   ],
   "source": [
    "print(model.score(X_train,y_train))\n",
    "print(model.score(X_test,y_test))"
   ]
  },
  {
   "cell_type": "code",
   "execution_count": 112,
   "metadata": {},
   "outputs": [
    {
     "name": "stdout",
     "output_type": "stream",
     "text": [
      "22.884891634496206\n",
      "27.03587096225356\n"
     ]
    }
   ],
   "source": [
    "print(mean_squared_error(y_train,model_predict_train))\n",
    "print(mean_squared_error(y_test,model_predict_test))\n"
   ]
  },
  {
   "cell_type": "code",
   "execution_count": 113,
   "metadata": {},
   "outputs": [],
   "source": [
    "model2=RandomForestRegressor(max_depth=10)"
   ]
  },
  {
   "cell_type": "code",
   "execution_count": 114,
   "metadata": {},
   "outputs": [
    {
     "data": {
      "text/plain": [
       "RandomForestRegressor(bootstrap=True, ccp_alpha=0.0, criterion='mse',\n",
       "                      max_depth=10, max_features='auto', max_leaf_nodes=None,\n",
       "                      max_samples=None, min_impurity_decrease=0.0,\n",
       "                      min_impurity_split=None, min_samples_leaf=1,\n",
       "                      min_samples_split=2, min_weight_fraction_leaf=0.0,\n",
       "                      n_estimators=100, n_jobs=None, oob_score=False,\n",
       "                      random_state=None, verbose=0, warm_start=False)"
      ]
     },
     "execution_count": 114,
     "metadata": {},
     "output_type": "execute_result"
    }
   ],
   "source": [
    "model2.fit(X_train,y_train)"
   ]
  },
  {
   "cell_type": "code",
   "execution_count": 115,
   "metadata": {},
   "outputs": [],
   "source": [
    "model2_predict_train=model2.predict(X_train)\n",
    "model2_predict_test=model2.predict(X_test)"
   ]
  },
  {
   "cell_type": "code",
   "execution_count": 116,
   "metadata": {},
   "outputs": [
    {
     "name": "stdout",
     "output_type": "stream",
     "text": [
      "0.873413830315994\n",
      "0.8003576735471291\n"
     ]
    }
   ],
   "source": [
    "print(model2.score(X_train,y_train))\n",
    "print(model2.score(X_test,y_test))"
   ]
  },
  {
   "cell_type": "code",
   "execution_count": 117,
   "metadata": {},
   "outputs": [
    {
     "name": "stdout",
     "output_type": "stream",
     "text": [
      "11.169379750338011\n",
      "18.44456737121947\n"
     ]
    }
   ],
   "source": [
    "print(mean_squared_error(y_train,model2_predict_train))\n",
    "print(mean_squared_error(y_test,model2_predict_test))"
   ]
  },
  {
   "cell_type": "markdown",
   "metadata": {},
   "source": [
    "Con este nivel de profundidad obtenemos un buen R2 y sin tener mucha diferencia entre test y train como nos pasaba en el árbol de decisión. Hay más diferencia tomando como medida el RMSE."
   ]
  },
  {
   "cell_type": "markdown",
   "metadata": {},
   "source": [
    "### Comparación de métricas de modelos "
   ]
  },
  {
   "cell_type": "code",
   "execution_count": 118,
   "metadata": {},
   "outputs": [],
   "source": [
    "data=[[\"Árbol profundidad 2\",tree.score(X_train,y_train),tree.score(X_test,y_test),train_mean_squared_error,test_mean_squared_error],[\"Árbol profundidad 10\",tree2.score(X_train,y_train),tree2.score(X_test,y_test),train2_mean_squared_error,test2_mean_squared_error],[\"KNeighborsRegressor\",knn.score(X_train,y_train),knn.score(X_test,y_test),knn_mean_squared_error_train,knn_mean_squared_error_test],[\"Random Forest Profundidad 2\",model.score(X_train,y_train),model.score(X_test,y_test),mean_squared_error(y_train,model_predict_train),mean_squared_error(y_test,model_predict_test)],[\"Random Forest Profundidad 10\",model2.score(X_train,y_train),model2.score(X_test,y_test),mean_squared_error(y_train,model2_predict_train),mean_squared_error(y_test,model2_predict_test)]]"
   ]
  },
  {
   "cell_type": "code",
   "execution_count": 119,
   "metadata": {},
   "outputs": [],
   "source": [
    "tabla=pd.DataFrame(data,columns=[\"Modelo\",\"R2 Train\",\"R2 Test\",\"RMSE Train\",\"RMSE Test\"])"
   ]
  },
  {
   "cell_type": "code",
   "execution_count": 120,
   "metadata": {},
   "outputs": [
    {
     "data": {
      "text/html": [
       "<div>\n",
       "<style scoped>\n",
       "    .dataframe tbody tr th:only-of-type {\n",
       "        vertical-align: middle;\n",
       "    }\n",
       "\n",
       "    .dataframe tbody tr th {\n",
       "        vertical-align: top;\n",
       "    }\n",
       "\n",
       "    .dataframe thead th {\n",
       "        text-align: right;\n",
       "    }\n",
       "</style>\n",
       "<table border=\"1\" class=\"dataframe\">\n",
       "  <thead>\n",
       "    <tr style=\"text-align: right;\">\n",
       "      <th></th>\n",
       "      <th>Modelo</th>\n",
       "      <th>R2 Train</th>\n",
       "      <th>R2 Test</th>\n",
       "      <th>RMSE Train</th>\n",
       "      <th>RMSE Test</th>\n",
       "    </tr>\n",
       "  </thead>\n",
       "  <tbody>\n",
       "    <tr>\n",
       "      <th>0</th>\n",
       "      <td>Árbol profundidad 2</td>\n",
       "      <td>0.733717</td>\n",
       "      <td>0.700409</td>\n",
       "      <td>23.495572</td>\n",
       "      <td>27.678611</td>\n",
       "    </tr>\n",
       "    <tr>\n",
       "      <th>1</th>\n",
       "      <td>Árbol profundidad 10</td>\n",
       "      <td>0.848015</td>\n",
       "      <td>0.811029</td>\n",
       "      <td>11.649273</td>\n",
       "      <td>21.568050</td>\n",
       "    </tr>\n",
       "    <tr>\n",
       "      <th>2</th>\n",
       "      <td>KNeighborsRegressor</td>\n",
       "      <td>0.852795</td>\n",
       "      <td>0.744443</td>\n",
       "      <td>12.988724</td>\n",
       "      <td>23.610390</td>\n",
       "    </tr>\n",
       "    <tr>\n",
       "      <th>3</th>\n",
       "      <td>Random Forest Profundidad 2</td>\n",
       "      <td>0.740638</td>\n",
       "      <td>0.707366</td>\n",
       "      <td>22.884892</td>\n",
       "      <td>27.035871</td>\n",
       "    </tr>\n",
       "    <tr>\n",
       "      <th>4</th>\n",
       "      <td>Random Forest Profundidad 10</td>\n",
       "      <td>0.873414</td>\n",
       "      <td>0.800358</td>\n",
       "      <td>11.169380</td>\n",
       "      <td>18.444567</td>\n",
       "    </tr>\n",
       "  </tbody>\n",
       "</table>\n",
       "</div>"
      ],
      "text/plain": [
       "                         Modelo  R2 Train   R2 Test  RMSE Train  RMSE Test\n",
       "0           Árbol profundidad 2  0.733717  0.700409   23.495572  27.678611\n",
       "1          Árbol profundidad 10  0.848015  0.811029   11.649273  21.568050\n",
       "2           KNeighborsRegressor  0.852795  0.744443   12.988724  23.610390\n",
       "3   Random Forest Profundidad 2  0.740638  0.707366   22.884892  27.035871\n",
       "4  Random Forest Profundidad 10  0.873414  0.800358   11.169380  18.444567"
      ]
     },
     "execution_count": 120,
     "metadata": {},
     "output_type": "execute_result"
    }
   ],
   "source": [
    "tabla"
   ]
  },
  {
   "cell_type": "markdown",
   "metadata": {},
   "source": [
    "#### A simple vista y comparando únicamente estas métricas, el modelo que mejor funciona pareciera ser el Random Forest, configurando una profundidad máxima en los árboles de 10"
   ]
  },
  {
   "cell_type": "markdown",
   "metadata": {},
   "source": [
    "## Limpieza OUTLIERS "
   ]
  },
  {
   "cell_type": "markdown",
   "metadata": {},
   "source": [
    "Se trata de limpiar los OUTLIERS de las columnas de tarifa y distancia que son las más dispersas para seguir afinando el modelo. Se utlizará el concepto de +/- 1,5 el recorrido estadístico (distancia entre 1er y 3er cuartil)"
   ]
  },
  {
   "cell_type": "code",
   "execution_count": 121,
   "metadata": {},
   "outputs": [
    {
     "data": {
      "text/html": [
       "<div>\n",
       "<style scoped>\n",
       "    .dataframe tbody tr th:only-of-type {\n",
       "        vertical-align: middle;\n",
       "    }\n",
       "\n",
       "    .dataframe tbody tr th {\n",
       "        vertical-align: top;\n",
       "    }\n",
       "\n",
       "    .dataframe thead th {\n",
       "        text-align: right;\n",
       "    }\n",
       "</style>\n",
       "<table border=\"1\" class=\"dataframe\">\n",
       "  <thead>\n",
       "    <tr style=\"text-align: right;\">\n",
       "      <th></th>\n",
       "      <th>fare_amount</th>\n",
       "      <th>pickup_longitude</th>\n",
       "      <th>pickup_latitude</th>\n",
       "      <th>dropoff_longitude</th>\n",
       "      <th>dropoff_latitude</th>\n",
       "      <th>passenger_count</th>\n",
       "      <th>distancia_viaje_en_km</th>\n",
       "      <th>nro_dia_semana</th>\n",
       "      <th>rango_horario_Mañana</th>\n",
       "      <th>rango_horario_Noche</th>\n",
       "      <th>rango_horario_Tarde</th>\n",
       "      <th>fin_de_semana_Fin de semana</th>\n",
       "    </tr>\n",
       "  </thead>\n",
       "  <tbody>\n",
       "    <tr>\n",
       "      <th>count</th>\n",
       "      <td>193539.000000</td>\n",
       "      <td>193539.000000</td>\n",
       "      <td>193539.000000</td>\n",
       "      <td>193539.000000</td>\n",
       "      <td>193539.000000</td>\n",
       "      <td>193539.000000</td>\n",
       "      <td>193539.000000</td>\n",
       "      <td>193539.000000</td>\n",
       "      <td>193539.000000</td>\n",
       "      <td>193539.000000</td>\n",
       "      <td>193539.000000</td>\n",
       "      <td>193539.000000</td>\n",
       "    </tr>\n",
       "    <tr>\n",
       "      <th>mean</th>\n",
       "      <td>11.297855</td>\n",
       "      <td>-73.975651</td>\n",
       "      <td>40.750838</td>\n",
       "      <td>-73.974721</td>\n",
       "      <td>40.751099</td>\n",
       "      <td>1.684668</td>\n",
       "      <td>3.340161</td>\n",
       "      <td>3.048765</td>\n",
       "      <td>0.241114</td>\n",
       "      <td>0.283059</td>\n",
       "      <td>0.347108</td>\n",
       "      <td>0.283679</td>\n",
       "    </tr>\n",
       "    <tr>\n",
       "      <th>std</th>\n",
       "      <td>9.459522</td>\n",
       "      <td>0.034184</td>\n",
       "      <td>0.026750</td>\n",
       "      <td>0.033769</td>\n",
       "      <td>0.030544</td>\n",
       "      <td>1.388337</td>\n",
       "      <td>3.556609</td>\n",
       "      <td>1.946915</td>\n",
       "      <td>0.427761</td>\n",
       "      <td>0.450486</td>\n",
       "      <td>0.476052</td>\n",
       "      <td>0.450784</td>\n",
       "    </tr>\n",
       "    <tr>\n",
       "      <th>min</th>\n",
       "      <td>0.010000</td>\n",
       "      <td>-74.243432</td>\n",
       "      <td>40.508697</td>\n",
       "      <td>-74.244837</td>\n",
       "      <td>40.511859</td>\n",
       "      <td>0.000000</td>\n",
       "      <td>0.000084</td>\n",
       "      <td>0.000000</td>\n",
       "      <td>0.000000</td>\n",
       "      <td>0.000000</td>\n",
       "      <td>0.000000</td>\n",
       "      <td>0.000000</td>\n",
       "    </tr>\n",
       "    <tr>\n",
       "      <th>25%</th>\n",
       "      <td>6.000000</td>\n",
       "      <td>-73.992287</td>\n",
       "      <td>40.736499</td>\n",
       "      <td>-73.991605</td>\n",
       "      <td>40.735372</td>\n",
       "      <td>1.000000</td>\n",
       "      <td>1.280447</td>\n",
       "      <td>1.000000</td>\n",
       "      <td>0.000000</td>\n",
       "      <td>0.000000</td>\n",
       "      <td>0.000000</td>\n",
       "      <td>0.000000</td>\n",
       "    </tr>\n",
       "    <tr>\n",
       "      <th>50%</th>\n",
       "      <td>8.500000</td>\n",
       "      <td>-73.982140</td>\n",
       "      <td>40.753314</td>\n",
       "      <td>-73.980591</td>\n",
       "      <td>40.753750</td>\n",
       "      <td>1.000000</td>\n",
       "      <td>2.179111</td>\n",
       "      <td>3.000000</td>\n",
       "      <td>0.000000</td>\n",
       "      <td>0.000000</td>\n",
       "      <td>0.000000</td>\n",
       "      <td>0.000000</td>\n",
       "    </tr>\n",
       "    <tr>\n",
       "      <th>75%</th>\n",
       "      <td>12.500000</td>\n",
       "      <td>-73.968529</td>\n",
       "      <td>40.767529</td>\n",
       "      <td>-73.965635</td>\n",
       "      <td>40.768316</td>\n",
       "      <td>2.000000</td>\n",
       "      <td>3.933487</td>\n",
       "      <td>5.000000</td>\n",
       "      <td>0.000000</td>\n",
       "      <td>1.000000</td>\n",
       "      <td>1.000000</td>\n",
       "      <td>1.000000</td>\n",
       "    </tr>\n",
       "    <tr>\n",
       "      <th>max</th>\n",
       "      <td>499.000000</td>\n",
       "      <td>-73.703262</td>\n",
       "      <td>40.908310</td>\n",
       "      <td>-73.700963</td>\n",
       "      <td>40.909967</td>\n",
       "      <td>208.000000</td>\n",
       "      <td>35.341909</td>\n",
       "      <td>6.000000</td>\n",
       "      <td>1.000000</td>\n",
       "      <td>1.000000</td>\n",
       "      <td>1.000000</td>\n",
       "      <td>1.000000</td>\n",
       "    </tr>\n",
       "  </tbody>\n",
       "</table>\n",
       "</div>"
      ],
      "text/plain": [
       "         fare_amount  pickup_longitude  pickup_latitude  dropoff_longitude  \\\n",
       "count  193539.000000     193539.000000    193539.000000      193539.000000   \n",
       "mean       11.297855        -73.975651        40.750838         -73.974721   \n",
       "std         9.459522          0.034184         0.026750           0.033769   \n",
       "min         0.010000        -74.243432        40.508697         -74.244837   \n",
       "25%         6.000000        -73.992287        40.736499         -73.991605   \n",
       "50%         8.500000        -73.982140        40.753314         -73.980591   \n",
       "75%        12.500000        -73.968529        40.767529         -73.965635   \n",
       "max       499.000000        -73.703262        40.908310         -73.700963   \n",
       "\n",
       "       dropoff_latitude  passenger_count  distancia_viaje_en_km  \\\n",
       "count     193539.000000    193539.000000          193539.000000   \n",
       "mean          40.751099         1.684668               3.340161   \n",
       "std            0.030544         1.388337               3.556609   \n",
       "min           40.511859         0.000000               0.000084   \n",
       "25%           40.735372         1.000000               1.280447   \n",
       "50%           40.753750         1.000000               2.179111   \n",
       "75%           40.768316         2.000000               3.933487   \n",
       "max           40.909967       208.000000              35.341909   \n",
       "\n",
       "       nro_dia_semana  rango_horario_Mañana  rango_horario_Noche  \\\n",
       "count   193539.000000         193539.000000        193539.000000   \n",
       "mean         3.048765              0.241114             0.283059   \n",
       "std          1.946915              0.427761             0.450486   \n",
       "min          0.000000              0.000000             0.000000   \n",
       "25%          1.000000              0.000000             0.000000   \n",
       "50%          3.000000              0.000000             0.000000   \n",
       "75%          5.000000              0.000000             1.000000   \n",
       "max          6.000000              1.000000             1.000000   \n",
       "\n",
       "       rango_horario_Tarde  fin_de_semana_Fin de semana  \n",
       "count        193539.000000                193539.000000  \n",
       "mean              0.347108                     0.283679  \n",
       "std               0.476052                     0.450784  \n",
       "min               0.000000                     0.000000  \n",
       "25%               0.000000                     0.000000  \n",
       "50%               0.000000                     0.000000  \n",
       "75%               1.000000                     1.000000  \n",
       "max               1.000000                     1.000000  "
      ]
     },
     "execution_count": 121,
     "metadata": {},
     "output_type": "execute_result"
    }
   ],
   "source": [
    "df.describe()"
   ]
  },
  {
   "cell_type": "code",
   "execution_count": 122,
   "metadata": {},
   "outputs": [
    {
     "data": {
      "text/plain": [
       "<matplotlib.axes._subplots.AxesSubplot at 0x211549cff48>"
      ]
     },
     "execution_count": 122,
     "metadata": {},
     "output_type": "execute_result"
    },
    {
     "data": {
      "image/png": "[encoded data removed]",
      "text/plain": [
       "<Figure size 1440x1080 with 1 Axes>"
      ]
     },
     "metadata": {
      "needs_background": "light"
     },
     "output_type": "display_data"
    }
   ],
   "source": [
    "#verificó la dispersión ya vista para evaluar, antes y después, de aplicar la limpieza\n",
    "boxplot(df.fare_amount)"
   ]
  },
  {
   "cell_type": "code",
   "execution_count": 123,
   "metadata": {},
   "outputs": [
    {
     "data": {
      "text/plain": [
       "<matplotlib.axes._subplots.AxesSubplot at 0x211554dc808>"
      ]
     },
     "execution_count": 123,
     "metadata": {},
     "output_type": "execute_result"
    },
    {
     "data": {
      "image/png": "[encoded data removed]",
      "text/plain": [
       "<Figure size 1440x1080 with 1 Axes>"
      ]
     },
     "metadata": {
      "needs_background": "light"
     },
     "output_type": "display_data"
    }
   ],
   "source": [
    "boxplot(df.distancia_viaje_en_km)"
   ]
  },
  {
   "cell_type": "markdown",
   "metadata": {},
   "source": [
    "Cálculo medidas de boxplot para detectar outliers"
   ]
  },
  {
   "cell_type": "code",
   "execution_count": 124,
   "metadata": {},
   "outputs": [],
   "source": [
    "median_tarifa = np.median(df.fare_amount)\n",
    "upper_quartile_tarifa = np.percentile(df.fare_amount, 75)\n",
    "lower_quartile_tarifa = np.percentile(df.fare_amount, 25)\n",
    "iqr_tarifa = upper_quartile_tarifa - lower_quartile_tarifa\n",
    "upper_whisker_tarifa = df.fare_amount[df.fare_amount<=upper_quartile_tarifa+1.5*iqr_tarifa].max()\n",
    "lower_whisker_tarifa = df.fare_amount[df.fare_amount>=lower_quartile_tarifa-1.5*iqr_tarifa].min()\n",
    "\n",
    "median_distanciakm = np.median(df.distancia_viaje_en_km)\n",
    "upper_quartile_distanciakm = np.percentile(df.distancia_viaje_en_km, 75)\n",
    "lower_quartile_distanciakm = np.percentile(df.distancia_viaje_en_km, 25)\n",
    "iqr_distanciakm = upper_quartile_distanciakm - lower_quartile_distanciakm\n",
    "upper_whisker_distanciakm = df.distancia_viaje_en_km[df.distancia_viaje_en_km<=upper_quartile_distanciakm+1.5*iqr_distanciakm].max()\n",
    "lower_whisker_distanciakm = df.distancia_viaje_en_km[df.distancia_viaje_en_km>=lower_quartile_distanciakm-1.5*iqr_distanciakm].min()"
   ]
  },
  {
   "cell_type": "code",
   "execution_count": 125,
   "metadata": {},
   "outputs": [
    {
     "name": "stderr",
     "output_type": "stream",
     "text": [
      "C:\\ProgramData\\Anaconda3\\lib\\site-packages\\ipykernel_launcher.py:4: UserWarning: Boolean Series key will be reindexed to match DataFrame index.\n",
      "  after removing the cwd from sys.path.\n"
     ]
    }
   ],
   "source": [
    "condicion_tarifa = df[\"fare_amount\"] <= upper_whisker_tarifa\n",
    "condicion_distanciakm = df[\"distancia_viaje_en_km\"] <= upper_whisker_distanciakm\n",
    "df = df[condicion_tarifa]\n",
    "df = df[condicion_distanciakm]"
   ]
  },
  {
   "cell_type": "markdown",
   "metadata": {},
   "source": [
    "Compruebo que haya mejorado la variabilidad"
   ]
  },
  {
   "cell_type": "code",
   "execution_count": 126,
   "metadata": {},
   "outputs": [
    {
     "data": {
      "text/plain": [
       "<matplotlib.axes._subplots.AxesSubplot at 0x21152a19f48>"
      ]
     },
     "execution_count": 126,
     "metadata": {},
     "output_type": "execute_result"
    },
    {
     "data": {
      "image/png": "[encoded data removed]",
      "text/plain": [
       "<Figure size 1440x1080 with 1 Axes>"
      ]
     },
     "metadata": {
      "needs_background": "light"
     },
     "output_type": "display_data"
    }
   ],
   "source": [
    "boxplot(df.fare_amount)"
   ]
  },
  {
   "cell_type": "code",
   "execution_count": 127,
   "metadata": {},
   "outputs": [
    {
     "data": {
      "text/plain": [
       "<matplotlib.axes._subplots.AxesSubplot at 0x21152978908>"
      ]
     },
     "execution_count": 127,
     "metadata": {},
     "output_type": "execute_result"
    },
    {
     "data": {
      "image/png": "[encoded data removed]",
      "text/plain": [
       "<Figure size 1440x1080 with 1 Axes>"
      ]
     },
     "metadata": {
      "needs_background": "light"
     },
     "output_type": "display_data"
    }
   ],
   "source": [
    "boxplot(df.distancia_viaje_en_km)"
   ]
  },
  {
   "cell_type": "code",
   "execution_count": 128,
   "metadata": {},
   "outputs": [],
   "source": [
    "df=df.drop([\"coordenadas_salida\",\"coordenadas_llegada\"], axis=1)"
   ]
  },
  {
   "cell_type": "code",
   "execution_count": 129,
   "metadata": {},
   "outputs": [],
   "source": [
    "df_procesado= df.copy()"
   ]
  },
  {
   "cell_type": "code",
   "execution_count": 130,
   "metadata": {},
   "outputs": [
    {
     "data": {
      "text/html": [
       "<div>\n",
       "<style scoped>\n",
       "    .dataframe tbody tr th:only-of-type {\n",
       "        vertical-align: middle;\n",
       "    }\n",
       "\n",
       "    .dataframe tbody tr th {\n",
       "        vertical-align: top;\n",
       "    }\n",
       "\n",
       "    .dataframe thead th {\n",
       "        text-align: right;\n",
       "    }\n",
       "</style>\n",
       "<table border=\"1\" class=\"dataframe\">\n",
       "  <thead>\n",
       "    <tr style=\"text-align: right;\">\n",
       "      <th></th>\n",
       "      <th>pickup_longitude</th>\n",
       "      <th>pickup_latitude</th>\n",
       "      <th>dropoff_longitude</th>\n",
       "      <th>dropoff_latitude</th>\n",
       "      <th>passenger_count</th>\n",
       "      <th>distancia_viaje_en_km</th>\n",
       "      <th>nro_dia_semana</th>\n",
       "      <th>rango_horario_Mañana</th>\n",
       "      <th>rango_horario_Noche</th>\n",
       "      <th>rango_horario_Tarde</th>\n",
       "      <th>fin_de_semana_Fin de semana</th>\n",
       "    </tr>\n",
       "  </thead>\n",
       "  <tbody>\n",
       "    <tr>\n",
       "      <th>0</th>\n",
       "      <td>-73.999817</td>\n",
       "      <td>40.738354</td>\n",
       "      <td>-73.999512</td>\n",
       "      <td>40.723217</td>\n",
       "      <td>1</td>\n",
       "      <td>1.683325</td>\n",
       "      <td>3</td>\n",
       "      <td>0</td>\n",
       "      <td>1</td>\n",
       "      <td>0</td>\n",
       "      <td>0</td>\n",
       "    </tr>\n",
       "    <tr>\n",
       "      <th>1</th>\n",
       "      <td>-73.994355</td>\n",
       "      <td>40.728225</td>\n",
       "      <td>-73.994710</td>\n",
       "      <td>40.750325</td>\n",
       "      <td>1</td>\n",
       "      <td>2.457593</td>\n",
       "      <td>4</td>\n",
       "      <td>0</td>\n",
       "      <td>1</td>\n",
       "      <td>0</td>\n",
       "      <td>0</td>\n",
       "    </tr>\n",
       "    <tr>\n",
       "      <th>2</th>\n",
       "      <td>-74.005043</td>\n",
       "      <td>40.740770</td>\n",
       "      <td>-73.962565</td>\n",
       "      <td>40.772647</td>\n",
       "      <td>1</td>\n",
       "      <td>5.036384</td>\n",
       "      <td>0</td>\n",
       "      <td>0</td>\n",
       "      <td>1</td>\n",
       "      <td>0</td>\n",
       "      <td>0</td>\n",
       "    </tr>\n",
       "    <tr>\n",
       "      <th>3</th>\n",
       "      <td>-73.976124</td>\n",
       "      <td>40.790844</td>\n",
       "      <td>-73.965316</td>\n",
       "      <td>40.803349</td>\n",
       "      <td>3</td>\n",
       "      <td>1.661686</td>\n",
       "      <td>4</td>\n",
       "      <td>1</td>\n",
       "      <td>0</td>\n",
       "      <td>0</td>\n",
       "      <td>0</td>\n",
       "    </tr>\n",
       "    <tr>\n",
       "      <th>4</th>\n",
       "      <td>-73.925023</td>\n",
       "      <td>40.744085</td>\n",
       "      <td>-73.973082</td>\n",
       "      <td>40.761247</td>\n",
       "      <td>5</td>\n",
       "      <td>4.475456</td>\n",
       "      <td>3</td>\n",
       "      <td>0</td>\n",
       "      <td>0</td>\n",
       "      <td>1</td>\n",
       "      <td>0</td>\n",
       "    </tr>\n",
       "    <tr>\n",
       "      <th>...</th>\n",
       "      <td>...</td>\n",
       "      <td>...</td>\n",
       "      <td>...</td>\n",
       "      <td>...</td>\n",
       "      <td>...</td>\n",
       "      <td>...</td>\n",
       "      <td>...</td>\n",
       "      <td>...</td>\n",
       "      <td>...</td>\n",
       "      <td>...</td>\n",
       "      <td>...</td>\n",
       "    </tr>\n",
       "    <tr>\n",
       "      <th>193533</th>\n",
       "      <td>-73.983070</td>\n",
       "      <td>40.760770</td>\n",
       "      <td>-73.972972</td>\n",
       "      <td>40.754177</td>\n",
       "      <td>1</td>\n",
       "      <td>1.122879</td>\n",
       "      <td>4</td>\n",
       "      <td>0</td>\n",
       "      <td>0</td>\n",
       "      <td>1</td>\n",
       "      <td>0</td>\n",
       "    </tr>\n",
       "    <tr>\n",
       "      <th>193534</th>\n",
       "      <td>-73.987042</td>\n",
       "      <td>40.739367</td>\n",
       "      <td>-73.986525</td>\n",
       "      <td>40.740297</td>\n",
       "      <td>1</td>\n",
       "      <td>0.112210</td>\n",
       "      <td>6</td>\n",
       "      <td>1</td>\n",
       "      <td>0</td>\n",
       "      <td>0</td>\n",
       "      <td>1</td>\n",
       "    </tr>\n",
       "    <tr>\n",
       "      <th>193535</th>\n",
       "      <td>-73.984722</td>\n",
       "      <td>40.736837</td>\n",
       "      <td>-74.006672</td>\n",
       "      <td>40.739620</td>\n",
       "      <td>1</td>\n",
       "      <td>1.875053</td>\n",
       "      <td>4</td>\n",
       "      <td>0</td>\n",
       "      <td>0</td>\n",
       "      <td>0</td>\n",
       "      <td>0</td>\n",
       "    </tr>\n",
       "    <tr>\n",
       "      <th>193537</th>\n",
       "      <td>-73.997124</td>\n",
       "      <td>40.725452</td>\n",
       "      <td>-73.983215</td>\n",
       "      <td>40.695415</td>\n",
       "      <td>1</td>\n",
       "      <td>3.539720</td>\n",
       "      <td>2</td>\n",
       "      <td>0</td>\n",
       "      <td>0</td>\n",
       "      <td>1</td>\n",
       "      <td>0</td>\n",
       "    </tr>\n",
       "    <tr>\n",
       "      <th>193538</th>\n",
       "      <td>-73.984395</td>\n",
       "      <td>40.720077</td>\n",
       "      <td>-73.985508</td>\n",
       "      <td>40.768793</td>\n",
       "      <td>1</td>\n",
       "      <td>5.417791</td>\n",
       "      <td>5</td>\n",
       "      <td>0</td>\n",
       "      <td>0</td>\n",
       "      <td>0</td>\n",
       "      <td>1</td>\n",
       "    </tr>\n",
       "  </tbody>\n",
       "</table>\n",
       "<p>174182 rows × 11 columns</p>\n",
       "</div>"
      ],
      "text/plain": [
       "        pickup_longitude  pickup_latitude  dropoff_longitude  \\\n",
       "0             -73.999817        40.738354         -73.999512   \n",
       "1             -73.994355        40.728225         -73.994710   \n",
       "2             -74.005043        40.740770         -73.962565   \n",
       "3             -73.976124        40.790844         -73.965316   \n",
       "4             -73.925023        40.744085         -73.973082   \n",
       "...                  ...              ...                ...   \n",
       "193533        -73.983070        40.760770         -73.972972   \n",
       "193534        -73.987042        40.739367         -73.986525   \n",
       "193535        -73.984722        40.736837         -74.006672   \n",
       "193537        -73.997124        40.725452         -73.983215   \n",
       "193538        -73.984395        40.720077         -73.985508   \n",
       "\n",
       "        dropoff_latitude  passenger_count  distancia_viaje_en_km  \\\n",
       "0              40.723217                1               1.683325   \n",
       "1              40.750325                1               2.457593   \n",
       "2              40.772647                1               5.036384   \n",
       "3              40.803349                3               1.661686   \n",
       "4              40.761247                5               4.475456   \n",
       "...                  ...              ...                    ...   \n",
       "193533         40.754177                1               1.122879   \n",
       "193534         40.740297                1               0.112210   \n",
       "193535         40.739620                1               1.875053   \n",
       "193537         40.695415                1               3.539720   \n",
       "193538         40.768793                1               5.417791   \n",
       "\n",
       "        nro_dia_semana  rango_horario_Mañana  rango_horario_Noche  \\\n",
       "0                    3                     0                    1   \n",
       "1                    4                     0                    1   \n",
       "2                    0                     0                    1   \n",
       "3                    4                     1                    0   \n",
       "4                    3                     0                    0   \n",
       "...                ...                   ...                  ...   \n",
       "193533               4                     0                    0   \n",
       "193534               6                     1                    0   \n",
       "193535               4                     0                    0   \n",
       "193537               2                     0                    0   \n",
       "193538               5                     0                    0   \n",
       "\n",
       "        rango_horario_Tarde  fin_de_semana_Fin de semana  \n",
       "0                         0                            0  \n",
       "1                         0                            0  \n",
       "2                         0                            0  \n",
       "3                         0                            0  \n",
       "4                         1                            0  \n",
       "...                     ...                          ...  \n",
       "193533                    1                            0  \n",
       "193534                    0                            1  \n",
       "193535                    0                            0  \n",
       "193537                    1                            0  \n",
       "193538                    0                            1  \n",
       "\n",
       "[174182 rows x 11 columns]"
      ]
     },
     "execution_count": 130,
     "metadata": {},
     "output_type": "execute_result"
    }
   ],
   "source": [
    "df_procesado_X = df_procesado.drop([\"fare_amount\",\"pickup_datetime\"], axis=1)\n",
    "df_procesado_y=df[\"fare_amount\"]\n",
    "df_procesado_X"
   ]
  },
  {
   "cell_type": "markdown",
   "metadata": {},
   "source": [
    "## Estandarizo columnas predictoras"
   ]
  },
  {
   "cell_type": "code",
   "execution_count": 133,
   "metadata": {},
   "outputs": [],
   "source": [
    "std=StandardScaler()\n",
    "df_procesado_X_std=std.fit_transform(df_procesado_X)\n",
    "df_procesado_X_std=pd.DataFrame(df_procesado_X_std,columns=df_procesado_X.columns)"
   ]
  },
  {
   "cell_type": "code",
   "execution_count": 134,
   "metadata": {},
   "outputs": [
    {
     "data": {
      "text/html": [
       "<div>\n",
       "<style scoped>\n",
       "    .dataframe tbody tr th:only-of-type {\n",
       "        vertical-align: middle;\n",
       "    }\n",
       "\n",
       "    .dataframe tbody tr th {\n",
       "        vertical-align: top;\n",
       "    }\n",
       "\n",
       "    .dataframe thead th {\n",
       "        text-align: right;\n",
       "    }\n",
       "</style>\n",
       "<table border=\"1\" class=\"dataframe\">\n",
       "  <thead>\n",
       "    <tr style=\"text-align: right;\">\n",
       "      <th></th>\n",
       "      <th>pickup_longitude</th>\n",
       "      <th>pickup_latitude</th>\n",
       "      <th>dropoff_longitude</th>\n",
       "      <th>dropoff_latitude</th>\n",
       "      <th>passenger_count</th>\n",
       "      <th>distancia_viaje_en_km</th>\n",
       "      <th>nro_dia_semana</th>\n",
       "      <th>rango_horario_Mañana</th>\n",
       "      <th>rango_horario_Noche</th>\n",
       "      <th>rango_horario_Tarde</th>\n",
       "      <th>fin_de_semana_Fin de semana</th>\n",
       "    </tr>\n",
       "  </thead>\n",
       "  <tbody>\n",
       "    <tr>\n",
       "      <th>0</th>\n",
       "      <td>-0.931867</td>\n",
       "      <td>-0.588105</td>\n",
       "      <td>-0.935601</td>\n",
       "      <td>-1.141166</td>\n",
       "      <td>-0.488691</td>\n",
       "      <td>-0.457920</td>\n",
       "      <td>-0.024098</td>\n",
       "      <td>-0.566499</td>\n",
       "      <td>1.579523</td>\n",
       "      <td>-0.730112</td>\n",
       "      <td>-0.628354</td>\n",
       "    </tr>\n",
       "    <tr>\n",
       "      <th>1</th>\n",
       "      <td>-0.670161</td>\n",
       "      <td>-1.020724</td>\n",
       "      <td>-0.718193</td>\n",
       "      <td>-0.073995</td>\n",
       "      <td>-0.488691</td>\n",
       "      <td>0.021818</td>\n",
       "      <td>0.490808</td>\n",
       "      <td>-0.566499</td>\n",
       "      <td>1.579523</td>\n",
       "      <td>-0.730112</td>\n",
       "      <td>-0.628354</td>\n",
       "    </tr>\n",
       "    <tr>\n",
       "      <th>2</th>\n",
       "      <td>-1.182275</td>\n",
       "      <td>-0.484901</td>\n",
       "      <td>0.737241</td>\n",
       "      <td>0.804764</td>\n",
       "      <td>-0.488691</td>\n",
       "      <td>1.619642</td>\n",
       "      <td>-1.568817</td>\n",
       "      <td>-0.566499</td>\n",
       "      <td>1.579523</td>\n",
       "      <td>-0.730112</td>\n",
       "      <td>-0.628354</td>\n",
       "    </tr>\n",
       "    <tr>\n",
       "      <th>3</th>\n",
       "      <td>0.203375</td>\n",
       "      <td>1.653866</td>\n",
       "      <td>0.612683</td>\n",
       "      <td>2.013422</td>\n",
       "      <td>0.943661</td>\n",
       "      <td>-0.471328</td>\n",
       "      <td>0.490808</td>\n",
       "      <td>1.765227</td>\n",
       "      <td>-0.633102</td>\n",
       "      <td>-0.730112</td>\n",
       "      <td>-0.628354</td>\n",
       "    </tr>\n",
       "    <tr>\n",
       "      <th>4</th>\n",
       "      <td>2.651872</td>\n",
       "      <td>-0.343310</td>\n",
       "      <td>0.261061</td>\n",
       "      <td>0.355975</td>\n",
       "      <td>2.376013</td>\n",
       "      <td>1.272090</td>\n",
       "      <td>-0.024098</td>\n",
       "      <td>-0.566499</td>\n",
       "      <td>-0.633102</td>\n",
       "      <td>1.369654</td>\n",
       "      <td>-0.628354</td>\n",
       "    </tr>\n",
       "    <tr>\n",
       "      <th>...</th>\n",
       "      <td>...</td>\n",
       "      <td>...</td>\n",
       "      <td>...</td>\n",
       "      <td>...</td>\n",
       "      <td>...</td>\n",
       "      <td>...</td>\n",
       "      <td>...</td>\n",
       "      <td>...</td>\n",
       "      <td>...</td>\n",
       "      <td>...</td>\n",
       "      <td>...</td>\n",
       "    </tr>\n",
       "    <tr>\n",
       "      <th>174177</th>\n",
       "      <td>-0.129442</td>\n",
       "      <td>0.369342</td>\n",
       "      <td>0.266041</td>\n",
       "      <td>0.077648</td>\n",
       "      <td>-0.488691</td>\n",
       "      <td>-0.805173</td>\n",
       "      <td>0.490808</td>\n",
       "      <td>-0.566499</td>\n",
       "      <td>-0.633102</td>\n",
       "      <td>1.369654</td>\n",
       "      <td>-0.628354</td>\n",
       "    </tr>\n",
       "    <tr>\n",
       "      <th>174178</th>\n",
       "      <td>-0.319760</td>\n",
       "      <td>-0.544826</td>\n",
       "      <td>-0.347600</td>\n",
       "      <td>-0.468772</td>\n",
       "      <td>-0.488691</td>\n",
       "      <td>-1.431386</td>\n",
       "      <td>1.520620</td>\n",
       "      <td>1.765227</td>\n",
       "      <td>-0.633102</td>\n",
       "      <td>-0.730112</td>\n",
       "      <td>1.591460</td>\n",
       "    </tr>\n",
       "    <tr>\n",
       "      <th>174179</th>\n",
       "      <td>-0.208597</td>\n",
       "      <td>-0.652888</td>\n",
       "      <td>-1.259798</td>\n",
       "      <td>-0.495423</td>\n",
       "      <td>-0.488691</td>\n",
       "      <td>-0.339125</td>\n",
       "      <td>0.490808</td>\n",
       "      <td>-0.566499</td>\n",
       "      <td>-0.633102</td>\n",
       "      <td>-0.730112</td>\n",
       "      <td>-0.628354</td>\n",
       "    </tr>\n",
       "    <tr>\n",
       "      <th>174180</th>\n",
       "      <td>-0.802824</td>\n",
       "      <td>-1.139147</td>\n",
       "      <td>-0.197747</td>\n",
       "      <td>-2.235640</td>\n",
       "      <td>-0.488691</td>\n",
       "      <td>0.692306</td>\n",
       "      <td>-0.539005</td>\n",
       "      <td>-0.566499</td>\n",
       "      <td>-0.633102</td>\n",
       "      <td>1.369654</td>\n",
       "      <td>-0.628354</td>\n",
       "    </tr>\n",
       "    <tr>\n",
       "      <th>174181</th>\n",
       "      <td>-0.192929</td>\n",
       "      <td>-1.368743</td>\n",
       "      <td>-0.301553</td>\n",
       "      <td>0.653042</td>\n",
       "      <td>-0.488691</td>\n",
       "      <td>1.855963</td>\n",
       "      <td>1.005714</td>\n",
       "      <td>-0.566499</td>\n",
       "      <td>-0.633102</td>\n",
       "      <td>-0.730112</td>\n",
       "      <td>1.591460</td>\n",
       "    </tr>\n",
       "  </tbody>\n",
       "</table>\n",
       "<p>174182 rows × 11 columns</p>\n",
       "</div>"
      ],
      "text/plain": [
       "        pickup_longitude  pickup_latitude  dropoff_longitude  \\\n",
       "0              -0.931867        -0.588105          -0.935601   \n",
       "1              -0.670161        -1.020724          -0.718193   \n",
       "2              -1.182275        -0.484901           0.737241   \n",
       "3               0.203375         1.653866           0.612683   \n",
       "4               2.651872        -0.343310           0.261061   \n",
       "...                  ...              ...                ...   \n",
       "174177         -0.129442         0.369342           0.266041   \n",
       "174178         -0.319760        -0.544826          -0.347600   \n",
       "174179         -0.208597        -0.652888          -1.259798   \n",
       "174180         -0.802824        -1.139147          -0.197747   \n",
       "174181         -0.192929        -1.368743          -0.301553   \n",
       "\n",
       "        dropoff_latitude  passenger_count  distancia_viaje_en_km  \\\n",
       "0              -1.141166        -0.488691              -0.457920   \n",
       "1              -0.073995        -0.488691               0.021818   \n",
       "2               0.804764        -0.488691               1.619642   \n",
       "3               2.013422         0.943661              -0.471328   \n",
       "4               0.355975         2.376013               1.272090   \n",
       "...                  ...              ...                    ...   \n",
       "174177          0.077648        -0.488691              -0.805173   \n",
       "174178         -0.468772        -0.488691              -1.431386   \n",
       "174179         -0.495423        -0.488691              -0.339125   \n",
       "174180         -2.235640        -0.488691               0.692306   \n",
       "174181          0.653042        -0.488691               1.855963   \n",
       "\n",
       "        nro_dia_semana  rango_horario_Mañana  rango_horario_Noche  \\\n",
       "0            -0.024098             -0.566499             1.579523   \n",
       "1             0.490808             -0.566499             1.579523   \n",
       "2            -1.568817             -0.566499             1.579523   \n",
       "3             0.490808              1.765227            -0.633102   \n",
       "4            -0.024098             -0.566499            -0.633102   \n",
       "...                ...                   ...                  ...   \n",
       "174177        0.490808             -0.566499            -0.633102   \n",
       "174178        1.520620              1.765227            -0.633102   \n",
       "174179        0.490808             -0.566499            -0.633102   \n",
       "174180       -0.539005             -0.566499            -0.633102   \n",
       "174181        1.005714             -0.566499            -0.633102   \n",
       "\n",
       "        rango_horario_Tarde  fin_de_semana_Fin de semana  \n",
       "0                 -0.730112                    -0.628354  \n",
       "1                 -0.730112                    -0.628354  \n",
       "2                 -0.730112                    -0.628354  \n",
       "3                 -0.730112                    -0.628354  \n",
       "4                  1.369654                    -0.628354  \n",
       "...                     ...                          ...  \n",
       "174177             1.369654                    -0.628354  \n",
       "174178            -0.730112                     1.591460  \n",
       "174179            -0.730112                    -0.628354  \n",
       "174180             1.369654                    -0.628354  \n",
       "174181            -0.730112                     1.591460  \n",
       "\n",
       "[174182 rows x 11 columns]"
      ]
     },
     "execution_count": 134,
     "metadata": {},
     "output_type": "execute_result"
    }
   ],
   "source": [
    "df_procesado_X_std"
   ]
  },
  {
   "cell_type": "markdown",
   "metadata": {},
   "source": [
    "## PCA "
   ]
  },
  {
   "cell_type": "code",
   "execution_count": 135,
   "metadata": {},
   "outputs": [
    {
     "data": {
      "text/plain": [
       "PCA(copy=True, iterated_power='auto', n_components=None, random_state=None,\n",
       "    svd_solver='auto', tol=0.0, whiten=False)"
      ]
     },
     "execution_count": 135,
     "metadata": {},
     "output_type": "execute_result"
    }
   ],
   "source": [
    "pca = PCA()\n",
    "pca.fit(df_procesado_X_std)"
   ]
  },
  {
   "cell_type": "code",
   "execution_count": 136,
   "metadata": {},
   "outputs": [
    {
     "name": "stdout",
     "output_type": "stream",
     "text": [
      "[0.20598859 0.16486437 0.13492556 0.12134193 0.09751235 0.09015986\n",
      " 0.08002075 0.05303564 0.01994455 0.01791088 0.0142955 ]\n",
      "[0.20598859 0.37085296 0.50577852 0.62712045 0.72463281 0.81479267\n",
      " 0.89481342 0.94784906 0.96779361 0.9857045  1.        ]\n"
     ]
    }
   ],
   "source": [
    "print(pca.explained_variance_ratio_)\n",
    "print(np.cumsum(pca.explained_variance_ratio_))"
   ]
  },
  {
   "cell_type": "markdown",
   "metadata": {},
   "source": [
    "Me quedo con los primeros 7 componentes, ya que con estos explico casi el 90% de la varianza de los datos"
   ]
  },
  {
   "cell_type": "code",
   "execution_count": 137,
   "metadata": {},
   "outputs": [],
   "source": [
    "pca = PCA(n_components=7)\n",
    "X=pca.fit_transform(df_procesado_X_std)\n",
    "y=df_procesado_y"
   ]
  },
  {
   "cell_type": "markdown",
   "metadata": {},
   "source": [
    "### Hypertuning"
   ]
  },
  {
   "cell_type": "markdown",
   "metadata": {},
   "source": [
    "##### Consideraciones:\n",
    "    . Voy a analizar 3 algoritmos de regresión: árbol de decisión, random forest y k vecinos.\n",
    "    . Para cada uno de estos voy a hacer una búsqueda de hyperparametros \"óptimos\".\n",
    "    . Cómo luego los voy a evaluar al mejor modelo con RMSE, voy a comprobar con RANDOMIZEDGRIDSEARCH CV con esa    métrica."
   ]
  },
  {
   "cell_type": "markdown",
   "metadata": {},
   "source": [
    "Random Forest"
   ]
  },
  {
   "cell_type": "code",
   "execution_count": null,
   "metadata": {},
   "outputs": [],
   "source": [
    "random_forest=RandomForestRegressor()\n",
    "grid_rf={\"n_estimators\": [200,400,600,800,1000,1200,1400,1600,1800,2000],\n",
    "        \"max_depth\": [10,20,30,40,50,60,70,80,90,100,None]}\n",
    "cv=KFold(n_splits=5,shuffle=True)\n",
    "tunner_rf=RandomizedSearchCV(estimator=random_forest,n_iter=5,param_distributions=grid_rf, cv=cv,scoring=\"neg_root_mean_squared_error\",n_jobs=-1)\n",
    "_=tunner_rf.fit(X,y)"
   ]
  },
  {
   "cell_type": "markdown",
   "metadata": {},
   "source": [
    "Debido a falta de recursos en mi computadora no corro la grilla de Random Forest porque no tengo los recursos suficientes."
   ]
  },
  {
   "cell_type": "code",
   "execution_count": null,
   "metadata": {},
   "outputs": [],
   "source": [
    "tunner_rf.best_params_"
   ]
  },
  {
   "cell_type": "markdown",
   "metadata": {},
   "source": [
    "Árbol de decisión"
   ]
  },
  {
   "cell_type": "code",
   "execution_count": 138,
   "metadata": {},
   "outputs": [],
   "source": [
    "tree_regressor=DecisionTreeRegressor()\n",
    "grid_tr={\"ccp_alpha\":[0,0.05,0.10,0.15,0.20,0.25,0.30,0.35,0.40,0.45,0.50],\n",
    "        \"max_features\": [\"auto\",\"sqrt\"],\n",
    "        \"max_depth\": [10,20,30,40,50,60,70,80,90,100,None],\n",
    "        \"min_samples_split\": [2,5,10],\n",
    "        \"min_samples_leaf\": [1,2,4]}\n",
    "cv=KFold(n_splits=5,shuffle=True)\n",
    "tunner_tr=RandomizedSearchCV(estimator=tree_regressor,n_iter=100,param_distributions=grid_tr, cv=cv,scoring=\"neg_root_mean_squared_error\")\n",
    "_=tunner_tr.fit(X,y)"
   ]
  },
  {
   "cell_type": "code",
   "execution_count": 139,
   "metadata": {},
   "outputs": [
    {
     "data": {
      "text/plain": [
       "{'min_samples_split': 2,\n",
       " 'min_samples_leaf': 1,\n",
       " 'max_features': 'auto',\n",
       " 'max_depth': 100,\n",
       " 'ccp_alpha': 0.05}"
      ]
     },
     "execution_count": 139,
     "metadata": {},
     "output_type": "execute_result"
    }
   ],
   "source": [
    "tunner_tr.best_params_"
   ]
  },
  {
   "cell_type": "markdown",
   "metadata": {},
   "source": [
    "K Neighbors regressor\n"
   ]
  },
  {
   "cell_type": "code",
   "execution_count": 140,
   "metadata": {},
   "outputs": [
    {
     "name": "stderr",
     "output_type": "stream",
     "text": [
      "C:\\ProgramData\\Anaconda3\\lib\\site-packages\\sklearn\\model_selection\\_search.py:281: UserWarning: The total space of parameters 36 is smaller than n_iter=100. Running 36 iterations. For exhaustive searches, use GridSearchCV.\n",
      "  % (grid_size, self.n_iter, grid_size), UserWarning)\n"
     ]
    }
   ],
   "source": [
    "knr=KNeighborsRegressor()\n",
    "grid_knr={\"n_neighbors\":[2,3,4,5,6,7,8,9,10],\n",
    "        \"weights\": [\"uniform\",\"distance\"],\n",
    "        \"p\": [1,2]}\n",
    "cv=KFold(n_splits=5,shuffle=True)\n",
    "tunner_knr=RandomizedSearchCV(estimator=knr,n_iter=100,param_distributions=grid_knr, cv=cv,scoring=\"neg_root_mean_squared_error\")\n",
    "_=tunner_knr.fit(X,y)"
   ]
  },
  {
   "cell_type": "code",
   "execution_count": 141,
   "metadata": {},
   "outputs": [
    {
     "data": {
      "text/plain": [
       "{'weights': 'uniform', 'p': 2, 'n_neighbors': 10}"
      ]
     },
     "execution_count": 141,
     "metadata": {},
     "output_type": "execute_result"
    }
   ],
   "source": [
    "tunner_knr.best_params_"
   ]
  },
  {
   "cell_type": "markdown",
   "metadata": {},
   "source": [
    "LIGHT GBM"
   ]
  },
  {
   "cell_type": "code",
   "execution_count": 142,
   "metadata": {},
   "outputs": [],
   "source": [
    "light_gbm=LGBMRegressor()\n",
    "grid_lgbm={\"n_estimators\": [100,500,1000,5000],\n",
    "          \"max_depth\": [-1,1,3,5,10,20],\n",
    "          \"subsample\":[0.5,1],\n",
    "          \"learning_rate\":[0.001,0.01,0.1],\n",
    "          \"boosting_type\": [\"gbdt\"]}\n",
    "cv=KFold(n_splits=5,shuffle=True)\n",
    "tunner_lgbm=RandomizedSearchCV(estimator=light_gbm,n_iter=100,param_distributions=grid_lgbm, cv=cv,scoring=\"neg_root_mean_squared_error\")\n",
    "_=tunner_lgbm.fit(X,y)\n",
    "\n",
    "          "
   ]
  },
  {
   "cell_type": "code",
   "execution_count": 143,
   "metadata": {},
   "outputs": [
    {
     "data": {
      "text/plain": [
       "{'subsample': 0.5,\n",
       " 'n_estimators': 5000,\n",
       " 'max_depth': 20,\n",
       " 'learning_rate': 0.01,\n",
       " 'boosting_type': 'gbdt'}"
      ]
     },
     "execution_count": 143,
     "metadata": {},
     "output_type": "execute_result"
    }
   ],
   "source": [
    "tunner_lgbm.best_params_"
   ]
  },
  {
   "cell_type": "markdown",
   "metadata": {},
   "source": [
    "## Validación con CV "
   ]
  },
  {
   "cell_type": "markdown",
   "metadata": {},
   "source": [
    "Random Forest"
   ]
  },
  {
   "cell_type": "code",
   "execution_count": 148,
   "metadata": {},
   "outputs": [],
   "source": [
    "r_forest=RandomForestRegressor(n_estimators=100, max_depth=15,max_features=\"auto\")\n",
    "RMSE_r_forest=cross_val_score(r_forest,X,y,cv=5,scoring=\"neg_root_mean_squared_error\")\n",
    "MAE_r_forest=cross_val_score(r_forest,X,y,cv=5,scoring=\"neg_mean_absolute_error\")\n",
    "R2_r_forest=cross_val_score(r_forest,X,y,cv=5,scoring=\"r2\")"
   ]
  },
  {
   "cell_type": "markdown",
   "metadata": {},
   "source": [
    "Tree Regresor"
   ]
  },
  {
   "cell_type": "code",
   "execution_count": 144,
   "metadata": {},
   "outputs": [],
   "source": [
    "tree_regressor=DecisionTreeRegressor(min_samples_split=2,min_samples_leaf=1,max_features=\"auto\",max_depth=100,ccp_alpha=0.05)\n",
    "RMSE_tr=cross_val_score(tree_regressor,X,y,cv=5,scoring=\"neg_root_mean_squared_error\")\n",
    "MAE_tr=cross_val_score(tree_regressor,X,y,cv=5,scoring=\"neg_mean_absolute_error\")\n",
    "R2_tr=cross_val_score(tree_regressor,X,y,cv=5,scoring=\"r2\")"
   ]
  },
  {
   "cell_type": "markdown",
   "metadata": {},
   "source": [
    "K Neighbors"
   ]
  },
  {
   "cell_type": "code",
   "execution_count": 145,
   "metadata": {},
   "outputs": [],
   "source": [
    "knr=KNeighborsRegressor(weights=\"uniform\",p=2,n_neighbors=10)\n",
    "RMSE_knr=cross_val_score(knr,X,y,cv=5,scoring=\"neg_root_mean_squared_error\")\n",
    "MAE_knr=cross_val_score(knr,X,y,cv=5,scoring=\"neg_mean_absolute_error\")\n",
    "R2_knr=cross_val_score(knr,X,y,cv=5,scoring=\"r2\")"
   ]
  },
  {
   "cell_type": "markdown",
   "metadata": {},
   "source": [
    "LIGHT GBM"
   ]
  },
  {
   "cell_type": "code",
   "execution_count": 146,
   "metadata": {},
   "outputs": [],
   "source": [
    "light_gbm=LGBMRegressor(subsample=0.5,n_estimators=5000,max_depth=20,learning_rate=0.01,boosting_type=\"gbdt\")\n",
    "RMSE_lgbm=cross_val_score(light_gbm,X,y,cv=5,scoring=\"neg_root_mean_squared_error\")\n",
    "MAE_lgbm=cross_val_score(light_gbm,X,y,cv=5,scoring=\"neg_mean_absolute_error\")\n",
    "R2_lgbm=cross_val_score(light_gbm,X,y,cv=5,scoring=\"r2\")"
   ]
  },
  {
   "cell_type": "markdown",
   "metadata": {},
   "source": [
    "## Comparación de métricas de modelos "
   ]
  },
  {
   "cell_type": "markdown",
   "metadata": {},
   "source": [
    "Voy a analizar gráficamente cuál es el mejor modelo, según las diferentes métricas."
   ]
  },
  {
   "cell_type": "code",
   "execution_count": 149,
   "metadata": {},
   "outputs": [
    {
     "data": {
      "text/plain": [
       "<matplotlib.axes._subplots.AxesSubplot at 0x2113ada44c8>"
      ]
     },
     "execution_count": 149,
     "metadata": {},
     "output_type": "execute_result"
    },
    {
     "data": {
      "image/png": "[encoded data removed]",
      "text/plain": [
       "<Figure size 1080x576 with 1 Axes>"
      ]
     },
     "metadata": {
      "needs_background": "light"
     },
     "output_type": "display_data"
    }
   ],
   "source": [
    "plot_data=pd.DataFrame({\n",
    "    \"RMSE\": [np.absolute(np.mean(RMSE_r_forest)),np.absolute(np.mean(RMSE_tr)),np.absolute(np.mean(RMSE_knr)),np.absolute(np.mean(RMSE_lgbm))],\n",
    "    \"MAE\": [np.absolute(np.mean(MAE_r_forest)),np.absolute(np.mean(MAE_tr)),np.absolute(np.mean(MAE_knr)),np.absolute(np.mean(MAE_lgbm))],\n",
    "    \"R2\": [np.absolute(np.mean(R2_r_forest)),np.absolute(np.mean(R2_tr)),np.absolute(np.mean(R2_knr)),np.absolute(np.mean(R2_lgbm))]},\n",
    "    index=[\"Random Forest\",\"Tree Regressor\",\"K Neighbors\", \"Light GBM\"])\n",
    "plot_data.plot(kind=\"bar\", figsize=(15,8))\n"
   ]
  },
  {
   "cell_type": "code",
   "execution_count": 150,
   "metadata": {},
   "outputs": [
    {
     "data": {
      "text/html": [
       "<div>\n",
       "<style scoped>\n",
       "    .dataframe tbody tr th:only-of-type {\n",
       "        vertical-align: middle;\n",
       "    }\n",
       "\n",
       "    .dataframe tbody tr th {\n",
       "        vertical-align: top;\n",
       "    }\n",
       "\n",
       "    .dataframe thead th {\n",
       "        text-align: right;\n",
       "    }\n",
       "</style>\n",
       "<table border=\"1\" class=\"dataframe\">\n",
       "  <thead>\n",
       "    <tr style=\"text-align: right;\">\n",
       "      <th></th>\n",
       "      <th>RMSE</th>\n",
       "      <th>MAE</th>\n",
       "      <th>R2</th>\n",
       "    </tr>\n",
       "  </thead>\n",
       "  <tbody>\n",
       "    <tr>\n",
       "      <th>Random Forest</th>\n",
       "      <td>2.166699</td>\n",
       "      <td>1.545486</td>\n",
       "      <td>0.700634</td>\n",
       "    </tr>\n",
       "    <tr>\n",
       "      <th>Tree Regressor</th>\n",
       "      <td>2.518301</td>\n",
       "      <td>1.879143</td>\n",
       "      <td>0.595629</td>\n",
       "    </tr>\n",
       "    <tr>\n",
       "      <th>K Neighbors</th>\n",
       "      <td>2.233082</td>\n",
       "      <td>1.597305</td>\n",
       "      <td>0.682020</td>\n",
       "    </tr>\n",
       "    <tr>\n",
       "      <th>Light GBM</th>\n",
       "      <td>2.155999</td>\n",
       "      <td>1.531472</td>\n",
       "      <td>0.703602</td>\n",
       "    </tr>\n",
       "  </tbody>\n",
       "</table>\n",
       "</div>"
      ],
      "text/plain": [
       "                    RMSE       MAE        R2\n",
       "Random Forest   2.166699  1.545486  0.700634\n",
       "Tree Regressor  2.518301  1.879143  0.595629\n",
       "K Neighbors     2.233082  1.597305  0.682020\n",
       "Light GBM       2.155999  1.531472  0.703602"
      ]
     },
     "execution_count": 150,
     "metadata": {},
     "output_type": "execute_result"
    }
   ],
   "source": [
    "plot_data"
   ]
  },
  {
   "cell_type": "markdown",
   "metadata": {},
   "source": [
    "### Se puede afirmar que el mejor modelo, para todas las métricas, es el Light GBM según las condiciones dadas"
   ]
  },
  {
   "cell_type": "code",
   "execution_count": null,
   "metadata": {},
   "outputs": [],
   "source": []
  }
 ],
 "metadata": {
  "kernelspec": {
   "display_name": "Python 3",
   "language": "python",
   "name": "python3"
  },
  "language_info": {
   "codemirror_mode": {
    "name": "ipython",
    "version": 3
   },
   "file_extension": ".py",
   "mimetype": "text/x-python",
   "name": "python",
   "nbconvert_exporter": "python",
   "pygments_lexer": "ipython3",
   "version": "3.7.6"
  }
 },
 "nbformat": 4,
 "nbformat_minor": 4
}
